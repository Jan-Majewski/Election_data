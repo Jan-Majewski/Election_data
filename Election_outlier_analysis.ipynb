{
 "cells": [
  {
   "cell_type": "code",
   "execution_count": 3,
   "metadata": {},
   "outputs": [],
   "source": [
    "import numpy as np\n",
    "import pandas as pd"
   ]
  },
  {
   "cell_type": "markdown",
   "metadata": {},
   "source": [
    "# Data import"
   ]
  },
  {
   "cell_type": "code",
   "execution_count": 108,
   "metadata": {},
   "outputs": [],
   "source": [
    "df2020_base=pd.read_excel(\"election_results_2015_to_2020.xlsx\", sheet_name=\"2020\")"
   ]
  },
  {
   "cell_type": "code",
   "execution_count": 109,
   "metadata": {},
   "outputs": [],
   "source": [
    "df2019_base=pd.read_excel(\"election_results_2015_to_2020.xlsx\", sheet_name=\"2019\")"
   ]
  },
  {
   "cell_type": "code",
   "execution_count": 110,
   "metadata": {},
   "outputs": [],
   "source": [
    "df2015_base=pd.read_excel(\"election_results_2015_to_2020.xlsx\", sheet_name=\"2015\")"
   ]
  },
  {
   "cell_type": "code",
   "execution_count": 113,
   "metadata": {},
   "outputs": [
    {
     "data": {
      "text/html": [
       "<div>\n",
       "<style scoped>\n",
       "    .dataframe tbody tr th:only-of-type {\n",
       "        vertical-align: middle;\n",
       "    }\n",
       "\n",
       "    .dataframe tbody tr th {\n",
       "        vertical-align: top;\n",
       "    }\n",
       "\n",
       "    .dataframe thead th {\n",
       "        text-align: right;\n",
       "    }\n",
       "</style>\n",
       "<table border=\"1\" class=\"dataframe\">\n",
       "  <thead>\n",
       "    <tr style=\"text-align: right;\">\n",
       "      <th></th>\n",
       "      <th>Symbol kontrolny</th>\n",
       "      <th>Nr OKW</th>\n",
       "      <th>Kod TERYT</th>\n",
       "      <th>Typ gminy</th>\n",
       "      <th>Numer obwodu</th>\n",
       "      <th>Typ obszaru</th>\n",
       "      <th>Typ obwodu</th>\n",
       "      <th>Siedziba</th>\n",
       "      <th>Gmina</th>\n",
       "      <th>Powiat</th>\n",
       "      <th>...</th>\n",
       "      <th>Krzysztof BOSAK</th>\n",
       "      <th>Andrzej Sebastian DUDA</th>\n",
       "      <th>Szymon Franciszek HOŁOWNIA</th>\n",
       "      <th>Marek JAKUBIAK</th>\n",
       "      <th>Władysław Marcin KOSINIAK-KAMYSZ</th>\n",
       "      <th>Mirosław Mariusz PIOTROWSKI</th>\n",
       "      <th>Paweł Jan TANAJNO</th>\n",
       "      <th>Rafał Kazimierz TRZASKOWSKI</th>\n",
       "      <th>Waldemar Włodzimierz WITKOWSKI</th>\n",
       "      <th>Stanisław Józef ŻÓŁTEK</th>\n",
       "    </tr>\n",
       "  </thead>\n",
       "  <tbody>\n",
       "    <tr>\n",
       "      <th>0</th>\n",
       "      <td>9924-e2c7-444e-4601-e5ef-60b9-f73d-d8ba</td>\n",
       "      <td>2.0</td>\n",
       "      <td>20101.0</td>\n",
       "      <td>gmina miejska</td>\n",
       "      <td>1</td>\n",
       "      <td>miasto</td>\n",
       "      <td>stały</td>\n",
       "      <td>Szkoła Podstawowa Nr 3, ul. Ceramiczna 5, 59-7...</td>\n",
       "      <td>m. Bolesławiec</td>\n",
       "      <td>bolesławiecki</td>\n",
       "      <td>...</td>\n",
       "      <td>70</td>\n",
       "      <td>367</td>\n",
       "      <td>164</td>\n",
       "      <td>2</td>\n",
       "      <td>15</td>\n",
       "      <td>1</td>\n",
       "      <td>3</td>\n",
       "      <td>338</td>\n",
       "      <td>1</td>\n",
       "      <td>2</td>\n",
       "    </tr>\n",
       "    <tr>\n",
       "      <th>1</th>\n",
       "      <td>9219-f878-5ef7-3ad1-a3c7-d301-7c41-1eed</td>\n",
       "      <td>2.0</td>\n",
       "      <td>20101.0</td>\n",
       "      <td>gmina miejska</td>\n",
       "      <td>2</td>\n",
       "      <td>miasto</td>\n",
       "      <td>stały</td>\n",
       "      <td>Szkoła Podstawowa Nr 3, ul. Ceramiczna 5, 59-7...</td>\n",
       "      <td>m. Bolesławiec</td>\n",
       "      <td>bolesławiecki</td>\n",
       "      <td>...</td>\n",
       "      <td>62</td>\n",
       "      <td>311</td>\n",
       "      <td>136</td>\n",
       "      <td>2</td>\n",
       "      <td>15</td>\n",
       "      <td>3</td>\n",
       "      <td>3</td>\n",
       "      <td>365</td>\n",
       "      <td>1</td>\n",
       "      <td>4</td>\n",
       "    </tr>\n",
       "    <tr>\n",
       "      <th>2</th>\n",
       "      <td>d0a4-75ae-b6b2-687c-05c7-7425-1924-887c</td>\n",
       "      <td>2.0</td>\n",
       "      <td>20101.0</td>\n",
       "      <td>gmina miejska</td>\n",
       "      <td>3</td>\n",
       "      <td>miasto</td>\n",
       "      <td>stały</td>\n",
       "      <td>Szkoła Podstawowa Nr 5, ul. Dolne Młyny 60, 59...</td>\n",
       "      <td>m. Bolesławiec</td>\n",
       "      <td>bolesławiecki</td>\n",
       "      <td>...</td>\n",
       "      <td>66</td>\n",
       "      <td>326</td>\n",
       "      <td>176</td>\n",
       "      <td>0</td>\n",
       "      <td>9</td>\n",
       "      <td>0</td>\n",
       "      <td>0</td>\n",
       "      <td>300</td>\n",
       "      <td>1</td>\n",
       "      <td>5</td>\n",
       "    </tr>\n",
       "    <tr>\n",
       "      <th>3</th>\n",
       "      <td>4e0f-2556-4a20-4e58-4172-f050-8658-3425</td>\n",
       "      <td>2.0</td>\n",
       "      <td>20101.0</td>\n",
       "      <td>gmina miejska</td>\n",
       "      <td>4</td>\n",
       "      <td>miasto</td>\n",
       "      <td>stały</td>\n",
       "      <td>Szkoła Podstawowa Nr 5, ul. Dolne Młyny 60, 59...</td>\n",
       "      <td>m. Bolesławiec</td>\n",
       "      <td>bolesławiecki</td>\n",
       "      <td>...</td>\n",
       "      <td>75</td>\n",
       "      <td>329</td>\n",
       "      <td>159</td>\n",
       "      <td>2</td>\n",
       "      <td>12</td>\n",
       "      <td>2</td>\n",
       "      <td>0</td>\n",
       "      <td>363</td>\n",
       "      <td>0</td>\n",
       "      <td>1</td>\n",
       "    </tr>\n",
       "    <tr>\n",
       "      <th>4</th>\n",
       "      <td>29a2-2044-ee58-5a3e-aabf-8b5e-0fdd-049b</td>\n",
       "      <td>2.0</td>\n",
       "      <td>20101.0</td>\n",
       "      <td>gmina miejska</td>\n",
       "      <td>5</td>\n",
       "      <td>miasto</td>\n",
       "      <td>stały</td>\n",
       "      <td>Szkoła Podstawowa Nr 5, ul. Dolne Młyny 60, 59...</td>\n",
       "      <td>m. Bolesławiec</td>\n",
       "      <td>bolesławiecki</td>\n",
       "      <td>...</td>\n",
       "      <td>52</td>\n",
       "      <td>304</td>\n",
       "      <td>125</td>\n",
       "      <td>5</td>\n",
       "      <td>9</td>\n",
       "      <td>1</td>\n",
       "      <td>0</td>\n",
       "      <td>326</td>\n",
       "      <td>2</td>\n",
       "      <td>1</td>\n",
       "    </tr>\n",
       "  </tbody>\n",
       "</table>\n",
       "<p>5 rows × 44 columns</p>\n",
       "</div>"
      ],
      "text/plain": [
       "                          Symbol kontrolny  Nr OKW  Kod TERYT      Typ gminy  \\\n",
       "0  9924-e2c7-444e-4601-e5ef-60b9-f73d-d8ba     2.0    20101.0  gmina miejska   \n",
       "1  9219-f878-5ef7-3ad1-a3c7-d301-7c41-1eed     2.0    20101.0  gmina miejska   \n",
       "2  d0a4-75ae-b6b2-687c-05c7-7425-1924-887c     2.0    20101.0  gmina miejska   \n",
       "3  4e0f-2556-4a20-4e58-4172-f050-8658-3425     2.0    20101.0  gmina miejska   \n",
       "4  29a2-2044-ee58-5a3e-aabf-8b5e-0fdd-049b     2.0    20101.0  gmina miejska   \n",
       "\n",
       "   Numer obwodu Typ obszaru Typ obwodu  \\\n",
       "0             1      miasto      stały   \n",
       "1             2      miasto      stały   \n",
       "2             3      miasto      stały   \n",
       "3             4      miasto      stały   \n",
       "4             5      miasto      stały   \n",
       "\n",
       "                                            Siedziba           Gmina  \\\n",
       "0  Szkoła Podstawowa Nr 3, ul. Ceramiczna 5, 59-7...  m. Bolesławiec   \n",
       "1  Szkoła Podstawowa Nr 3, ul. Ceramiczna 5, 59-7...  m. Bolesławiec   \n",
       "2  Szkoła Podstawowa Nr 5, ul. Dolne Młyny 60, 59...  m. Bolesławiec   \n",
       "3  Szkoła Podstawowa Nr 5, ul. Dolne Młyny 60, 59...  m. Bolesławiec   \n",
       "4  Szkoła Podstawowa Nr 5, ul. Dolne Młyny 60, 59...  m. Bolesławiec   \n",
       "\n",
       "          Powiat  ... Krzysztof BOSAK Andrzej Sebastian DUDA  \\\n",
       "0  bolesławiecki  ...              70                    367   \n",
       "1  bolesławiecki  ...              62                    311   \n",
       "2  bolesławiecki  ...              66                    326   \n",
       "3  bolesławiecki  ...              75                    329   \n",
       "4  bolesławiecki  ...              52                    304   \n",
       "\n",
       "  Szymon Franciszek HOŁOWNIA Marek JAKUBIAK Władysław Marcin KOSINIAK-KAMYSZ  \\\n",
       "0                        164              2                               15   \n",
       "1                        136              2                               15   \n",
       "2                        176              0                                9   \n",
       "3                        159              2                               12   \n",
       "4                        125              5                                9   \n",
       "\n",
       "  Mirosław Mariusz PIOTROWSKI Paweł Jan TANAJNO Rafał Kazimierz TRZASKOWSKI  \\\n",
       "0                           1                 3                         338   \n",
       "1                           3                 3                         365   \n",
       "2                           0                 0                         300   \n",
       "3                           2                 0                         363   \n",
       "4                           1                 0                         326   \n",
       "\n",
       "  Waldemar Włodzimierz WITKOWSKI Stanisław Józef ŻÓŁTEK  \n",
       "0                              1                      2  \n",
       "1                              1                      4  \n",
       "2                              1                      5  \n",
       "3                              0                      1  \n",
       "4                              2                      1  \n",
       "\n",
       "[5 rows x 44 columns]"
      ]
     },
     "execution_count": 113,
     "metadata": {},
     "output_type": "execute_result"
    }
   ],
   "source": [
    "df2020_base.head()"
   ]
  },
  {
   "cell_type": "markdown",
   "metadata": {},
   "source": [
    "## 2020 presidential election data transformation"
   ]
  },
  {
   "cell_type": "code",
   "execution_count": 202,
   "metadata": {},
   "outputs": [
    {
     "data": {
      "text/plain": [
       "Index(['Symbol kontrolny', 'Nr OKW', 'Kod TERYT', 'Typ gminy', 'Numer obwodu',\n",
       "       'Typ obszaru', 'Typ obwodu', 'Siedziba', 'Gmina', 'Powiat',\n",
       "       'Województwo', 'Komisje obwodowe otrzymały kart do głosowania',\n",
       "       'Liczba wyborców uprawnionych do głosowania',\n",
       "       'Nie wykorzystano kart do głosowania',\n",
       "       'Liczba wyborców, którym wydano karty do głosowania',\n",
       "       'Liczba wyborców głosujących przez pełnomocnika',\n",
       "       'Liczba wyborców głosujących na podstawie zaświadczenia o prawie do głosowania',\n",
       "       'Liczba wyborców, którym wysłano pakiety wyborcze',\n",
       "       'Liczba otrzymanych kopert zwrotnych',\n",
       "       'Liczba kopert zwrotnych, w których nie było oświadczenia o osobistym i tajnym oddaniu głosu',\n",
       "       'Liczba kopert zwrotnych, w których oświadczenie nie było podpisane',\n",
       "       'Liczba kopert zwrotnych, w których nie było koperty na kartę do głosowania',\n",
       "       'Liczba kopert zwrotnych, w których znajdowała się niezaklejona koperta na kartę do głosowania',\n",
       "       'Liczba kopert na kartę do głosowania wrzuconych do urny',\n",
       "       'Liczba kart wyjętych z urny',\n",
       "       'W tym liczba kart wyjętych z kopert na kartę do głosowania',\n",
       "       'Liczba kart nieważnych', 'Liczba kart ważnych',\n",
       "       'Liczba głosów nieważnych',\n",
       "       'W tym z powodu postawienia znaku „X” obok nazwiska dwóch lub większej liczby kandydatów',\n",
       "       'W tym z powodu niepostawienia znaku „X” obok nazwiska żadnego kandydata',\n",
       "       'W tym z powodu postawienia znaku „X” wyłącznie obok skreślonego nazwiska kandydata',\n",
       "       'Liczba głosów ważnych oddanych łącznie na wszystkich kandydatów',\n",
       "       'Robert BIEDROŃ', 'Krzysztof BOSAK', 'Andrzej Sebastian DUDA',\n",
       "       'Szymon Franciszek HOŁOWNIA', 'Marek JAKUBIAK',\n",
       "       'Władysław Marcin KOSINIAK-KAMYSZ', 'Mirosław Mariusz PIOTROWSKI',\n",
       "       'Paweł Jan TANAJNO', 'Rafał Kazimierz TRZASKOWSKI',\n",
       "       'Waldemar Włodzimierz WITKOWSKI', 'Stanisław Józef ŻÓŁTEK'],\n",
       "      dtype='object')"
      ]
     },
     "execution_count": 202,
     "metadata": {},
     "output_type": "execute_result"
    }
   ],
   "source": [
    "df2020_base.columns"
   ]
  },
  {
   "cell_type": "code",
   "execution_count": 203,
   "metadata": {},
   "outputs": [],
   "source": [
    "columns2020= ['Nr OKW', 'Kod TERYT', 'Typ gminy', 'Numer obwodu',\n",
    "       'Typ obszaru',  'Siedziba', 'Gmina', 'Powiat',\n",
    "       'Województwo',\n",
    "       'Liczba wyborców uprawnionych do głosowania',       \n",
    "       'Liczba kart ważnych',\n",
    "       'Liczba głosów nieważnych',\n",
    "       'Andrzej Sebastian DUDA']"
   ]
  },
  {
   "cell_type": "code",
   "execution_count": 204,
   "metadata": {},
   "outputs": [],
   "source": [
    "columns2020_dict={\n",
    "    'Nr OKW':\"DEC_no\", \n",
    "    'Kod TERYT':\"teritorial_code\",\n",
    "    'Typ gminy':\"municipality_type\",\n",
    "    'Numer obwodu':\"voting_region_no\",\n",
    "    'Typ obszaru':\"area_type\",\n",
    "    \"Siedziba\":\"Location\",\n",
    "    'Gmina':\"municipality\", \n",
    "    'Powiat':\"county\",\n",
    "    'Województwo':\"province\",\n",
    "    'Liczba wyborców uprawnionych do głosowania':\"entitled_to_vote_2020\",       \n",
    "    'Liczba kart ważnych':\"valid_votes_2020\",\n",
    "    'Liczba głosów nieważnych':\"invalid_votes_2020\",\n",
    "    'Andrzej Sebastian DUDA':\"PiS_votes_2020\"\n",
    "    \n",
    "}"
   ]
  },
  {
   "cell_type": "code",
   "execution_count": 205,
   "metadata": {},
   "outputs": [],
   "source": [
    "df2020=df2020_base[columns2020]"
   ]
  },
  {
   "cell_type": "code",
   "execution_count": 206,
   "metadata": {},
   "outputs": [
    {
     "name": "stderr",
     "output_type": "stream",
     "text": [
      "E:\\Anaconda\\lib\\site-packages\\pandas\\core\\frame.py:4133: SettingWithCopyWarning: \n",
      "A value is trying to be set on a copy of a slice from a DataFrame\n",
      "\n",
      "See the caveats in the documentation: https://pandas.pydata.org/pandas-docs/stable/user_guide/indexing.html#returning-a-view-versus-a-copy\n",
      "  errors=errors,\n"
     ]
    }
   ],
   "source": [
    "df2020.rename(columns=columns2020_dict, inplace=True)"
   ]
  },
  {
   "cell_type": "code",
   "execution_count": 207,
   "metadata": {},
   "outputs": [
    {
     "name": "stderr",
     "output_type": "stream",
     "text": [
      "E:\\Anaconda\\lib\\site-packages\\ipykernel_launcher.py:1: SettingWithCopyWarning: \n",
      "A value is trying to be set on a copy of a slice from a DataFrame\n",
      "\n",
      "See the caveats in the documentation: https://pandas.pydata.org/pandas-docs/stable/user_guide/indexing.html#returning-a-view-versus-a-copy\n",
      "  \"\"\"Entry point for launching an IPython kernel.\n",
      "E:\\Anaconda\\lib\\site-packages\\ipykernel_launcher.py:2: SettingWithCopyWarning: \n",
      "A value is trying to be set on a copy of a slice from a DataFrame.\n",
      "Try using .loc[row_indexer,col_indexer] = value instead\n",
      "\n",
      "See the caveats in the documentation: https://pandas.pydata.org/pandas-docs/stable/user_guide/indexing.html#returning-a-view-versus-a-copy\n",
      "  \n"
     ]
    }
   ],
   "source": [
    "df2020.dropna(inplace=True)\n",
    "df2020[\"non_PiS_votes_2020\"]=pd.to_numeric(df2020[\"valid_votes_2020\"])-pd.to_numeric(df2020[\"PiS_votes_2020\"])"
   ]
  },
  {
   "cell_type": "code",
   "execution_count": 208,
   "metadata": {},
   "outputs": [
    {
     "data": {
      "text/html": [
       "<div>\n",
       "<style scoped>\n",
       "    .dataframe tbody tr th:only-of-type {\n",
       "        vertical-align: middle;\n",
       "    }\n",
       "\n",
       "    .dataframe tbody tr th {\n",
       "        vertical-align: top;\n",
       "    }\n",
       "\n",
       "    .dataframe thead th {\n",
       "        text-align: right;\n",
       "    }\n",
       "</style>\n",
       "<table border=\"1\" class=\"dataframe\">\n",
       "  <thead>\n",
       "    <tr style=\"text-align: right;\">\n",
       "      <th></th>\n",
       "      <th>DEC_no</th>\n",
       "      <th>teritorial_code</th>\n",
       "      <th>municipality_type</th>\n",
       "      <th>voting_region_no</th>\n",
       "      <th>area_type</th>\n",
       "      <th>Location</th>\n",
       "      <th>municipality</th>\n",
       "      <th>county</th>\n",
       "      <th>province</th>\n",
       "      <th>entitled_to_vote_2020</th>\n",
       "      <th>valid_votes_2020</th>\n",
       "      <th>invalid_votes_2020</th>\n",
       "      <th>PiS_votes_2020</th>\n",
       "      <th>non_PiS_votes_2020</th>\n",
       "    </tr>\n",
       "  </thead>\n",
       "  <tbody>\n",
       "    <tr>\n",
       "      <th>0</th>\n",
       "      <td>2.0</td>\n",
       "      <td>20101.0</td>\n",
       "      <td>gmina miejska</td>\n",
       "      <td>1</td>\n",
       "      <td>miasto</td>\n",
       "      <td>Szkoła Podstawowa Nr 3, ul. Ceramiczna 5, 59-7...</td>\n",
       "      <td>m. Bolesławiec</td>\n",
       "      <td>bolesławiecki</td>\n",
       "      <td>dolnośląskie</td>\n",
       "      <td>1553</td>\n",
       "      <td>983</td>\n",
       "      <td>1</td>\n",
       "      <td>367</td>\n",
       "      <td>616</td>\n",
       "    </tr>\n",
       "    <tr>\n",
       "      <th>1</th>\n",
       "      <td>2.0</td>\n",
       "      <td>20101.0</td>\n",
       "      <td>gmina miejska</td>\n",
       "      <td>2</td>\n",
       "      <td>miasto</td>\n",
       "      <td>Szkoła Podstawowa Nr 3, ul. Ceramiczna 5, 59-7...</td>\n",
       "      <td>m. Bolesławiec</td>\n",
       "      <td>bolesławiecki</td>\n",
       "      <td>dolnośląskie</td>\n",
       "      <td>1346</td>\n",
       "      <td>919</td>\n",
       "      <td>0</td>\n",
       "      <td>311</td>\n",
       "      <td>608</td>\n",
       "    </tr>\n",
       "    <tr>\n",
       "      <th>2</th>\n",
       "      <td>2.0</td>\n",
       "      <td>20101.0</td>\n",
       "      <td>gmina miejska</td>\n",
       "      <td>3</td>\n",
       "      <td>miasto</td>\n",
       "      <td>Szkoła Podstawowa Nr 5, ul. Dolne Młyny 60, 59...</td>\n",
       "      <td>m. Bolesławiec</td>\n",
       "      <td>bolesławiecki</td>\n",
       "      <td>dolnośląskie</td>\n",
       "      <td>1414</td>\n",
       "      <td>904</td>\n",
       "      <td>2</td>\n",
       "      <td>326</td>\n",
       "      <td>578</td>\n",
       "    </tr>\n",
       "    <tr>\n",
       "      <th>3</th>\n",
       "      <td>2.0</td>\n",
       "      <td>20101.0</td>\n",
       "      <td>gmina miejska</td>\n",
       "      <td>4</td>\n",
       "      <td>miasto</td>\n",
       "      <td>Szkoła Podstawowa Nr 5, ul. Dolne Młyny 60, 59...</td>\n",
       "      <td>m. Bolesławiec</td>\n",
       "      <td>bolesławiecki</td>\n",
       "      <td>dolnośląskie</td>\n",
       "      <td>1413</td>\n",
       "      <td>962</td>\n",
       "      <td>1</td>\n",
       "      <td>329</td>\n",
       "      <td>633</td>\n",
       "    </tr>\n",
       "    <tr>\n",
       "      <th>4</th>\n",
       "      <td>2.0</td>\n",
       "      <td>20101.0</td>\n",
       "      <td>gmina miejska</td>\n",
       "      <td>5</td>\n",
       "      <td>miasto</td>\n",
       "      <td>Szkoła Podstawowa Nr 5, ul. Dolne Młyny 60, 59...</td>\n",
       "      <td>m. Bolesławiec</td>\n",
       "      <td>bolesławiecki</td>\n",
       "      <td>dolnośląskie</td>\n",
       "      <td>1360</td>\n",
       "      <td>840</td>\n",
       "      <td>2</td>\n",
       "      <td>304</td>\n",
       "      <td>536</td>\n",
       "    </tr>\n",
       "  </tbody>\n",
       "</table>\n",
       "</div>"
      ],
      "text/plain": [
       "   DEC_no  teritorial_code municipality_type  voting_region_no area_type  \\\n",
       "0     2.0          20101.0     gmina miejska                 1    miasto   \n",
       "1     2.0          20101.0     gmina miejska                 2    miasto   \n",
       "2     2.0          20101.0     gmina miejska                 3    miasto   \n",
       "3     2.0          20101.0     gmina miejska                 4    miasto   \n",
       "4     2.0          20101.0     gmina miejska                 5    miasto   \n",
       "\n",
       "                                            Location    municipality  \\\n",
       "0  Szkoła Podstawowa Nr 3, ul. Ceramiczna 5, 59-7...  m. Bolesławiec   \n",
       "1  Szkoła Podstawowa Nr 3, ul. Ceramiczna 5, 59-7...  m. Bolesławiec   \n",
       "2  Szkoła Podstawowa Nr 5, ul. Dolne Młyny 60, 59...  m. Bolesławiec   \n",
       "3  Szkoła Podstawowa Nr 5, ul. Dolne Młyny 60, 59...  m. Bolesławiec   \n",
       "4  Szkoła Podstawowa Nr 5, ul. Dolne Młyny 60, 59...  m. Bolesławiec   \n",
       "\n",
       "          county      province entitled_to_vote_2020 valid_votes_2020  \\\n",
       "0  bolesławiecki  dolnośląskie                  1553              983   \n",
       "1  bolesławiecki  dolnośląskie                  1346              919   \n",
       "2  bolesławiecki  dolnośląskie                  1414              904   \n",
       "3  bolesławiecki  dolnośląskie                  1413              962   \n",
       "4  bolesławiecki  dolnośląskie                  1360              840   \n",
       "\n",
       "  invalid_votes_2020 PiS_votes_2020  non_PiS_votes_2020  \n",
       "0                  1            367                 616  \n",
       "1                  0            311                 608  \n",
       "2                  2            326                 578  \n",
       "3                  1            329                 633  \n",
       "4                  2            304                 536  "
      ]
     },
     "execution_count": 208,
     "metadata": {},
     "output_type": "execute_result"
    }
   ],
   "source": [
    "df2020.head()"
   ]
  },
  {
   "cell_type": "code",
   "execution_count": 209,
   "metadata": {},
   "outputs": [],
   "source": [
    "df2020.to_csv(\"2020_results.csv\")"
   ]
  },
  {
   "cell_type": "markdown",
   "metadata": {},
   "source": [
    "## 2019 parliament election data transformation"
   ]
  },
  {
   "cell_type": "code",
   "execution_count": 210,
   "metadata": {},
   "outputs": [
    {
     "data": {
      "text/plain": [
       "Index(['Symbol kontrolny', 'Kod TERYT', 'Okręg', 'Numer', 'Typ obszaru',\n",
       "       'Typ obwodu', 'Siedziba', 'Gmina', 'Powiat', 'Województwo',\n",
       "       'Komisja otrzymała kart do głosowania',\n",
       "       'Liczba wyborców uprawnionych do głosowania',\n",
       "       'Nie wykorzystano kart do głosowania',\n",
       "       'Liczba wyborców, którym wydano karty do głosowania',\n",
       "       'Liczba wyborców głosujących przez pełnomocnika',\n",
       "       'Liczba wyborców głosujących na podstawie zaświadczenia o prawie do głosowania',\n",
       "       'Liczba wyborców, którym wysłano pakiety wyborcze',\n",
       "       'Liczba otrzymanych kopert zwrotnych',\n",
       "       'Liczba kopert zwrotnych, w których nie było oświadczenia o osobistym i tajnym oddaniu głosu',\n",
       "       'Liczba kopert zwrotnych, w których oświadczenie nie było podpisane',\n",
       "       'Liczba kopert zwrotnych, w których nie było koperty na kartę do głosowania',\n",
       "       'Liczba kopert zwrotnych, w których znajdowała się niezaklejona koperta na kartę do głosowania',\n",
       "       'Liczba kopert na kartę do głosowania wrzuconych do urny',\n",
       "       'Liczba kart wyjętych z urny',\n",
       "       'W tym liczba kart wyjętych z kopert na kartę do głosowania',\n",
       "       'Liczba kart nieważnych', 'Liczba kart ważnych',\n",
       "       'Liczba głosów nieważnych',\n",
       "       'W tym z powodu postawienia znaku „X” obok nazwiska dwóch lub większej liczby kandydatów z różnych list',\n",
       "       'W tym z powodu niepostawienia znaku „X” obok nazwiska żadnego kandydata',\n",
       "       'W tym z powodu postawienia znaku „X” wyłącznie obok nazwiska kandydata na liście, której rejestracja została unieważniona',\n",
       "       'Liczba głosów ważnych oddanych łącznie na wszystkie listy kandydatów',\n",
       "       'KOALICYJNY KOMITET WYBORCZY KOALICJA OBYWATELSKA PO .N IPL ZIELONI - ZPOW-601-6/19',\n",
       "       'KOMITET WYBORCZY AKCJA ZAWIEDZIONYCH EMERYTÓW RENCISTÓW - ZPOW-601-21/19',\n",
       "       'KOMITET WYBORCZY KONFEDERACJA WOLNOŚĆ I NIEPODLEGŁOŚĆ - ZPOW-601-5/19',\n",
       "       'KOMITET WYBORCZY POLSKIE STRONNICTWO LUDOWE - ZPOW-601-19/19',\n",
       "       'KOMITET WYBORCZY PRAWICA - ZPOW-601-20/19',\n",
       "       'KOMITET WYBORCZY PRAWO I SPRAWIEDLIWOŚĆ - ZPOW-601-9/19',\n",
       "       'KOMITET WYBORCZY SKUTECZNI PIOTRA LIROYA-MARCA - ZPOW-601-17/19',\n",
       "       'KOMITET WYBORCZY SOJUSZ LEWICY DEMOKRATYCZNEJ - ZPOW-601-1/19',\n",
       "       'KOMITET WYBORCZY WYBORCÓW KOALICJA BEZPARTYJNI I SAMORZĄDOWCY - ZPOW-601-10/19',\n",
       "       'KOMITET WYBORCZY WYBORCÓW MNIEJSZOŚĆ NIEMIECKA - ZPOW-601-15/19'],\n",
       "      dtype='object')"
      ]
     },
     "execution_count": 210,
     "metadata": {},
     "output_type": "execute_result"
    }
   ],
   "source": [
    "df2019_base.columns"
   ]
  },
  {
   "cell_type": "code",
   "execution_count": 211,
   "metadata": {},
   "outputs": [],
   "source": [
    "columns2019= ['Okręg', 'Kod TERYT', 'Numer',\n",
    "       'Siedziba', 'Gmina', 'Powiat',\n",
    "       'Województwo',\n",
    "       'Liczba wyborców uprawnionych do głosowania',       \n",
    "       'Liczba kart ważnych',\n",
    "       'Liczba głosów nieważnych',\n",
    "        'KOMITET WYBORCZY PRAWO I SPRAWIEDLIWOŚĆ - ZPOW-601-9/19']"
   ]
  },
  {
   "cell_type": "code",
   "execution_count": 212,
   "metadata": {},
   "outputs": [],
   "source": [
    "columns2019_dict={\n",
    "    'Okręg':\"DEC_no\", \n",
    "    'Kod TERYT':\"teritorial_code\",\n",
    "    'Numer':\"voting_region_no\",\n",
    "    'Typ obszaru':\"area_type\",\n",
    "    'Gmina':\"municipality\", \n",
    "    \"Siedziba\":\"Location\",\n",
    "    'Powiat':\"county\",\n",
    "    'Województwo':\"province\",\n",
    "    'Liczba wyborców uprawnionych do głosowania':\"entitled_to_vote_2019\",       \n",
    "    'Liczba kart ważnych':\"valid_votes_2019\",\n",
    "    'Liczba głosów nieważnych':\"invalid_votes_2019\",\n",
    "    'KOMITET WYBORCZY PRAWO I SPRAWIEDLIWOŚĆ - ZPOW-601-9/19':\"PiS_votes_2019\"\n",
    "    \n",
    "}"
   ]
  },
  {
   "cell_type": "code",
   "execution_count": 216,
   "metadata": {},
   "outputs": [],
   "source": [
    "df2019=df2019_base[columns2019]"
   ]
  },
  {
   "cell_type": "code",
   "execution_count": 219,
   "metadata": {},
   "outputs": [],
   "source": [
    "df2019.rename(columns=columns2019_dict,inplace=True)"
   ]
  },
  {
   "cell_type": "code",
   "execution_count": 220,
   "metadata": {},
   "outputs": [
    {
     "name": "stderr",
     "output_type": "stream",
     "text": [
      "E:\\Anaconda\\lib\\site-packages\\ipykernel_launcher.py:1: SettingWithCopyWarning: \n",
      "A value is trying to be set on a copy of a slice from a DataFrame\n",
      "\n",
      "See the caveats in the documentation: https://pandas.pydata.org/pandas-docs/stable/user_guide/indexing.html#returning-a-view-versus-a-copy\n",
      "  \"\"\"Entry point for launching an IPython kernel.\n",
      "E:\\Anaconda\\lib\\site-packages\\ipykernel_launcher.py:2: SettingWithCopyWarning: \n",
      "A value is trying to be set on a copy of a slice from a DataFrame.\n",
      "Try using .loc[row_indexer,col_indexer] = value instead\n",
      "\n",
      "See the caveats in the documentation: https://pandas.pydata.org/pandas-docs/stable/user_guide/indexing.html#returning-a-view-versus-a-copy\n",
      "  \n"
     ]
    }
   ],
   "source": [
    "df2019.dropna(inplace=True)\n",
    "df2019[\"non_PiS_votes_2019\"]=pd.to_numeric(df2019[\"valid_votes_2019\"])-pd.to_numeric(df2019[\"PiS_votes_2019\"])"
   ]
  },
  {
   "cell_type": "code",
   "execution_count": 221,
   "metadata": {},
   "outputs": [],
   "source": [
    "df2019.to_csv(\"2019_results.csv\")"
   ]
  },
  {
   "cell_type": "markdown",
   "metadata": {},
   "source": [
    "## 2015 presidential election 2nd round data transformation"
   ]
  },
  {
   "cell_type": "code",
   "execution_count": 222,
   "metadata": {},
   "outputs": [
    {
     "data": {
      "text/plain": [
       "Index(['Województwo', 'Gmina', 'TERYT gminy', 'Numer obwodu',\n",
       "       'Liczba wyborców uprawnionych do głosowania',\n",
       "       'Komisja otrzymała kart do głosowania',\n",
       "       'Nie wykorzystano kart do głosowania',\n",
       "       'Liczba wyborców, którym wydano karty do głosowania',\n",
       "       'Liczba wyborców głosujących przez pełnomocnika',\n",
       "       'Liczba wyborców głosujących na podstawie zaświadczenia',\n",
       "       'Liczba wyborców, którym wysłano pakiety wyborcze',\n",
       "       'Liczba otrzymanych kopert zwrotnych',\n",
       "       'w których nie było oświadczenia',\n",
       "       'w których oświadczenie nie było podpisane',\n",
       "       'w których nie było koperty na kartę do głosowania',\n",
       "       'w których znajdowała się niezaklejona koperta',\n",
       "       'Liczba kopert na kartę do głosowania wrzuconych do urny',\n",
       "       'Liczba kart wyjętych z urny', 'w tym liczba kart wyjętych z kopert',\n",
       "       'Liczba kart nieważnych', 'Liczba kart ważnych',\n",
       "       'Liczba głosów nieważnych', 'Liczba głosów ważnych',\n",
       "       'Andrzej Sebastian Duda', 'Bronisław Maria Komorowski'],\n",
       "      dtype='object')"
      ]
     },
     "execution_count": 222,
     "metadata": {},
     "output_type": "execute_result"
    }
   ],
   "source": [
    "df2015_base.columns"
   ]
  },
  {
   "cell_type": "code",
   "execution_count": 223,
   "metadata": {},
   "outputs": [],
   "source": [
    "columns2015= ['TERYT gminy', 'Numer obwodu',\n",
    "      'Gmina', \n",
    "       'Województwo',\n",
    "       'Liczba wyborców uprawnionych do głosowania',       \n",
    "       'Liczba kart ważnych',\n",
    "       'Liczba głosów nieważnych',\n",
    "       'Andrzej Sebastian Duda']"
   ]
  },
  {
   "cell_type": "code",
   "execution_count": 224,
   "metadata": {},
   "outputs": [],
   "source": [
    "\n",
    "\n",
    "columns2015_dict={\n",
    "   \n",
    "    'TERYT gminy':\"teritorial_code\",\n",
    "    'Numer obwodu':\"voting_region_no\",\n",
    "    'Typ obszaru':\"area_type\",\n",
    "    'Gmina':\"municipality\", \n",
    "\n",
    "    'Województwo':\"province\",\n",
    "    'Liczba wyborców uprawnionych do głosowania':\"entitled_to_vote_2015\",       \n",
    "    'Liczba kart ważnych':\"valid_votes_2015\",\n",
    "    'Liczba głosów nieważnych':\"invalid_votes_2015\",\n",
    "    'Andrzej Sebastian Duda':\"PiS_votes_2015\"\n",
    "    \n",
    "}"
   ]
  },
  {
   "cell_type": "code",
   "execution_count": 225,
   "metadata": {},
   "outputs": [],
   "source": [
    "df2015=df2015_base[columns2015]"
   ]
  },
  {
   "cell_type": "code",
   "execution_count": 226,
   "metadata": {},
   "outputs": [],
   "source": [
    "df2015.rename(columns=columns2015_dict,inplace=True)"
   ]
  },
  {
   "cell_type": "code",
   "execution_count": 227,
   "metadata": {},
   "outputs": [
    {
     "name": "stderr",
     "output_type": "stream",
     "text": [
      "E:\\Anaconda\\lib\\site-packages\\ipykernel_launcher.py:1: SettingWithCopyWarning: \n",
      "A value is trying to be set on a copy of a slice from a DataFrame\n",
      "\n",
      "See the caveats in the documentation: https://pandas.pydata.org/pandas-docs/stable/user_guide/indexing.html#returning-a-view-versus-a-copy\n",
      "  \"\"\"Entry point for launching an IPython kernel.\n",
      "E:\\Anaconda\\lib\\site-packages\\ipykernel_launcher.py:2: SettingWithCopyWarning: \n",
      "A value is trying to be set on a copy of a slice from a DataFrame.\n",
      "Try using .loc[row_indexer,col_indexer] = value instead\n",
      "\n",
      "See the caveats in the documentation: https://pandas.pydata.org/pandas-docs/stable/user_guide/indexing.html#returning-a-view-versus-a-copy\n",
      "  \n"
     ]
    }
   ],
   "source": [
    "df2015.dropna(inplace=True)\n",
    "df2015[\"non_PiS_votes_2015\"]=pd.to_numeric(df2015[\"valid_votes_2015\"])-pd.to_numeric(df2015[\"PiS_votes_2015\"])"
   ]
  },
  {
   "cell_type": "code",
   "execution_count": 228,
   "metadata": {},
   "outputs": [
    {
     "data": {
      "text/html": [
       "<div>\n",
       "<style scoped>\n",
       "    .dataframe tbody tr th:only-of-type {\n",
       "        vertical-align: middle;\n",
       "    }\n",
       "\n",
       "    .dataframe tbody tr th {\n",
       "        vertical-align: top;\n",
       "    }\n",
       "\n",
       "    .dataframe thead th {\n",
       "        text-align: right;\n",
       "    }\n",
       "</style>\n",
       "<table border=\"1\" class=\"dataframe\">\n",
       "  <thead>\n",
       "    <tr style=\"text-align: right;\">\n",
       "      <th></th>\n",
       "      <th>teritorial_code</th>\n",
       "      <th>voting_region_no</th>\n",
       "      <th>municipality</th>\n",
       "      <th>province</th>\n",
       "      <th>entitled_to_vote_2015</th>\n",
       "      <th>valid_votes_2015</th>\n",
       "      <th>invalid_votes_2015</th>\n",
       "      <th>PiS_votes_2015</th>\n",
       "      <th>non_PiS_votes_2015</th>\n",
       "    </tr>\n",
       "  </thead>\n",
       "  <tbody>\n",
       "    <tr>\n",
       "      <th>0</th>\n",
       "      <td>149901</td>\n",
       "      <td>209</td>\n",
       "      <td>Zagranica</td>\n",
       "      <td>mazowieckie</td>\n",
       "      <td>8044</td>\n",
       "      <td>3777</td>\n",
       "      <td>55</td>\n",
       "      <td>2176</td>\n",
       "      <td>1601</td>\n",
       "    </tr>\n",
       "    <tr>\n",
       "      <th>1</th>\n",
       "      <td>149901</td>\n",
       "      <td>192</td>\n",
       "      <td>Zagranica</td>\n",
       "      <td>mazowieckie</td>\n",
       "      <td>7382</td>\n",
       "      <td>4298</td>\n",
       "      <td>78</td>\n",
       "      <td>2354</td>\n",
       "      <td>1944</td>\n",
       "    </tr>\n",
       "    <tr>\n",
       "      <th>2</th>\n",
       "      <td>149901</td>\n",
       "      <td>194</td>\n",
       "      <td>Zagranica</td>\n",
       "      <td>mazowieckie</td>\n",
       "      <td>6170</td>\n",
       "      <td>3495</td>\n",
       "      <td>43</td>\n",
       "      <td>2028</td>\n",
       "      <td>1467</td>\n",
       "    </tr>\n",
       "    <tr>\n",
       "      <th>3</th>\n",
       "      <td>149901</td>\n",
       "      <td>197</td>\n",
       "      <td>Zagranica</td>\n",
       "      <td>mazowieckie</td>\n",
       "      <td>6157</td>\n",
       "      <td>3500</td>\n",
       "      <td>52</td>\n",
       "      <td>2196</td>\n",
       "      <td>1304</td>\n",
       "    </tr>\n",
       "    <tr>\n",
       "      <th>4</th>\n",
       "      <td>149901</td>\n",
       "      <td>173</td>\n",
       "      <td>Zagranica</td>\n",
       "      <td>mazowieckie</td>\n",
       "      <td>4333</td>\n",
       "      <td>2881</td>\n",
       "      <td>21</td>\n",
       "      <td>1318</td>\n",
       "      <td>1563</td>\n",
       "    </tr>\n",
       "  </tbody>\n",
       "</table>\n",
       "</div>"
      ],
      "text/plain": [
       "   teritorial_code  voting_region_no municipality     province  \\\n",
       "0           149901               209    Zagranica  mazowieckie   \n",
       "1           149901               192    Zagranica  mazowieckie   \n",
       "2           149901               194    Zagranica  mazowieckie   \n",
       "3           149901               197    Zagranica  mazowieckie   \n",
       "4           149901               173    Zagranica  mazowieckie   \n",
       "\n",
       "   entitled_to_vote_2015  valid_votes_2015  invalid_votes_2015  \\\n",
       "0                   8044              3777                  55   \n",
       "1                   7382              4298                  78   \n",
       "2                   6170              3495                  43   \n",
       "3                   6157              3500                  52   \n",
       "4                   4333              2881                  21   \n",
       "\n",
       "   PiS_votes_2015  non_PiS_votes_2015  \n",
       "0            2176                1601  \n",
       "1            2354                1944  \n",
       "2            2028                1467  \n",
       "3            2196                1304  \n",
       "4            1318                1563  "
      ]
     },
     "execution_count": 228,
     "metadata": {},
     "output_type": "execute_result"
    }
   ],
   "source": [
    "df2015.head()"
   ]
  },
  {
   "cell_type": "code",
   "execution_count": 229,
   "metadata": {},
   "outputs": [
    {
     "data": {
      "text/plain": [
       "Index(['teritorial_code', 'voting_region_no', 'municipality', 'province',\n",
       "       'entitled_to_vote_2015', 'valid_votes_2015', 'invalid_votes_2015',\n",
       "       'PiS_votes_2015', 'non_PiS_votes_2015'],\n",
       "      dtype='object')"
      ]
     },
     "execution_count": 229,
     "metadata": {},
     "output_type": "execute_result"
    }
   ],
   "source": [
    "df2015.columns"
   ]
  },
  {
   "cell_type": "code",
   "execution_count": 230,
   "metadata": {},
   "outputs": [],
   "source": [
    "df2015.to_csv(\"2015_results.csv\")"
   ]
  },
  {
   "cell_type": "markdown",
   "metadata": {},
   "source": [
    "## Combining data"
   ]
  },
  {
   "cell_type": "code",
   "execution_count": 246,
   "metadata": {},
   "outputs": [],
   "source": [
    "merged_columns_2015=[\"teritorial_code\",\"voting_region_no\",'entitled_to_vote_2015', 'valid_votes_2015', 'invalid_votes_2015','PiS_votes_2015',\"non_PiS_votes_2015\"]\n",
    "merged_columns_2019=[\"teritorial_code\",\"voting_region_no\",'entitled_to_vote_2019', 'valid_votes_2019', 'invalid_votes_2019','PiS_votes_2019',\"non_PiS_votes_2019\"]"
   ]
  },
  {
   "cell_type": "code",
   "execution_count": 247,
   "metadata": {},
   "outputs": [],
   "source": [
    "df_merged=df2020.merge(df2019[merged_columns_2019],how=\"left\",on=[\"teritorial_code\",\"voting_region_no\"])"
   ]
  },
  {
   "cell_type": "code",
   "execution_count": 248,
   "metadata": {},
   "outputs": [
    {
     "data": {
      "text/html": [
       "<div>\n",
       "<style scoped>\n",
       "    .dataframe tbody tr th:only-of-type {\n",
       "        vertical-align: middle;\n",
       "    }\n",
       "\n",
       "    .dataframe tbody tr th {\n",
       "        vertical-align: top;\n",
       "    }\n",
       "\n",
       "    .dataframe thead th {\n",
       "        text-align: right;\n",
       "    }\n",
       "</style>\n",
       "<table border=\"1\" class=\"dataframe\">\n",
       "  <thead>\n",
       "    <tr style=\"text-align: right;\">\n",
       "      <th></th>\n",
       "      <th>DEC_no</th>\n",
       "      <th>teritorial_code</th>\n",
       "      <th>municipality_type</th>\n",
       "      <th>voting_region_no</th>\n",
       "      <th>area_type</th>\n",
       "      <th>Location</th>\n",
       "      <th>municipality</th>\n",
       "      <th>county</th>\n",
       "      <th>province</th>\n",
       "      <th>entitled_to_vote_2020</th>\n",
       "      <th>valid_votes_2020</th>\n",
       "      <th>invalid_votes_2020</th>\n",
       "      <th>PiS_votes_2020</th>\n",
       "      <th>non_PiS_votes_2020</th>\n",
       "      <th>entitled_to_vote_2019</th>\n",
       "      <th>valid_votes_2019</th>\n",
       "      <th>invalid_votes_2019</th>\n",
       "      <th>PiS_votes_2019</th>\n",
       "      <th>non_PiS_votes_2019</th>\n",
       "    </tr>\n",
       "  </thead>\n",
       "  <tbody>\n",
       "    <tr>\n",
       "      <th>0</th>\n",
       "      <td>2.0</td>\n",
       "      <td>20101.0</td>\n",
       "      <td>gmina miejska</td>\n",
       "      <td>1</td>\n",
       "      <td>miasto</td>\n",
       "      <td>Szkoła Podstawowa Nr 3, ul. Ceramiczna 5, 59-7...</td>\n",
       "      <td>m. Bolesławiec</td>\n",
       "      <td>bolesławiecki</td>\n",
       "      <td>dolnośląskie</td>\n",
       "      <td>1553</td>\n",
       "      <td>983</td>\n",
       "      <td>1</td>\n",
       "      <td>367</td>\n",
       "      <td>616</td>\n",
       "      <td>1522</td>\n",
       "      <td>888</td>\n",
       "      <td>6</td>\n",
       "      <td>368</td>\n",
       "      <td>520.0</td>\n",
       "    </tr>\n",
       "    <tr>\n",
       "      <th>1</th>\n",
       "      <td>2.0</td>\n",
       "      <td>20101.0</td>\n",
       "      <td>gmina miejska</td>\n",
       "      <td>2</td>\n",
       "      <td>miasto</td>\n",
       "      <td>Szkoła Podstawowa Nr 3, ul. Ceramiczna 5, 59-7...</td>\n",
       "      <td>m. Bolesławiec</td>\n",
       "      <td>bolesławiecki</td>\n",
       "      <td>dolnośląskie</td>\n",
       "      <td>1346</td>\n",
       "      <td>919</td>\n",
       "      <td>0</td>\n",
       "      <td>311</td>\n",
       "      <td>608</td>\n",
       "      <td>1338</td>\n",
       "      <td>877</td>\n",
       "      <td>7</td>\n",
       "      <td>307</td>\n",
       "      <td>570.0</td>\n",
       "    </tr>\n",
       "    <tr>\n",
       "      <th>2</th>\n",
       "      <td>2.0</td>\n",
       "      <td>20101.0</td>\n",
       "      <td>gmina miejska</td>\n",
       "      <td>3</td>\n",
       "      <td>miasto</td>\n",
       "      <td>Szkoła Podstawowa Nr 5, ul. Dolne Młyny 60, 59...</td>\n",
       "      <td>m. Bolesławiec</td>\n",
       "      <td>bolesławiecki</td>\n",
       "      <td>dolnośląskie</td>\n",
       "      <td>1414</td>\n",
       "      <td>904</td>\n",
       "      <td>2</td>\n",
       "      <td>326</td>\n",
       "      <td>578</td>\n",
       "      <td>1432</td>\n",
       "      <td>903</td>\n",
       "      <td>10</td>\n",
       "      <td>331</td>\n",
       "      <td>572.0</td>\n",
       "    </tr>\n",
       "    <tr>\n",
       "      <th>3</th>\n",
       "      <td>2.0</td>\n",
       "      <td>20101.0</td>\n",
       "      <td>gmina miejska</td>\n",
       "      <td>4</td>\n",
       "      <td>miasto</td>\n",
       "      <td>Szkoła Podstawowa Nr 5, ul. Dolne Młyny 60, 59...</td>\n",
       "      <td>m. Bolesławiec</td>\n",
       "      <td>bolesławiecki</td>\n",
       "      <td>dolnośląskie</td>\n",
       "      <td>1413</td>\n",
       "      <td>962</td>\n",
       "      <td>1</td>\n",
       "      <td>329</td>\n",
       "      <td>633</td>\n",
       "      <td>1439</td>\n",
       "      <td>951</td>\n",
       "      <td>6</td>\n",
       "      <td>355</td>\n",
       "      <td>596.0</td>\n",
       "    </tr>\n",
       "    <tr>\n",
       "      <th>4</th>\n",
       "      <td>2.0</td>\n",
       "      <td>20101.0</td>\n",
       "      <td>gmina miejska</td>\n",
       "      <td>5</td>\n",
       "      <td>miasto</td>\n",
       "      <td>Szkoła Podstawowa Nr 5, ul. Dolne Młyny 60, 59...</td>\n",
       "      <td>m. Bolesławiec</td>\n",
       "      <td>bolesławiecki</td>\n",
       "      <td>dolnośląskie</td>\n",
       "      <td>1360</td>\n",
       "      <td>840</td>\n",
       "      <td>2</td>\n",
       "      <td>304</td>\n",
       "      <td>536</td>\n",
       "      <td>1384</td>\n",
       "      <td>831</td>\n",
       "      <td>12</td>\n",
       "      <td>288</td>\n",
       "      <td>543.0</td>\n",
       "    </tr>\n",
       "  </tbody>\n",
       "</table>\n",
       "</div>"
      ],
      "text/plain": [
       "   DEC_no  teritorial_code municipality_type  voting_region_no area_type  \\\n",
       "0     2.0          20101.0     gmina miejska                 1    miasto   \n",
       "1     2.0          20101.0     gmina miejska                 2    miasto   \n",
       "2     2.0          20101.0     gmina miejska                 3    miasto   \n",
       "3     2.0          20101.0     gmina miejska                 4    miasto   \n",
       "4     2.0          20101.0     gmina miejska                 5    miasto   \n",
       "\n",
       "                                            Location    municipality  \\\n",
       "0  Szkoła Podstawowa Nr 3, ul. Ceramiczna 5, 59-7...  m. Bolesławiec   \n",
       "1  Szkoła Podstawowa Nr 3, ul. Ceramiczna 5, 59-7...  m. Bolesławiec   \n",
       "2  Szkoła Podstawowa Nr 5, ul. Dolne Młyny 60, 59...  m. Bolesławiec   \n",
       "3  Szkoła Podstawowa Nr 5, ul. Dolne Młyny 60, 59...  m. Bolesławiec   \n",
       "4  Szkoła Podstawowa Nr 5, ul. Dolne Młyny 60, 59...  m. Bolesławiec   \n",
       "\n",
       "          county      province entitled_to_vote_2020 valid_votes_2020  \\\n",
       "0  bolesławiecki  dolnośląskie                  1553              983   \n",
       "1  bolesławiecki  dolnośląskie                  1346              919   \n",
       "2  bolesławiecki  dolnośląskie                  1414              904   \n",
       "3  bolesławiecki  dolnośląskie                  1413              962   \n",
       "4  bolesławiecki  dolnośląskie                  1360              840   \n",
       "\n",
       "  invalid_votes_2020 PiS_votes_2020  non_PiS_votes_2020 entitled_to_vote_2019  \\\n",
       "0                  1            367                 616                  1522   \n",
       "1                  0            311                 608                  1338   \n",
       "2                  2            326                 578                  1432   \n",
       "3                  1            329                 633                  1439   \n",
       "4                  2            304                 536                  1384   \n",
       "\n",
       "  valid_votes_2019 invalid_votes_2019 PiS_votes_2019  non_PiS_votes_2019  \n",
       "0              888                  6            368               520.0  \n",
       "1              877                  7            307               570.0  \n",
       "2              903                 10            331               572.0  \n",
       "3              951                  6            355               596.0  \n",
       "4              831                 12            288               543.0  "
      ]
     },
     "execution_count": 248,
     "metadata": {},
     "output_type": "execute_result"
    }
   ],
   "source": [
    "df_merged.head()"
   ]
  },
  {
   "cell_type": "code",
   "execution_count": 249,
   "metadata": {},
   "outputs": [],
   "source": [
    "df_merged=df_merged.merge(df2015[merged_columns_2015],how=\"left\",on=[\"teritorial_code\",\"voting_region_no\"])"
   ]
  },
  {
   "cell_type": "code",
   "execution_count": 250,
   "metadata": {},
   "outputs": [
    {
     "data": {
      "text/plain": [
       "Index(['DEC_no', 'teritorial_code', 'municipality_type', 'voting_region_no',\n",
       "       'area_type', 'Location', 'municipality', 'county', 'province',\n",
       "       'entitled_to_vote_2020', 'valid_votes_2020', 'invalid_votes_2020',\n",
       "       'PiS_votes_2020', 'non_PiS_votes_2020', 'entitled_to_vote_2019',\n",
       "       'valid_votes_2019', 'invalid_votes_2019', 'PiS_votes_2019',\n",
       "       'non_PiS_votes_2019', 'entitled_to_vote_2015', 'valid_votes_2015',\n",
       "       'invalid_votes_2015', 'PiS_votes_2015', 'non_PiS_votes_2015'],\n",
       "      dtype='object')"
      ]
     },
     "execution_count": 250,
     "metadata": {},
     "output_type": "execute_result"
    }
   ],
   "source": [
    "df_merged.columns"
   ]
  },
  {
   "cell_type": "code",
   "execution_count": 251,
   "metadata": {},
   "outputs": [
    {
     "data": {
      "text/plain": [
       "DEC_no                     0\n",
       "teritorial_code            0\n",
       "municipality_type          0\n",
       "voting_region_no           0\n",
       "area_type                  0\n",
       "Location                   0\n",
       "municipality               0\n",
       "county                     0\n",
       "province                   0\n",
       "entitled_to_vote_2020      0\n",
       "valid_votes_2020           0\n",
       "invalid_votes_2020         0\n",
       "PiS_votes_2020             0\n",
       "non_PiS_votes_2020         0\n",
       "entitled_to_vote_2019     87\n",
       "valid_votes_2019          87\n",
       "invalid_votes_2019        87\n",
       "PiS_votes_2019            87\n",
       "non_PiS_votes_2019        87\n",
       "entitled_to_vote_2015    320\n",
       "valid_votes_2015         320\n",
       "invalid_votes_2015       320\n",
       "PiS_votes_2015           320\n",
       "non_PiS_votes_2015       320\n",
       "dtype: int64"
      ]
     },
     "execution_count": 251,
     "metadata": {},
     "output_type": "execute_result"
    }
   ],
   "source": [
    "df_merged.isna().sum()"
   ]
  },
  {
   "cell_type": "code",
   "execution_count": 252,
   "metadata": {},
   "outputs": [],
   "source": [
    "df_merged.dropna(inplace=True)"
   ]
  },
  {
   "cell_type": "code",
   "execution_count": 253,
   "metadata": {},
   "outputs": [],
   "source": [
    "for year in [\"2019\",\"2015\"]:\n",
    "    for col_name in ['entitled_to_vote', 'valid_votes', 'invalid_votes',\n",
    "           'PiS_votes',\"non_PiS_votes\"]:\n",
    "\n",
    "        new_col_name=col_name+\"_\"+year+\"_absoulute_variance\"\n",
    "        new_col_name_pct=col_name+\"_\"+year+\"_pct_variance\"\n",
    "       \n",
    "        base_col_name=col_name+\"_\"+\"2020\"\n",
    "        benchmark_col_name=col_name+\"_\"+year\n",
    "        \n",
    "        df_merged[new_col_name]=pd.to_numeric(df_merged[base_col_name])-pd.to_numeric(df_merged[benchmark_col_name])\n",
    "        df_merged[new_col_name_pct]=pd.to_numeric(df_merged[base_col_name])/pd.to_numeric(df_merged[benchmark_col_name])-1\n"
   ]
  },
  {
   "cell_type": "code",
   "execution_count": 254,
   "metadata": {},
   "outputs": [
    {
     "data": {
      "text/plain": [
       "Index(['DEC_no', 'teritorial_code', 'municipality_type', 'voting_region_no',\n",
       "       'area_type', 'Location', 'municipality', 'county', 'province',\n",
       "       'entitled_to_vote_2020', 'valid_votes_2020', 'invalid_votes_2020',\n",
       "       'PiS_votes_2020', 'non_PiS_votes_2020', 'entitled_to_vote_2019',\n",
       "       'valid_votes_2019', 'invalid_votes_2019', 'PiS_votes_2019',\n",
       "       'non_PiS_votes_2019', 'entitled_to_vote_2015', 'valid_votes_2015',\n",
       "       'invalid_votes_2015', 'PiS_votes_2015', 'non_PiS_votes_2015',\n",
       "       'entitled_to_vote_2019_absoulute_variance',\n",
       "       'entitled_to_vote_2019_pct_variance',\n",
       "       'valid_votes_2019_absoulute_variance', 'valid_votes_2019_pct_variance',\n",
       "       'invalid_votes_2019_absoulute_variance',\n",
       "       'invalid_votes_2019_pct_variance', 'PiS_votes_2019_absoulute_variance',\n",
       "       'PiS_votes_2019_pct_variance', 'non_PiS_votes_2019_absoulute_variance',\n",
       "       'non_PiS_votes_2019_pct_variance',\n",
       "       'entitled_to_vote_2015_absoulute_variance',\n",
       "       'entitled_to_vote_2015_pct_variance',\n",
       "       'valid_votes_2015_absoulute_variance', 'valid_votes_2015_pct_variance',\n",
       "       'invalid_votes_2015_absoulute_variance',\n",
       "       'invalid_votes_2015_pct_variance', 'PiS_votes_2015_absoulute_variance',\n",
       "       'PiS_votes_2015_pct_variance', 'non_PiS_votes_2015_absoulute_variance',\n",
       "       'non_PiS_votes_2015_pct_variance'],\n",
       "      dtype='object')"
      ]
     },
     "execution_count": 254,
     "metadata": {},
     "output_type": "execute_result"
    }
   ],
   "source": [
    "df_merged.columns"
   ]
  },
  {
   "cell_type": "code",
   "execution_count": 255,
   "metadata": {},
   "outputs": [],
   "source": [
    "df_merged.to_excel(\"voting_regions_anomalies.xlsx\",index=False)"
   ]
  },
  {
   "cell_type": "code",
   "execution_count": 256,
   "metadata": {},
   "outputs": [
    {
     "data": {
      "text/plain": [
       "(26816, 44)"
      ]
     },
     "execution_count": 256,
     "metadata": {},
     "output_type": "execute_result"
    }
   ],
   "source": [
    "df_merged.shape"
   ]
  },
  {
   "cell_type": "code",
   "execution_count": 244,
   "metadata": {},
   "outputs": [
    {
     "data": {
      "text/plain": [
       "(27166, 14)"
      ]
     },
     "execution_count": 244,
     "metadata": {},
     "output_type": "execute_result"
    }
   ],
   "source": [
    "df2020.shape"
   ]
  },
  {
   "cell_type": "code",
   "execution_count": null,
   "metadata": {},
   "outputs": [],
   "source": []
  }
 ],
 "metadata": {
  "kernelspec": {
   "display_name": "Python 3",
   "language": "python",
   "name": "python3"
  },
  "language_info": {
   "codemirror_mode": {
    "name": "ipython",
    "version": 3
   },
   "file_extension": ".py",
   "mimetype": "text/x-python",
   "name": "python",
   "nbconvert_exporter": "python",
   "pygments_lexer": "ipython3",
   "version": "3.7.3"
  },
  "toc": {
   "base_numbering": 1,
   "nav_menu": {},
   "number_sections": true,
   "sideBar": true,
   "skip_h1_title": false,
   "title_cell": "Table of Contents",
   "title_sidebar": "Contents",
   "toc_cell": false,
   "toc_position": {},
   "toc_section_display": true,
   "toc_window_display": true
  }
 },
 "nbformat": 4,
 "nbformat_minor": 2
}
