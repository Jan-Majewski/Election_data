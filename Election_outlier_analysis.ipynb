{
 "cells": [
  {
   "cell_type": "code",
   "execution_count": 3,
   "metadata": {},
   "outputs": [],
   "source": [
    "import numpy as np\n",
    "import pandas as pd"
   ]
  },
  {
   "cell_type": "markdown",
   "metadata": {},
   "source": [
    "# Data import"
   ]
  },
  {
   "cell_type": "code",
   "execution_count": 119,
   "metadata": {},
   "outputs": [],
   "source": [
    "df2020_base=pd.read_excel(\"election_results_2015_to_2020.xlsx\", sheet_name=\"2020\")"
   ]
  },
  {
   "cell_type": "code",
   "execution_count": 120,
   "metadata": {},
   "outputs": [],
   "source": [
    "df2019_base=pd.read_excel(\"election_results_2015_to_2020.xlsx\", sheet_name=\"2019\")"
   ]
  },
  {
   "cell_type": "code",
   "execution_count": 121,
   "metadata": {},
   "outputs": [],
   "source": [
    "df2015_base=pd.read_excel(\"election_results_2015_to_2020.xlsx\", sheet_name=\"2015\")"
   ]
  },
  {
   "cell_type": "code",
   "execution_count": 122,
   "metadata": {},
   "outputs": [
    {
     "data": {
      "text/html": [
       "<div>\n",
       "<style scoped>\n",
       "    .dataframe tbody tr th:only-of-type {\n",
       "        vertical-align: middle;\n",
       "    }\n",
       "\n",
       "    .dataframe tbody tr th {\n",
       "        vertical-align: top;\n",
       "    }\n",
       "\n",
       "    .dataframe thead th {\n",
       "        text-align: right;\n",
       "    }\n",
       "</style>\n",
       "<table border=\"1\" class=\"dataframe\">\n",
       "  <thead>\n",
       "    <tr style=\"text-align: right;\">\n",
       "      <th></th>\n",
       "      <th>Symbol kontrolny</th>\n",
       "      <th>Nr OKW</th>\n",
       "      <th>Kod TERYT</th>\n",
       "      <th>Typ gminy</th>\n",
       "      <th>Numer obwodu</th>\n",
       "      <th>Typ obszaru</th>\n",
       "      <th>Typ obwodu</th>\n",
       "      <th>Siedziba</th>\n",
       "      <th>Gmina</th>\n",
       "      <th>Powiat</th>\n",
       "      <th>...</th>\n",
       "      <th>Krzysztof BOSAK</th>\n",
       "      <th>Andrzej Sebastian DUDA</th>\n",
       "      <th>Szymon Franciszek HOŁOWNIA</th>\n",
       "      <th>Marek JAKUBIAK</th>\n",
       "      <th>Władysław Marcin KOSINIAK-KAMYSZ</th>\n",
       "      <th>Mirosław Mariusz PIOTROWSKI</th>\n",
       "      <th>Paweł Jan TANAJNO</th>\n",
       "      <th>Rafał Kazimierz TRZASKOWSKI</th>\n",
       "      <th>Waldemar Włodzimierz WITKOWSKI</th>\n",
       "      <th>Stanisław Józef ŻÓŁTEK</th>\n",
       "    </tr>\n",
       "  </thead>\n",
       "  <tbody>\n",
       "    <tr>\n",
       "      <th>0</th>\n",
       "      <td>9924-e2c7-444e-4601-e5ef-60b9-f73d-d8ba</td>\n",
       "      <td>2.0</td>\n",
       "      <td>20101.0</td>\n",
       "      <td>gmina miejska</td>\n",
       "      <td>1</td>\n",
       "      <td>miasto</td>\n",
       "      <td>stały</td>\n",
       "      <td>Szkoła Podstawowa Nr 3, ul. Ceramiczna 5, 59-7...</td>\n",
       "      <td>m. Bolesławiec</td>\n",
       "      <td>bolesławiecki</td>\n",
       "      <td>...</td>\n",
       "      <td>70</td>\n",
       "      <td>367</td>\n",
       "      <td>164</td>\n",
       "      <td>2</td>\n",
       "      <td>15</td>\n",
       "      <td>1</td>\n",
       "      <td>3</td>\n",
       "      <td>338</td>\n",
       "      <td>1</td>\n",
       "      <td>2</td>\n",
       "    </tr>\n",
       "    <tr>\n",
       "      <th>1</th>\n",
       "      <td>9219-f878-5ef7-3ad1-a3c7-d301-7c41-1eed</td>\n",
       "      <td>2.0</td>\n",
       "      <td>20101.0</td>\n",
       "      <td>gmina miejska</td>\n",
       "      <td>2</td>\n",
       "      <td>miasto</td>\n",
       "      <td>stały</td>\n",
       "      <td>Szkoła Podstawowa Nr 3, ul. Ceramiczna 5, 59-7...</td>\n",
       "      <td>m. Bolesławiec</td>\n",
       "      <td>bolesławiecki</td>\n",
       "      <td>...</td>\n",
       "      <td>62</td>\n",
       "      <td>311</td>\n",
       "      <td>136</td>\n",
       "      <td>2</td>\n",
       "      <td>15</td>\n",
       "      <td>3</td>\n",
       "      <td>3</td>\n",
       "      <td>365</td>\n",
       "      <td>1</td>\n",
       "      <td>4</td>\n",
       "    </tr>\n",
       "    <tr>\n",
       "      <th>2</th>\n",
       "      <td>d0a4-75ae-b6b2-687c-05c7-7425-1924-887c</td>\n",
       "      <td>2.0</td>\n",
       "      <td>20101.0</td>\n",
       "      <td>gmina miejska</td>\n",
       "      <td>3</td>\n",
       "      <td>miasto</td>\n",
       "      <td>stały</td>\n",
       "      <td>Szkoła Podstawowa Nr 5, ul. Dolne Młyny 60, 59...</td>\n",
       "      <td>m. Bolesławiec</td>\n",
       "      <td>bolesławiecki</td>\n",
       "      <td>...</td>\n",
       "      <td>66</td>\n",
       "      <td>326</td>\n",
       "      <td>176</td>\n",
       "      <td>0</td>\n",
       "      <td>9</td>\n",
       "      <td>0</td>\n",
       "      <td>0</td>\n",
       "      <td>300</td>\n",
       "      <td>1</td>\n",
       "      <td>5</td>\n",
       "    </tr>\n",
       "    <tr>\n",
       "      <th>3</th>\n",
       "      <td>4e0f-2556-4a20-4e58-4172-f050-8658-3425</td>\n",
       "      <td>2.0</td>\n",
       "      <td>20101.0</td>\n",
       "      <td>gmina miejska</td>\n",
       "      <td>4</td>\n",
       "      <td>miasto</td>\n",
       "      <td>stały</td>\n",
       "      <td>Szkoła Podstawowa Nr 5, ul. Dolne Młyny 60, 59...</td>\n",
       "      <td>m. Bolesławiec</td>\n",
       "      <td>bolesławiecki</td>\n",
       "      <td>...</td>\n",
       "      <td>75</td>\n",
       "      <td>329</td>\n",
       "      <td>159</td>\n",
       "      <td>2</td>\n",
       "      <td>12</td>\n",
       "      <td>2</td>\n",
       "      <td>0</td>\n",
       "      <td>363</td>\n",
       "      <td>0</td>\n",
       "      <td>1</td>\n",
       "    </tr>\n",
       "    <tr>\n",
       "      <th>4</th>\n",
       "      <td>29a2-2044-ee58-5a3e-aabf-8b5e-0fdd-049b</td>\n",
       "      <td>2.0</td>\n",
       "      <td>20101.0</td>\n",
       "      <td>gmina miejska</td>\n",
       "      <td>5</td>\n",
       "      <td>miasto</td>\n",
       "      <td>stały</td>\n",
       "      <td>Szkoła Podstawowa Nr 5, ul. Dolne Młyny 60, 59...</td>\n",
       "      <td>m. Bolesławiec</td>\n",
       "      <td>bolesławiecki</td>\n",
       "      <td>...</td>\n",
       "      <td>52</td>\n",
       "      <td>304</td>\n",
       "      <td>125</td>\n",
       "      <td>5</td>\n",
       "      <td>9</td>\n",
       "      <td>1</td>\n",
       "      <td>0</td>\n",
       "      <td>326</td>\n",
       "      <td>2</td>\n",
       "      <td>1</td>\n",
       "    </tr>\n",
       "  </tbody>\n",
       "</table>\n",
       "<p>5 rows × 44 columns</p>\n",
       "</div>"
      ],
      "text/plain": [
       "                          Symbol kontrolny  Nr OKW  Kod TERYT      Typ gminy  \\\n",
       "0  9924-e2c7-444e-4601-e5ef-60b9-f73d-d8ba     2.0    20101.0  gmina miejska   \n",
       "1  9219-f878-5ef7-3ad1-a3c7-d301-7c41-1eed     2.0    20101.0  gmina miejska   \n",
       "2  d0a4-75ae-b6b2-687c-05c7-7425-1924-887c     2.0    20101.0  gmina miejska   \n",
       "3  4e0f-2556-4a20-4e58-4172-f050-8658-3425     2.0    20101.0  gmina miejska   \n",
       "4  29a2-2044-ee58-5a3e-aabf-8b5e-0fdd-049b     2.0    20101.0  gmina miejska   \n",
       "\n",
       "   Numer obwodu Typ obszaru Typ obwodu  \\\n",
       "0             1      miasto      stały   \n",
       "1             2      miasto      stały   \n",
       "2             3      miasto      stały   \n",
       "3             4      miasto      stały   \n",
       "4             5      miasto      stały   \n",
       "\n",
       "                                            Siedziba           Gmina  \\\n",
       "0  Szkoła Podstawowa Nr 3, ul. Ceramiczna 5, 59-7...  m. Bolesławiec   \n",
       "1  Szkoła Podstawowa Nr 3, ul. Ceramiczna 5, 59-7...  m. Bolesławiec   \n",
       "2  Szkoła Podstawowa Nr 5, ul. Dolne Młyny 60, 59...  m. Bolesławiec   \n",
       "3  Szkoła Podstawowa Nr 5, ul. Dolne Młyny 60, 59...  m. Bolesławiec   \n",
       "4  Szkoła Podstawowa Nr 5, ul. Dolne Młyny 60, 59...  m. Bolesławiec   \n",
       "\n",
       "          Powiat  ... Krzysztof BOSAK Andrzej Sebastian DUDA  \\\n",
       "0  bolesławiecki  ...              70                    367   \n",
       "1  bolesławiecki  ...              62                    311   \n",
       "2  bolesławiecki  ...              66                    326   \n",
       "3  bolesławiecki  ...              75                    329   \n",
       "4  bolesławiecki  ...              52                    304   \n",
       "\n",
       "  Szymon Franciszek HOŁOWNIA Marek JAKUBIAK Władysław Marcin KOSINIAK-KAMYSZ  \\\n",
       "0                        164              2                               15   \n",
       "1                        136              2                               15   \n",
       "2                        176              0                                9   \n",
       "3                        159              2                               12   \n",
       "4                        125              5                                9   \n",
       "\n",
       "  Mirosław Mariusz PIOTROWSKI Paweł Jan TANAJNO Rafał Kazimierz TRZASKOWSKI  \\\n",
       "0                           1                 3                         338   \n",
       "1                           3                 3                         365   \n",
       "2                           0                 0                         300   \n",
       "3                           2                 0                         363   \n",
       "4                           1                 0                         326   \n",
       "\n",
       "  Waldemar Włodzimierz WITKOWSKI Stanisław Józef ŻÓŁTEK  \n",
       "0                              1                      2  \n",
       "1                              1                      4  \n",
       "2                              1                      5  \n",
       "3                              0                      1  \n",
       "4                              2                      1  \n",
       "\n",
       "[5 rows x 44 columns]"
      ]
     },
     "execution_count": 122,
     "metadata": {},
     "output_type": "execute_result"
    }
   ],
   "source": [
    "df2020_base.head()"
   ]
  },
  {
   "cell_type": "markdown",
   "metadata": {},
   "source": [
    "## 2020 presidential election data transformation"
   ]
  },
  {
   "cell_type": "code",
   "execution_count": 143,
   "metadata": {},
   "outputs": [
    {
     "data": {
      "text/plain": [
       "Index(['Symbol kontrolny', 'Nr OKW', 'Kod TERYT', 'Typ gminy', 'Numer obwodu',\n",
       "       'Typ obszaru', 'Typ obwodu', 'Siedziba', 'Gmina', 'Powiat',\n",
       "       'Województwo', 'Komisje obwodowe otrzymały kart do głosowania',\n",
       "       'Liczba wyborców uprawnionych do głosowania',\n",
       "       'Nie wykorzystano kart do głosowania',\n",
       "       'Liczba wyborców, którym wydano karty do głosowania',\n",
       "       'Liczba wyborców głosujących przez pełnomocnika',\n",
       "       'Liczba wyborców głosujących na podstawie zaświadczenia o prawie do głosowania',\n",
       "       'Liczba wyborców, którym wysłano pakiety wyborcze',\n",
       "       'Liczba otrzymanych kopert zwrotnych',\n",
       "       'Liczba kopert zwrotnych, w których nie było oświadczenia o osobistym i tajnym oddaniu głosu',\n",
       "       'Liczba kopert zwrotnych, w których oświadczenie nie było podpisane',\n",
       "       'Liczba kopert zwrotnych, w których nie było koperty na kartę do głosowania',\n",
       "       'Liczba kopert zwrotnych, w których znajdowała się niezaklejona koperta na kartę do głosowania',\n",
       "       'Liczba kopert na kartę do głosowania wrzuconych do urny',\n",
       "       'Liczba kart wyjętych z urny',\n",
       "       'W tym liczba kart wyjętych z kopert na kartę do głosowania',\n",
       "       'Liczba kart nieważnych', 'Liczba kart ważnych',\n",
       "       'Liczba głosów nieważnych',\n",
       "       'W tym z powodu postawienia znaku „X” obok nazwiska dwóch lub większej liczby kandydatów',\n",
       "       'W tym z powodu niepostawienia znaku „X” obok nazwiska żadnego kandydata',\n",
       "       'W tym z powodu postawienia znaku „X” wyłącznie obok skreślonego nazwiska kandydata',\n",
       "       'Liczba głosów ważnych oddanych łącznie na wszystkich kandydatów',\n",
       "       'Robert BIEDROŃ', 'Krzysztof BOSAK', 'Andrzej Sebastian DUDA',\n",
       "       'Szymon Franciszek HOŁOWNIA', 'Marek JAKUBIAK',\n",
       "       'Władysław Marcin KOSINIAK-KAMYSZ', 'Mirosław Mariusz PIOTROWSKI',\n",
       "       'Paweł Jan TANAJNO', 'Rafał Kazimierz TRZASKOWSKI',\n",
       "       'Waldemar Włodzimierz WITKOWSKI', 'Stanisław Józef ŻÓŁTEK'],\n",
       "      dtype='object')"
      ]
     },
     "execution_count": 143,
     "metadata": {},
     "output_type": "execute_result"
    }
   ],
   "source": [
    "df2020_base.columns"
   ]
  },
  {
   "cell_type": "code",
   "execution_count": 144,
   "metadata": {},
   "outputs": [],
   "source": [
    "columns2020= ['Nr OKW', 'Kod TERYT', 'Typ gminy', 'Numer obwodu',\n",
    "       'Typ obszaru',  'Siedziba', 'Gmina', 'Powiat',\n",
    "       'Województwo',\n",
    "       'Liczba wyborców uprawnionych do głosowania',       \n",
    "       'Liczba kart ważnych',\n",
    "       'Liczba głosów nieważnych',\n",
    "       'Andrzej Sebastian DUDA']"
   ]
  },
  {
   "cell_type": "code",
   "execution_count": 145,
   "metadata": {},
   "outputs": [],
   "source": [
    "columns2020_dict={\n",
    "    'Nr OKW':\"DEC_no\", \n",
    "    'Kod TERYT':\"teritorial_code\",\n",
    "    'Typ gminy':\"municipality_type\",\n",
    "    'Numer obwodu':\"voting_region_no\",\n",
    "    'Typ obszaru':\"area_type\",\n",
    "    \"Siedziba\":\"Location\",\n",
    "    'Gmina':\"municipality\", \n",
    "    'Powiat':\"county\",\n",
    "    'Województwo':\"province\",\n",
    "    'Liczba wyborców uprawnionych do głosowania':\"entitled_to_vote_2020\",       \n",
    "    'Liczba kart ważnych':\"valid_votes_2020\",\n",
    "    'Liczba głosów nieważnych':\"invalid_votes_2020\",\n",
    "    'Andrzej Sebastian DUDA':\"PiS_votes_2020\"\n",
    "    \n",
    "}"
   ]
  },
  {
   "cell_type": "code",
   "execution_count": 146,
   "metadata": {},
   "outputs": [],
   "source": [
    "df2020=df2020_base[columns2020]"
   ]
  },
  {
   "cell_type": "code",
   "execution_count": 147,
   "metadata": {},
   "outputs": [],
   "source": [
    "df2020.rename(columns=columns2020_dict, inplace=True)"
   ]
  },
  {
   "cell_type": "code",
   "execution_count": 148,
   "metadata": {},
   "outputs": [
    {
     "name": "stderr",
     "output_type": "stream",
     "text": [
      "E:\\Anaconda\\lib\\site-packages\\ipykernel_launcher.py:1: SettingWithCopyWarning: \n",
      "A value is trying to be set on a copy of a slice from a DataFrame\n",
      "\n",
      "See the caveats in the documentation: https://pandas.pydata.org/pandas-docs/stable/user_guide/indexing.html#returning-a-view-versus-a-copy\n",
      "  \"\"\"Entry point for launching an IPython kernel.\n",
      "E:\\Anaconda\\lib\\site-packages\\ipykernel_launcher.py:2: SettingWithCopyWarning: \n",
      "A value is trying to be set on a copy of a slice from a DataFrame.\n",
      "Try using .loc[row_indexer,col_indexer] = value instead\n",
      "\n",
      "See the caveats in the documentation: https://pandas.pydata.org/pandas-docs/stable/user_guide/indexing.html#returning-a-view-versus-a-copy\n",
      "  \n",
      "E:\\Anaconda\\lib\\site-packages\\ipykernel_launcher.py:3: SettingWithCopyWarning: \n",
      "A value is trying to be set on a copy of a slice from a DataFrame.\n",
      "Try using .loc[row_indexer,col_indexer] = value instead\n",
      "\n",
      "See the caveats in the documentation: https://pandas.pydata.org/pandas-docs/stable/user_guide/indexing.html#returning-a-view-versus-a-copy\n",
      "  This is separate from the ipykernel package so we can avoid doing imports until\n"
     ]
    }
   ],
   "source": [
    "df2020.dropna(inplace=True)\n",
    "df2020[\"non_PiS_votes_2020\"]=pd.to_numeric(df2020[\"valid_votes_2020\"])-pd.to_numeric(df2020[\"PiS_votes_2020\"])\n",
    "df2020[\"turnout_2020\"]=pd.to_numeric(df2020.valid_votes_2020)/pd.to_numeric(df2020.entitled_to_vote_2020)"
   ]
  },
  {
   "cell_type": "code",
   "execution_count": 149,
   "metadata": {},
   "outputs": [
    {
     "data": {
      "text/html": [
       "<div>\n",
       "<style scoped>\n",
       "    .dataframe tbody tr th:only-of-type {\n",
       "        vertical-align: middle;\n",
       "    }\n",
       "\n",
       "    .dataframe tbody tr th {\n",
       "        vertical-align: top;\n",
       "    }\n",
       "\n",
       "    .dataframe thead th {\n",
       "        text-align: right;\n",
       "    }\n",
       "</style>\n",
       "<table border=\"1\" class=\"dataframe\">\n",
       "  <thead>\n",
       "    <tr style=\"text-align: right;\">\n",
       "      <th></th>\n",
       "      <th>DEC_no</th>\n",
       "      <th>teritorial_code</th>\n",
       "      <th>municipality_type</th>\n",
       "      <th>voting_region_no</th>\n",
       "      <th>area_type</th>\n",
       "      <th>Location</th>\n",
       "      <th>municipality</th>\n",
       "      <th>county</th>\n",
       "      <th>province</th>\n",
       "      <th>entitled_to_vote_2020</th>\n",
       "      <th>valid_votes_2020</th>\n",
       "      <th>invalid_votes_2020</th>\n",
       "      <th>PiS_votes_2020</th>\n",
       "      <th>non_PiS_votes_2020</th>\n",
       "      <th>turnout_2020</th>\n",
       "    </tr>\n",
       "  </thead>\n",
       "  <tbody>\n",
       "    <tr>\n",
       "      <th>0</th>\n",
       "      <td>2.0</td>\n",
       "      <td>20101.0</td>\n",
       "      <td>gmina miejska</td>\n",
       "      <td>1</td>\n",
       "      <td>miasto</td>\n",
       "      <td>Szkoła Podstawowa Nr 3, ul. Ceramiczna 5, 59-7...</td>\n",
       "      <td>m. Bolesławiec</td>\n",
       "      <td>bolesławiecki</td>\n",
       "      <td>dolnośląskie</td>\n",
       "      <td>1553</td>\n",
       "      <td>983</td>\n",
       "      <td>1</td>\n",
       "      <td>367</td>\n",
       "      <td>616</td>\n",
       "      <td>0.632968</td>\n",
       "    </tr>\n",
       "    <tr>\n",
       "      <th>1</th>\n",
       "      <td>2.0</td>\n",
       "      <td>20101.0</td>\n",
       "      <td>gmina miejska</td>\n",
       "      <td>2</td>\n",
       "      <td>miasto</td>\n",
       "      <td>Szkoła Podstawowa Nr 3, ul. Ceramiczna 5, 59-7...</td>\n",
       "      <td>m. Bolesławiec</td>\n",
       "      <td>bolesławiecki</td>\n",
       "      <td>dolnośląskie</td>\n",
       "      <td>1346</td>\n",
       "      <td>919</td>\n",
       "      <td>0</td>\n",
       "      <td>311</td>\n",
       "      <td>608</td>\n",
       "      <td>0.682764</td>\n",
       "    </tr>\n",
       "    <tr>\n",
       "      <th>2</th>\n",
       "      <td>2.0</td>\n",
       "      <td>20101.0</td>\n",
       "      <td>gmina miejska</td>\n",
       "      <td>3</td>\n",
       "      <td>miasto</td>\n",
       "      <td>Szkoła Podstawowa Nr 5, ul. Dolne Młyny 60, 59...</td>\n",
       "      <td>m. Bolesławiec</td>\n",
       "      <td>bolesławiecki</td>\n",
       "      <td>dolnośląskie</td>\n",
       "      <td>1414</td>\n",
       "      <td>904</td>\n",
       "      <td>2</td>\n",
       "      <td>326</td>\n",
       "      <td>578</td>\n",
       "      <td>0.639321</td>\n",
       "    </tr>\n",
       "    <tr>\n",
       "      <th>3</th>\n",
       "      <td>2.0</td>\n",
       "      <td>20101.0</td>\n",
       "      <td>gmina miejska</td>\n",
       "      <td>4</td>\n",
       "      <td>miasto</td>\n",
       "      <td>Szkoła Podstawowa Nr 5, ul. Dolne Młyny 60, 59...</td>\n",
       "      <td>m. Bolesławiec</td>\n",
       "      <td>bolesławiecki</td>\n",
       "      <td>dolnośląskie</td>\n",
       "      <td>1413</td>\n",
       "      <td>962</td>\n",
       "      <td>1</td>\n",
       "      <td>329</td>\n",
       "      <td>633</td>\n",
       "      <td>0.680821</td>\n",
       "    </tr>\n",
       "    <tr>\n",
       "      <th>4</th>\n",
       "      <td>2.0</td>\n",
       "      <td>20101.0</td>\n",
       "      <td>gmina miejska</td>\n",
       "      <td>5</td>\n",
       "      <td>miasto</td>\n",
       "      <td>Szkoła Podstawowa Nr 5, ul. Dolne Młyny 60, 59...</td>\n",
       "      <td>m. Bolesławiec</td>\n",
       "      <td>bolesławiecki</td>\n",
       "      <td>dolnośląskie</td>\n",
       "      <td>1360</td>\n",
       "      <td>840</td>\n",
       "      <td>2</td>\n",
       "      <td>304</td>\n",
       "      <td>536</td>\n",
       "      <td>0.617647</td>\n",
       "    </tr>\n",
       "  </tbody>\n",
       "</table>\n",
       "</div>"
      ],
      "text/plain": [
       "   DEC_no  teritorial_code municipality_type  voting_region_no area_type  \\\n",
       "0     2.0          20101.0     gmina miejska                 1    miasto   \n",
       "1     2.0          20101.0     gmina miejska                 2    miasto   \n",
       "2     2.0          20101.0     gmina miejska                 3    miasto   \n",
       "3     2.0          20101.0     gmina miejska                 4    miasto   \n",
       "4     2.0          20101.0     gmina miejska                 5    miasto   \n",
       "\n",
       "                                            Location    municipality  \\\n",
       "0  Szkoła Podstawowa Nr 3, ul. Ceramiczna 5, 59-7...  m. Bolesławiec   \n",
       "1  Szkoła Podstawowa Nr 3, ul. Ceramiczna 5, 59-7...  m. Bolesławiec   \n",
       "2  Szkoła Podstawowa Nr 5, ul. Dolne Młyny 60, 59...  m. Bolesławiec   \n",
       "3  Szkoła Podstawowa Nr 5, ul. Dolne Młyny 60, 59...  m. Bolesławiec   \n",
       "4  Szkoła Podstawowa Nr 5, ul. Dolne Młyny 60, 59...  m. Bolesławiec   \n",
       "\n",
       "          county      province entitled_to_vote_2020 valid_votes_2020  \\\n",
       "0  bolesławiecki  dolnośląskie                  1553              983   \n",
       "1  bolesławiecki  dolnośląskie                  1346              919   \n",
       "2  bolesławiecki  dolnośląskie                  1414              904   \n",
       "3  bolesławiecki  dolnośląskie                  1413              962   \n",
       "4  bolesławiecki  dolnośląskie                  1360              840   \n",
       "\n",
       "  invalid_votes_2020 PiS_votes_2020  non_PiS_votes_2020  turnout_2020  \n",
       "0                  1            367                 616      0.632968  \n",
       "1                  0            311                 608      0.682764  \n",
       "2                  2            326                 578      0.639321  \n",
       "3                  1            329                 633      0.680821  \n",
       "4                  2            304                 536      0.617647  "
      ]
     },
     "execution_count": 149,
     "metadata": {},
     "output_type": "execute_result"
    }
   ],
   "source": [
    "df2020.head()"
   ]
  },
  {
   "cell_type": "code",
   "execution_count": 150,
   "metadata": {},
   "outputs": [],
   "source": [
    "df2020.to_csv(\"2020_results.csv\")"
   ]
  },
  {
   "cell_type": "markdown",
   "metadata": {},
   "source": [
    "## 2019 parliament election data transformation"
   ]
  },
  {
   "cell_type": "code",
   "execution_count": 151,
   "metadata": {},
   "outputs": [
    {
     "data": {
      "text/plain": [
       "Index(['Symbol kontrolny', 'Kod TERYT', 'Okręg', 'Numer', 'Typ obszaru',\n",
       "       'Typ obwodu', 'Siedziba', 'Gmina', 'Powiat', 'Województwo',\n",
       "       'Komisja otrzymała kart do głosowania',\n",
       "       'Liczba wyborców uprawnionych do głosowania',\n",
       "       'Nie wykorzystano kart do głosowania',\n",
       "       'Liczba wyborców, którym wydano karty do głosowania',\n",
       "       'Liczba wyborców głosujących przez pełnomocnika',\n",
       "       'Liczba wyborców głosujących na podstawie zaświadczenia o prawie do głosowania',\n",
       "       'Liczba wyborców, którym wysłano pakiety wyborcze',\n",
       "       'Liczba otrzymanych kopert zwrotnych',\n",
       "       'Liczba kopert zwrotnych, w których nie było oświadczenia o osobistym i tajnym oddaniu głosu',\n",
       "       'Liczba kopert zwrotnych, w których oświadczenie nie było podpisane',\n",
       "       'Liczba kopert zwrotnych, w których nie było koperty na kartę do głosowania',\n",
       "       'Liczba kopert zwrotnych, w których znajdowała się niezaklejona koperta na kartę do głosowania',\n",
       "       'Liczba kopert na kartę do głosowania wrzuconych do urny',\n",
       "       'Liczba kart wyjętych z urny',\n",
       "       'W tym liczba kart wyjętych z kopert na kartę do głosowania',\n",
       "       'Liczba kart nieważnych', 'Liczba kart ważnych',\n",
       "       'Liczba głosów nieważnych',\n",
       "       'W tym z powodu postawienia znaku „X” obok nazwiska dwóch lub większej liczby kandydatów z różnych list',\n",
       "       'W tym z powodu niepostawienia znaku „X” obok nazwiska żadnego kandydata',\n",
       "       'W tym z powodu postawienia znaku „X” wyłącznie obok nazwiska kandydata na liście, której rejestracja została unieważniona',\n",
       "       'Liczba głosów ważnych oddanych łącznie na wszystkie listy kandydatów',\n",
       "       'KOALICYJNY KOMITET WYBORCZY KOALICJA OBYWATELSKA PO .N IPL ZIELONI - ZPOW-601-6/19',\n",
       "       'KOMITET WYBORCZY AKCJA ZAWIEDZIONYCH EMERYTÓW RENCISTÓW - ZPOW-601-21/19',\n",
       "       'KOMITET WYBORCZY KONFEDERACJA WOLNOŚĆ I NIEPODLEGŁOŚĆ - ZPOW-601-5/19',\n",
       "       'KOMITET WYBORCZY POLSKIE STRONNICTWO LUDOWE - ZPOW-601-19/19',\n",
       "       'KOMITET WYBORCZY PRAWICA - ZPOW-601-20/19',\n",
       "       'KOMITET WYBORCZY PRAWO I SPRAWIEDLIWOŚĆ - ZPOW-601-9/19',\n",
       "       'KOMITET WYBORCZY SKUTECZNI PIOTRA LIROYA-MARCA - ZPOW-601-17/19',\n",
       "       'KOMITET WYBORCZY SOJUSZ LEWICY DEMOKRATYCZNEJ - ZPOW-601-1/19',\n",
       "       'KOMITET WYBORCZY WYBORCÓW KOALICJA BEZPARTYJNI I SAMORZĄDOWCY - ZPOW-601-10/19',\n",
       "       'KOMITET WYBORCZY WYBORCÓW MNIEJSZOŚĆ NIEMIECKA - ZPOW-601-15/19'],\n",
       "      dtype='object')"
      ]
     },
     "execution_count": 151,
     "metadata": {},
     "output_type": "execute_result"
    }
   ],
   "source": [
    "df2019_base.columns"
   ]
  },
  {
   "cell_type": "code",
   "execution_count": 152,
   "metadata": {},
   "outputs": [],
   "source": [
    "columns2019= ['Okręg', 'Kod TERYT', 'Numer',\n",
    "       'Siedziba', 'Gmina', 'Powiat',\n",
    "       'Województwo',\n",
    "       'Liczba wyborców uprawnionych do głosowania',       \n",
    "       'Liczba kart ważnych',\n",
    "       'Liczba głosów nieważnych',\n",
    "        'KOMITET WYBORCZY PRAWO I SPRAWIEDLIWOŚĆ - ZPOW-601-9/19']"
   ]
  },
  {
   "cell_type": "code",
   "execution_count": 153,
   "metadata": {},
   "outputs": [],
   "source": [
    "columns2019_dict={\n",
    "    'Okręg':\"DEC_no\", \n",
    "    'Kod TERYT':\"teritorial_code\",\n",
    "    'Numer':\"voting_region_no\",\n",
    "    'Typ obszaru':\"area_type\",\n",
    "    'Gmina':\"municipality\", \n",
    "    \"Siedziba\":\"Location\",\n",
    "    'Powiat':\"county\",\n",
    "    'Województwo':\"province\",\n",
    "    'Liczba wyborców uprawnionych do głosowania':\"entitled_to_vote_2019\",       \n",
    "    'Liczba kart ważnych':\"valid_votes_2019\",\n",
    "    'Liczba głosów nieważnych':\"invalid_votes_2019\",\n",
    "    'KOMITET WYBORCZY PRAWO I SPRAWIEDLIWOŚĆ - ZPOW-601-9/19':\"PiS_votes_2019\"\n",
    "    \n",
    "}"
   ]
  },
  {
   "cell_type": "code",
   "execution_count": 154,
   "metadata": {},
   "outputs": [],
   "source": [
    "df2019=df2019_base[columns2019]"
   ]
  },
  {
   "cell_type": "code",
   "execution_count": 155,
   "metadata": {},
   "outputs": [
    {
     "name": "stderr",
     "output_type": "stream",
     "text": [
      "E:\\Anaconda\\lib\\site-packages\\pandas\\core\\frame.py:4133: SettingWithCopyWarning: \n",
      "A value is trying to be set on a copy of a slice from a DataFrame\n",
      "\n",
      "See the caveats in the documentation: https://pandas.pydata.org/pandas-docs/stable/user_guide/indexing.html#returning-a-view-versus-a-copy\n",
      "  errors=errors,\n"
     ]
    }
   ],
   "source": [
    "df2019.rename(columns=columns2019_dict,inplace=True)"
   ]
  },
  {
   "cell_type": "code",
   "execution_count": 156,
   "metadata": {},
   "outputs": [
    {
     "name": "stderr",
     "output_type": "stream",
     "text": [
      "E:\\Anaconda\\lib\\site-packages\\ipykernel_launcher.py:1: SettingWithCopyWarning: \n",
      "A value is trying to be set on a copy of a slice from a DataFrame\n",
      "\n",
      "See the caveats in the documentation: https://pandas.pydata.org/pandas-docs/stable/user_guide/indexing.html#returning-a-view-versus-a-copy\n",
      "  \"\"\"Entry point for launching an IPython kernel.\n",
      "E:\\Anaconda\\lib\\site-packages\\ipykernel_launcher.py:2: SettingWithCopyWarning: \n",
      "A value is trying to be set on a copy of a slice from a DataFrame.\n",
      "Try using .loc[row_indexer,col_indexer] = value instead\n",
      "\n",
      "See the caveats in the documentation: https://pandas.pydata.org/pandas-docs/stable/user_guide/indexing.html#returning-a-view-versus-a-copy\n",
      "  \n",
      "E:\\Anaconda\\lib\\site-packages\\ipykernel_launcher.py:3: SettingWithCopyWarning: \n",
      "A value is trying to be set on a copy of a slice from a DataFrame.\n",
      "Try using .loc[row_indexer,col_indexer] = value instead\n",
      "\n",
      "See the caveats in the documentation: https://pandas.pydata.org/pandas-docs/stable/user_guide/indexing.html#returning-a-view-versus-a-copy\n",
      "  This is separate from the ipykernel package so we can avoid doing imports until\n"
     ]
    }
   ],
   "source": [
    "df2019.dropna(inplace=True)\n",
    "df2019[\"non_PiS_votes_2019\"]=pd.to_numeric(df2019[\"valid_votes_2019\"])-pd.to_numeric(df2019[\"PiS_votes_2019\"])\n",
    "df2019[\"turnout_2019\"]=pd.to_numeric(df2019.valid_votes_2019)/pd.to_numeric(df2019.entitled_to_vote_2019)"
   ]
  },
  {
   "cell_type": "code",
   "execution_count": 165,
   "metadata": {},
   "outputs": [
    {
     "data": {
      "text/html": [
       "<div>\n",
       "<style scoped>\n",
       "    .dataframe tbody tr th:only-of-type {\n",
       "        vertical-align: middle;\n",
       "    }\n",
       "\n",
       "    .dataframe tbody tr th {\n",
       "        vertical-align: top;\n",
       "    }\n",
       "\n",
       "    .dataframe thead th {\n",
       "        text-align: right;\n",
       "    }\n",
       "</style>\n",
       "<table border=\"1\" class=\"dataframe\">\n",
       "  <thead>\n",
       "    <tr style=\"text-align: right;\">\n",
       "      <th></th>\n",
       "      <th>DEC_no</th>\n",
       "      <th>teritorial_code</th>\n",
       "      <th>voting_region_no</th>\n",
       "      <th>Location</th>\n",
       "      <th>municipality</th>\n",
       "      <th>county</th>\n",
       "      <th>province</th>\n",
       "      <th>entitled_to_vote_2019</th>\n",
       "      <th>valid_votes_2019</th>\n",
       "      <th>invalid_votes_2019</th>\n",
       "      <th>PiS_votes_2019</th>\n",
       "      <th>non_PiS_votes_2019</th>\n",
       "      <th>turnout_2019</th>\n",
       "    </tr>\n",
       "  </thead>\n",
       "  <tbody>\n",
       "    <tr>\n",
       "      <th>0</th>\n",
       "      <td>1</td>\n",
       "      <td>20101.0</td>\n",
       "      <td>1</td>\n",
       "      <td>Szkoła Podstawowa Nr 3, ul. Ceramiczna 5, 59-7...</td>\n",
       "      <td>m. Bolesławiec</td>\n",
       "      <td>bolesławiecki</td>\n",
       "      <td>dolnośląskie</td>\n",
       "      <td>1522</td>\n",
       "      <td>888</td>\n",
       "      <td>6</td>\n",
       "      <td>368</td>\n",
       "      <td>520</td>\n",
       "      <td>0.583443</td>\n",
       "    </tr>\n",
       "    <tr>\n",
       "      <th>1</th>\n",
       "      <td>1</td>\n",
       "      <td>20101.0</td>\n",
       "      <td>2</td>\n",
       "      <td>Szkoła Podstawowa Nr 3, ul. Ceramiczna 5, 59-7...</td>\n",
       "      <td>m. Bolesławiec</td>\n",
       "      <td>bolesławiecki</td>\n",
       "      <td>dolnośląskie</td>\n",
       "      <td>1338</td>\n",
       "      <td>877</td>\n",
       "      <td>7</td>\n",
       "      <td>307</td>\n",
       "      <td>570</td>\n",
       "      <td>0.655456</td>\n",
       "    </tr>\n",
       "    <tr>\n",
       "      <th>2</th>\n",
       "      <td>1</td>\n",
       "      <td>20101.0</td>\n",
       "      <td>3</td>\n",
       "      <td>Szkoła Podstawowa Nr 5, ul. Dolne Młyny 60, 59...</td>\n",
       "      <td>m. Bolesławiec</td>\n",
       "      <td>bolesławiecki</td>\n",
       "      <td>dolnośląskie</td>\n",
       "      <td>1432</td>\n",
       "      <td>903</td>\n",
       "      <td>10</td>\n",
       "      <td>331</td>\n",
       "      <td>572</td>\n",
       "      <td>0.630587</td>\n",
       "    </tr>\n",
       "    <tr>\n",
       "      <th>3</th>\n",
       "      <td>1</td>\n",
       "      <td>20101.0</td>\n",
       "      <td>4</td>\n",
       "      <td>Szkoła Podstawowa Nr 5, ul. Dolne Młyny 60, 59...</td>\n",
       "      <td>m. Bolesławiec</td>\n",
       "      <td>bolesławiecki</td>\n",
       "      <td>dolnośląskie</td>\n",
       "      <td>1439</td>\n",
       "      <td>951</td>\n",
       "      <td>6</td>\n",
       "      <td>355</td>\n",
       "      <td>596</td>\n",
       "      <td>0.660876</td>\n",
       "    </tr>\n",
       "    <tr>\n",
       "      <th>4</th>\n",
       "      <td>1</td>\n",
       "      <td>20101.0</td>\n",
       "      <td>5</td>\n",
       "      <td>Szkoła Podstawowa Nr 5, ul. Dolne Młyny 60, 59...</td>\n",
       "      <td>m. Bolesławiec</td>\n",
       "      <td>bolesławiecki</td>\n",
       "      <td>dolnośląskie</td>\n",
       "      <td>1384</td>\n",
       "      <td>831</td>\n",
       "      <td>12</td>\n",
       "      <td>288</td>\n",
       "      <td>543</td>\n",
       "      <td>0.600434</td>\n",
       "    </tr>\n",
       "  </tbody>\n",
       "</table>\n",
       "</div>"
      ],
      "text/plain": [
       "   DEC_no  teritorial_code  voting_region_no  \\\n",
       "0       1          20101.0                 1   \n",
       "1       1          20101.0                 2   \n",
       "2       1          20101.0                 3   \n",
       "3       1          20101.0                 4   \n",
       "4       1          20101.0                 5   \n",
       "\n",
       "                                            Location    municipality  \\\n",
       "0  Szkoła Podstawowa Nr 3, ul. Ceramiczna 5, 59-7...  m. Bolesławiec   \n",
       "1  Szkoła Podstawowa Nr 3, ul. Ceramiczna 5, 59-7...  m. Bolesławiec   \n",
       "2  Szkoła Podstawowa Nr 5, ul. Dolne Młyny 60, 59...  m. Bolesławiec   \n",
       "3  Szkoła Podstawowa Nr 5, ul. Dolne Młyny 60, 59...  m. Bolesławiec   \n",
       "4  Szkoła Podstawowa Nr 5, ul. Dolne Młyny 60, 59...  m. Bolesławiec   \n",
       "\n",
       "          county      province entitled_to_vote_2019 valid_votes_2019  \\\n",
       "0  bolesławiecki  dolnośląskie                  1522              888   \n",
       "1  bolesławiecki  dolnośląskie                  1338              877   \n",
       "2  bolesławiecki  dolnośląskie                  1432              903   \n",
       "3  bolesławiecki  dolnośląskie                  1439              951   \n",
       "4  bolesławiecki  dolnośląskie                  1384              831   \n",
       "\n",
       "  invalid_votes_2019 PiS_votes_2019  non_PiS_votes_2019  turnout_2019  \n",
       "0                  6            368                 520      0.583443  \n",
       "1                  7            307                 570      0.655456  \n",
       "2                 10            331                 572      0.630587  \n",
       "3                  6            355                 596      0.660876  \n",
       "4                 12            288                 543      0.600434  "
      ]
     },
     "execution_count": 165,
     "metadata": {},
     "output_type": "execute_result"
    }
   ],
   "source": [
    "df2019.head()"
   ]
  },
  {
   "cell_type": "code",
   "execution_count": 157,
   "metadata": {},
   "outputs": [],
   "source": [
    "df2019.to_csv(\"2019_results.csv\")"
   ]
  },
  {
   "cell_type": "markdown",
   "metadata": {},
   "source": [
    "## 2015 presidential election 2nd round data transformation"
   ]
  },
  {
   "cell_type": "code",
   "execution_count": 158,
   "metadata": {},
   "outputs": [
    {
     "data": {
      "text/plain": [
       "Index(['Województwo', 'Gmina', 'TERYT gminy', 'Numer obwodu',\n",
       "       'Liczba wyborców uprawnionych do głosowania',\n",
       "       'Komisja otrzymała kart do głosowania',\n",
       "       'Nie wykorzystano kart do głosowania',\n",
       "       'Liczba wyborców, którym wydano karty do głosowania',\n",
       "       'Liczba wyborców głosujących przez pełnomocnika',\n",
       "       'Liczba wyborców głosujących na podstawie zaświadczenia',\n",
       "       'Liczba wyborców, którym wysłano pakiety wyborcze',\n",
       "       'Liczba otrzymanych kopert zwrotnych',\n",
       "       'w których nie było oświadczenia',\n",
       "       'w których oświadczenie nie było podpisane',\n",
       "       'w których nie było koperty na kartę do głosowania',\n",
       "       'w których znajdowała się niezaklejona koperta',\n",
       "       'Liczba kopert na kartę do głosowania wrzuconych do urny',\n",
       "       'Liczba kart wyjętych z urny', 'w tym liczba kart wyjętych z kopert',\n",
       "       'Liczba kart nieważnych', 'Liczba kart ważnych',\n",
       "       'Liczba głosów nieważnych', 'Liczba głosów ważnych',\n",
       "       'Andrzej Sebastian Duda', 'Bronisław Maria Komorowski'],\n",
       "      dtype='object')"
      ]
     },
     "execution_count": 158,
     "metadata": {},
     "output_type": "execute_result"
    }
   ],
   "source": [
    "df2015_base.columns"
   ]
  },
  {
   "cell_type": "code",
   "execution_count": 159,
   "metadata": {},
   "outputs": [],
   "source": [
    "columns2015= ['TERYT gminy', 'Numer obwodu',\n",
    "      'Gmina', \n",
    "       'Województwo',\n",
    "       'Liczba wyborców uprawnionych do głosowania',       \n",
    "       'Liczba kart ważnych',\n",
    "       'Liczba głosów nieważnych',\n",
    "       'Andrzej Sebastian Duda']"
   ]
  },
  {
   "cell_type": "code",
   "execution_count": 160,
   "metadata": {},
   "outputs": [],
   "source": [
    "\n",
    "\n",
    "columns2015_dict={\n",
    "   \n",
    "    'TERYT gminy':\"teritorial_code\",\n",
    "    'Numer obwodu':\"voting_region_no\",\n",
    "    'Typ obszaru':\"area_type\",\n",
    "    'Gmina':\"municipality\", \n",
    "\n",
    "    'Województwo':\"province\",\n",
    "    'Liczba wyborców uprawnionych do głosowania':\"entitled_to_vote_2015\",       \n",
    "    'Liczba kart ważnych':\"valid_votes_2015\",\n",
    "    'Liczba głosów nieważnych':\"invalid_votes_2015\",\n",
    "    'Andrzej Sebastian Duda':\"PiS_votes_2015\"\n",
    "    \n",
    "}"
   ]
  },
  {
   "cell_type": "code",
   "execution_count": 161,
   "metadata": {},
   "outputs": [],
   "source": [
    "df2015=df2015_base[columns2015]"
   ]
  },
  {
   "cell_type": "code",
   "execution_count": 162,
   "metadata": {},
   "outputs": [],
   "source": [
    "df2015.rename(columns=columns2015_dict,inplace=True)"
   ]
  },
  {
   "cell_type": "code",
   "execution_count": 163,
   "metadata": {},
   "outputs": [
    {
     "name": "stderr",
     "output_type": "stream",
     "text": [
      "E:\\Anaconda\\lib\\site-packages\\ipykernel_launcher.py:1: SettingWithCopyWarning: \n",
      "A value is trying to be set on a copy of a slice from a DataFrame\n",
      "\n",
      "See the caveats in the documentation: https://pandas.pydata.org/pandas-docs/stable/user_guide/indexing.html#returning-a-view-versus-a-copy\n",
      "  \"\"\"Entry point for launching an IPython kernel.\n",
      "E:\\Anaconda\\lib\\site-packages\\ipykernel_launcher.py:2: SettingWithCopyWarning: \n",
      "A value is trying to be set on a copy of a slice from a DataFrame.\n",
      "Try using .loc[row_indexer,col_indexer] = value instead\n",
      "\n",
      "See the caveats in the documentation: https://pandas.pydata.org/pandas-docs/stable/user_guide/indexing.html#returning-a-view-versus-a-copy\n",
      "  \n",
      "E:\\Anaconda\\lib\\site-packages\\ipykernel_launcher.py:3: SettingWithCopyWarning: \n",
      "A value is trying to be set on a copy of a slice from a DataFrame.\n",
      "Try using .loc[row_indexer,col_indexer] = value instead\n",
      "\n",
      "See the caveats in the documentation: https://pandas.pydata.org/pandas-docs/stable/user_guide/indexing.html#returning-a-view-versus-a-copy\n",
      "  This is separate from the ipykernel package so we can avoid doing imports until\n"
     ]
    }
   ],
   "source": [
    "df2015.dropna(inplace=True)\n",
    "df2015[\"non_PiS_votes_2015\"]=pd.to_numeric(df2015[\"valid_votes_2015\"])-pd.to_numeric(df2015[\"PiS_votes_2015\"])\n",
    "df2015[\"turnout_2015\"]=pd.to_numeric(df2015.valid_votes_2015)/pd.to_numeric(df2015.entitled_to_vote_2015)"
   ]
  },
  {
   "cell_type": "code",
   "execution_count": 166,
   "metadata": {},
   "outputs": [
    {
     "data": {
      "text/html": [
       "<div>\n",
       "<style scoped>\n",
       "    .dataframe tbody tr th:only-of-type {\n",
       "        vertical-align: middle;\n",
       "    }\n",
       "\n",
       "    .dataframe tbody tr th {\n",
       "        vertical-align: top;\n",
       "    }\n",
       "\n",
       "    .dataframe thead th {\n",
       "        text-align: right;\n",
       "    }\n",
       "</style>\n",
       "<table border=\"1\" class=\"dataframe\">\n",
       "  <thead>\n",
       "    <tr style=\"text-align: right;\">\n",
       "      <th></th>\n",
       "      <th>teritorial_code</th>\n",
       "      <th>voting_region_no</th>\n",
       "      <th>municipality</th>\n",
       "      <th>province</th>\n",
       "      <th>entitled_to_vote_2015</th>\n",
       "      <th>valid_votes_2015</th>\n",
       "      <th>invalid_votes_2015</th>\n",
       "      <th>PiS_votes_2015</th>\n",
       "      <th>non_PiS_votes_2015</th>\n",
       "      <th>turnout_2015</th>\n",
       "    </tr>\n",
       "  </thead>\n",
       "  <tbody>\n",
       "    <tr>\n",
       "      <th>0</th>\n",
       "      <td>149901</td>\n",
       "      <td>209</td>\n",
       "      <td>Zagranica</td>\n",
       "      <td>mazowieckie</td>\n",
       "      <td>8044</td>\n",
       "      <td>3777</td>\n",
       "      <td>55</td>\n",
       "      <td>2176</td>\n",
       "      <td>1601</td>\n",
       "      <td>0.469543</td>\n",
       "    </tr>\n",
       "    <tr>\n",
       "      <th>1</th>\n",
       "      <td>149901</td>\n",
       "      <td>192</td>\n",
       "      <td>Zagranica</td>\n",
       "      <td>mazowieckie</td>\n",
       "      <td>7382</td>\n",
       "      <td>4298</td>\n",
       "      <td>78</td>\n",
       "      <td>2354</td>\n",
       "      <td>1944</td>\n",
       "      <td>0.582227</td>\n",
       "    </tr>\n",
       "    <tr>\n",
       "      <th>2</th>\n",
       "      <td>149901</td>\n",
       "      <td>194</td>\n",
       "      <td>Zagranica</td>\n",
       "      <td>mazowieckie</td>\n",
       "      <td>6170</td>\n",
       "      <td>3495</td>\n",
       "      <td>43</td>\n",
       "      <td>2028</td>\n",
       "      <td>1467</td>\n",
       "      <td>0.566451</td>\n",
       "    </tr>\n",
       "    <tr>\n",
       "      <th>3</th>\n",
       "      <td>149901</td>\n",
       "      <td>197</td>\n",
       "      <td>Zagranica</td>\n",
       "      <td>mazowieckie</td>\n",
       "      <td>6157</td>\n",
       "      <td>3500</td>\n",
       "      <td>52</td>\n",
       "      <td>2196</td>\n",
       "      <td>1304</td>\n",
       "      <td>0.568459</td>\n",
       "    </tr>\n",
       "    <tr>\n",
       "      <th>4</th>\n",
       "      <td>149901</td>\n",
       "      <td>173</td>\n",
       "      <td>Zagranica</td>\n",
       "      <td>mazowieckie</td>\n",
       "      <td>4333</td>\n",
       "      <td>2881</td>\n",
       "      <td>21</td>\n",
       "      <td>1318</td>\n",
       "      <td>1563</td>\n",
       "      <td>0.664897</td>\n",
       "    </tr>\n",
       "  </tbody>\n",
       "</table>\n",
       "</div>"
      ],
      "text/plain": [
       "   teritorial_code  voting_region_no municipality     province  \\\n",
       "0           149901               209    Zagranica  mazowieckie   \n",
       "1           149901               192    Zagranica  mazowieckie   \n",
       "2           149901               194    Zagranica  mazowieckie   \n",
       "3           149901               197    Zagranica  mazowieckie   \n",
       "4           149901               173    Zagranica  mazowieckie   \n",
       "\n",
       "   entitled_to_vote_2015  valid_votes_2015  invalid_votes_2015  \\\n",
       "0                   8044              3777                  55   \n",
       "1                   7382              4298                  78   \n",
       "2                   6170              3495                  43   \n",
       "3                   6157              3500                  52   \n",
       "4                   4333              2881                  21   \n",
       "\n",
       "   PiS_votes_2015  non_PiS_votes_2015  turnout_2015  \n",
       "0            2176                1601      0.469543  \n",
       "1            2354                1944      0.582227  \n",
       "2            2028                1467      0.566451  \n",
       "3            2196                1304      0.568459  \n",
       "4            1318                1563      0.664897  "
      ]
     },
     "execution_count": 166,
     "metadata": {},
     "output_type": "execute_result"
    }
   ],
   "source": [
    "df2015.head()"
   ]
  },
  {
   "cell_type": "code",
   "execution_count": 167,
   "metadata": {},
   "outputs": [
    {
     "data": {
      "text/plain": [
       "Index(['teritorial_code', 'voting_region_no', 'municipality', 'province',\n",
       "       'entitled_to_vote_2015', 'valid_votes_2015', 'invalid_votes_2015',\n",
       "       'PiS_votes_2015', 'non_PiS_votes_2015', 'turnout_2015'],\n",
       "      dtype='object')"
      ]
     },
     "execution_count": 167,
     "metadata": {},
     "output_type": "execute_result"
    }
   ],
   "source": [
    "df2015.columns"
   ]
  },
  {
   "cell_type": "code",
   "execution_count": 168,
   "metadata": {},
   "outputs": [],
   "source": [
    "df2015.to_csv(\"2015_results.csv\")"
   ]
  },
  {
   "cell_type": "markdown",
   "metadata": {},
   "source": [
    "## Combining data"
   ]
  },
  {
   "cell_type": "code",
   "execution_count": 184,
   "metadata": {},
   "outputs": [],
   "source": [
    "merged_columns_2015=[\"teritorial_code\",\"voting_region_no\",'entitled_to_vote_2015', 'valid_votes_2015', 'invalid_votes_2015','PiS_votes_2015',\"non_PiS_votes_2015\",\"turnout_2015\"]\n",
    "merged_columns_2019=[\"teritorial_code\",\"voting_region_no\",'entitled_to_vote_2019', 'valid_votes_2019', 'invalid_votes_2019','PiS_votes_2019',\"non_PiS_votes_2019\",\"turnout_2019\"]"
   ]
  },
  {
   "cell_type": "code",
   "execution_count": 185,
   "metadata": {},
   "outputs": [],
   "source": [
    "df_merged=df2020.merge(df2019[merged_columns_2019],how=\"left\",on=[\"teritorial_code\",\"voting_region_no\"])"
   ]
  },
  {
   "cell_type": "code",
   "execution_count": 186,
   "metadata": {},
   "outputs": [
    {
     "data": {
      "text/html": [
       "<div>\n",
       "<style scoped>\n",
       "    .dataframe tbody tr th:only-of-type {\n",
       "        vertical-align: middle;\n",
       "    }\n",
       "\n",
       "    .dataframe tbody tr th {\n",
       "        vertical-align: top;\n",
       "    }\n",
       "\n",
       "    .dataframe thead th {\n",
       "        text-align: right;\n",
       "    }\n",
       "</style>\n",
       "<table border=\"1\" class=\"dataframe\">\n",
       "  <thead>\n",
       "    <tr style=\"text-align: right;\">\n",
       "      <th></th>\n",
       "      <th>DEC_no</th>\n",
       "      <th>teritorial_code</th>\n",
       "      <th>municipality_type</th>\n",
       "      <th>voting_region_no</th>\n",
       "      <th>area_type</th>\n",
       "      <th>Location</th>\n",
       "      <th>municipality</th>\n",
       "      <th>county</th>\n",
       "      <th>province</th>\n",
       "      <th>entitled_to_vote_2020</th>\n",
       "      <th>...</th>\n",
       "      <th>invalid_votes_2020</th>\n",
       "      <th>PiS_votes_2020</th>\n",
       "      <th>non_PiS_votes_2020</th>\n",
       "      <th>turnout_2020</th>\n",
       "      <th>entitled_to_vote_2019</th>\n",
       "      <th>valid_votes_2019</th>\n",
       "      <th>invalid_votes_2019</th>\n",
       "      <th>PiS_votes_2019</th>\n",
       "      <th>non_PiS_votes_2019</th>\n",
       "      <th>turnout_2019</th>\n",
       "    </tr>\n",
       "  </thead>\n",
       "  <tbody>\n",
       "    <tr>\n",
       "      <th>0</th>\n",
       "      <td>2.0</td>\n",
       "      <td>20101.0</td>\n",
       "      <td>gmina miejska</td>\n",
       "      <td>1</td>\n",
       "      <td>miasto</td>\n",
       "      <td>Szkoła Podstawowa Nr 3, ul. Ceramiczna 5, 59-7...</td>\n",
       "      <td>m. Bolesławiec</td>\n",
       "      <td>bolesławiecki</td>\n",
       "      <td>dolnośląskie</td>\n",
       "      <td>1553</td>\n",
       "      <td>...</td>\n",
       "      <td>1</td>\n",
       "      <td>367</td>\n",
       "      <td>616</td>\n",
       "      <td>0.632968</td>\n",
       "      <td>1522</td>\n",
       "      <td>888</td>\n",
       "      <td>6</td>\n",
       "      <td>368</td>\n",
       "      <td>520.0</td>\n",
       "      <td>0.583443</td>\n",
       "    </tr>\n",
       "    <tr>\n",
       "      <th>1</th>\n",
       "      <td>2.0</td>\n",
       "      <td>20101.0</td>\n",
       "      <td>gmina miejska</td>\n",
       "      <td>2</td>\n",
       "      <td>miasto</td>\n",
       "      <td>Szkoła Podstawowa Nr 3, ul. Ceramiczna 5, 59-7...</td>\n",
       "      <td>m. Bolesławiec</td>\n",
       "      <td>bolesławiecki</td>\n",
       "      <td>dolnośląskie</td>\n",
       "      <td>1346</td>\n",
       "      <td>...</td>\n",
       "      <td>0</td>\n",
       "      <td>311</td>\n",
       "      <td>608</td>\n",
       "      <td>0.682764</td>\n",
       "      <td>1338</td>\n",
       "      <td>877</td>\n",
       "      <td>7</td>\n",
       "      <td>307</td>\n",
       "      <td>570.0</td>\n",
       "      <td>0.655456</td>\n",
       "    </tr>\n",
       "    <tr>\n",
       "      <th>2</th>\n",
       "      <td>2.0</td>\n",
       "      <td>20101.0</td>\n",
       "      <td>gmina miejska</td>\n",
       "      <td>3</td>\n",
       "      <td>miasto</td>\n",
       "      <td>Szkoła Podstawowa Nr 5, ul. Dolne Młyny 60, 59...</td>\n",
       "      <td>m. Bolesławiec</td>\n",
       "      <td>bolesławiecki</td>\n",
       "      <td>dolnośląskie</td>\n",
       "      <td>1414</td>\n",
       "      <td>...</td>\n",
       "      <td>2</td>\n",
       "      <td>326</td>\n",
       "      <td>578</td>\n",
       "      <td>0.639321</td>\n",
       "      <td>1432</td>\n",
       "      <td>903</td>\n",
       "      <td>10</td>\n",
       "      <td>331</td>\n",
       "      <td>572.0</td>\n",
       "      <td>0.630587</td>\n",
       "    </tr>\n",
       "    <tr>\n",
       "      <th>3</th>\n",
       "      <td>2.0</td>\n",
       "      <td>20101.0</td>\n",
       "      <td>gmina miejska</td>\n",
       "      <td>4</td>\n",
       "      <td>miasto</td>\n",
       "      <td>Szkoła Podstawowa Nr 5, ul. Dolne Młyny 60, 59...</td>\n",
       "      <td>m. Bolesławiec</td>\n",
       "      <td>bolesławiecki</td>\n",
       "      <td>dolnośląskie</td>\n",
       "      <td>1413</td>\n",
       "      <td>...</td>\n",
       "      <td>1</td>\n",
       "      <td>329</td>\n",
       "      <td>633</td>\n",
       "      <td>0.680821</td>\n",
       "      <td>1439</td>\n",
       "      <td>951</td>\n",
       "      <td>6</td>\n",
       "      <td>355</td>\n",
       "      <td>596.0</td>\n",
       "      <td>0.660876</td>\n",
       "    </tr>\n",
       "    <tr>\n",
       "      <th>4</th>\n",
       "      <td>2.0</td>\n",
       "      <td>20101.0</td>\n",
       "      <td>gmina miejska</td>\n",
       "      <td>5</td>\n",
       "      <td>miasto</td>\n",
       "      <td>Szkoła Podstawowa Nr 5, ul. Dolne Młyny 60, 59...</td>\n",
       "      <td>m. Bolesławiec</td>\n",
       "      <td>bolesławiecki</td>\n",
       "      <td>dolnośląskie</td>\n",
       "      <td>1360</td>\n",
       "      <td>...</td>\n",
       "      <td>2</td>\n",
       "      <td>304</td>\n",
       "      <td>536</td>\n",
       "      <td>0.617647</td>\n",
       "      <td>1384</td>\n",
       "      <td>831</td>\n",
       "      <td>12</td>\n",
       "      <td>288</td>\n",
       "      <td>543.0</td>\n",
       "      <td>0.600434</td>\n",
       "    </tr>\n",
       "  </tbody>\n",
       "</table>\n",
       "<p>5 rows × 21 columns</p>\n",
       "</div>"
      ],
      "text/plain": [
       "   DEC_no  teritorial_code municipality_type  voting_region_no area_type  \\\n",
       "0     2.0          20101.0     gmina miejska                 1    miasto   \n",
       "1     2.0          20101.0     gmina miejska                 2    miasto   \n",
       "2     2.0          20101.0     gmina miejska                 3    miasto   \n",
       "3     2.0          20101.0     gmina miejska                 4    miasto   \n",
       "4     2.0          20101.0     gmina miejska                 5    miasto   \n",
       "\n",
       "                                            Location    municipality  \\\n",
       "0  Szkoła Podstawowa Nr 3, ul. Ceramiczna 5, 59-7...  m. Bolesławiec   \n",
       "1  Szkoła Podstawowa Nr 3, ul. Ceramiczna 5, 59-7...  m. Bolesławiec   \n",
       "2  Szkoła Podstawowa Nr 5, ul. Dolne Młyny 60, 59...  m. Bolesławiec   \n",
       "3  Szkoła Podstawowa Nr 5, ul. Dolne Młyny 60, 59...  m. Bolesławiec   \n",
       "4  Szkoła Podstawowa Nr 5, ul. Dolne Młyny 60, 59...  m. Bolesławiec   \n",
       "\n",
       "          county      province entitled_to_vote_2020  ... invalid_votes_2020  \\\n",
       "0  bolesławiecki  dolnośląskie                  1553  ...                  1   \n",
       "1  bolesławiecki  dolnośląskie                  1346  ...                  0   \n",
       "2  bolesławiecki  dolnośląskie                  1414  ...                  2   \n",
       "3  bolesławiecki  dolnośląskie                  1413  ...                  1   \n",
       "4  bolesławiecki  dolnośląskie                  1360  ...                  2   \n",
       "\n",
       "  PiS_votes_2020 non_PiS_votes_2020  turnout_2020  entitled_to_vote_2019  \\\n",
       "0            367                616      0.632968                   1522   \n",
       "1            311                608      0.682764                   1338   \n",
       "2            326                578      0.639321                   1432   \n",
       "3            329                633      0.680821                   1439   \n",
       "4            304                536      0.617647                   1384   \n",
       "\n",
       "  valid_votes_2019 invalid_votes_2019 PiS_votes_2019 non_PiS_votes_2019  \\\n",
       "0              888                  6            368              520.0   \n",
       "1              877                  7            307              570.0   \n",
       "2              903                 10            331              572.0   \n",
       "3              951                  6            355              596.0   \n",
       "4              831                 12            288              543.0   \n",
       "\n",
       "   turnout_2019  \n",
       "0      0.583443  \n",
       "1      0.655456  \n",
       "2      0.630587  \n",
       "3      0.660876  \n",
       "4      0.600434  \n",
       "\n",
       "[5 rows x 21 columns]"
      ]
     },
     "execution_count": 186,
     "metadata": {},
     "output_type": "execute_result"
    }
   ],
   "source": [
    "df_merged.head()"
   ]
  },
  {
   "cell_type": "code",
   "execution_count": 187,
   "metadata": {},
   "outputs": [],
   "source": [
    "df_merged=df_merged.merge(df2015[merged_columns_2015],how=\"left\",on=[\"teritorial_code\",\"voting_region_no\"])"
   ]
  },
  {
   "cell_type": "code",
   "execution_count": 188,
   "metadata": {},
   "outputs": [
    {
     "data": {
      "text/plain": [
       "Index(['DEC_no', 'teritorial_code', 'municipality_type', 'voting_region_no',\n",
       "       'area_type', 'Location', 'municipality', 'county', 'province',\n",
       "       'entitled_to_vote_2020', 'valid_votes_2020', 'invalid_votes_2020',\n",
       "       'PiS_votes_2020', 'non_PiS_votes_2020', 'turnout_2020',\n",
       "       'entitled_to_vote_2019', 'valid_votes_2019', 'invalid_votes_2019',\n",
       "       'PiS_votes_2019', 'non_PiS_votes_2019', 'turnout_2019',\n",
       "       'entitled_to_vote_2015', 'valid_votes_2015', 'invalid_votes_2015',\n",
       "       'PiS_votes_2015', 'non_PiS_votes_2015', 'turnout_2015'],\n",
       "      dtype='object')"
      ]
     },
     "execution_count": 188,
     "metadata": {},
     "output_type": "execute_result"
    }
   ],
   "source": [
    "df_merged.columns"
   ]
  },
  {
   "cell_type": "code",
   "execution_count": 189,
   "metadata": {},
   "outputs": [
    {
     "data": {
      "text/plain": [
       "DEC_no                     0\n",
       "teritorial_code            0\n",
       "municipality_type          0\n",
       "voting_region_no           0\n",
       "area_type                  0\n",
       "Location                   0\n",
       "municipality               0\n",
       "county                     0\n",
       "province                   0\n",
       "entitled_to_vote_2020      0\n",
       "valid_votes_2020           0\n",
       "invalid_votes_2020         0\n",
       "PiS_votes_2020             0\n",
       "non_PiS_votes_2020         0\n",
       "turnout_2020               0\n",
       "entitled_to_vote_2019     87\n",
       "valid_votes_2019          87\n",
       "invalid_votes_2019        87\n",
       "PiS_votes_2019            87\n",
       "non_PiS_votes_2019        87\n",
       "turnout_2019              87\n",
       "entitled_to_vote_2015    320\n",
       "valid_votes_2015         320\n",
       "invalid_votes_2015       320\n",
       "PiS_votes_2015           320\n",
       "non_PiS_votes_2015       320\n",
       "turnout_2015             320\n",
       "dtype: int64"
      ]
     },
     "execution_count": 189,
     "metadata": {},
     "output_type": "execute_result"
    }
   ],
   "source": [
    "df_merged.isna().sum()"
   ]
  },
  {
   "cell_type": "code",
   "execution_count": 190,
   "metadata": {},
   "outputs": [],
   "source": [
    "df_merged.dropna(inplace=True)"
   ]
  },
  {
   "cell_type": "code",
   "execution_count": 191,
   "metadata": {},
   "outputs": [],
   "source": [
    "for year in [\"2019\",\"2015\"]:\n",
    "    for col_name in ['entitled_to_vote', 'valid_votes', 'invalid_votes',\"turnout\",\n",
    "           'PiS_votes',\"non_PiS_votes\"]:\n",
    "\n",
    "        new_col_name=col_name+\"_\"+year+\"_absoulute_variance\"\n",
    "        new_col_name_pct=col_name+\"_\"+year+\"_pct_variance\"\n",
    "       \n",
    "        base_col_name=col_name+\"_\"+\"2020\"\n",
    "        benchmark_col_name=col_name+\"_\"+year\n",
    "        \n",
    "        df_merged[new_col_name]=pd.to_numeric(df_merged[base_col_name])-pd.to_numeric(df_merged[benchmark_col_name])\n",
    "        df_merged[new_col_name_pct]=pd.to_numeric(df_merged[base_col_name])/pd.to_numeric(df_merged[benchmark_col_name])-1\n"
   ]
  },
  {
   "cell_type": "code",
   "execution_count": 192,
   "metadata": {},
   "outputs": [
    {
     "data": {
      "text/plain": [
       "Index(['DEC_no', 'teritorial_code', 'municipality_type', 'voting_region_no',\n",
       "       'area_type', 'Location', 'municipality', 'county', 'province',\n",
       "       'entitled_to_vote_2020', 'valid_votes_2020', 'invalid_votes_2020',\n",
       "       'PiS_votes_2020', 'non_PiS_votes_2020', 'turnout_2020',\n",
       "       'entitled_to_vote_2019', 'valid_votes_2019', 'invalid_votes_2019',\n",
       "       'PiS_votes_2019', 'non_PiS_votes_2019', 'turnout_2019',\n",
       "       'entitled_to_vote_2015', 'valid_votes_2015', 'invalid_votes_2015',\n",
       "       'PiS_votes_2015', 'non_PiS_votes_2015', 'turnout_2015',\n",
       "       'entitled_to_vote_2019_absoulute_variance',\n",
       "       'entitled_to_vote_2019_pct_variance',\n",
       "       'valid_votes_2019_absoulute_variance', 'valid_votes_2019_pct_variance',\n",
       "       'invalid_votes_2019_absoulute_variance',\n",
       "       'invalid_votes_2019_pct_variance', 'turnout_2019_absoulute_variance',\n",
       "       'turnout_2019_pct_variance', 'PiS_votes_2019_absoulute_variance',\n",
       "       'PiS_votes_2019_pct_variance', 'non_PiS_votes_2019_absoulute_variance',\n",
       "       'non_PiS_votes_2019_pct_variance',\n",
       "       'entitled_to_vote_2015_absoulute_variance',\n",
       "       'entitled_to_vote_2015_pct_variance',\n",
       "       'valid_votes_2015_absoulute_variance', 'valid_votes_2015_pct_variance',\n",
       "       'invalid_votes_2015_absoulute_variance',\n",
       "       'invalid_votes_2015_pct_variance', 'turnout_2015_absoulute_variance',\n",
       "       'turnout_2015_pct_variance', 'PiS_votes_2015_absoulute_variance',\n",
       "       'PiS_votes_2015_pct_variance', 'non_PiS_votes_2015_absoulute_variance',\n",
       "       'non_PiS_votes_2015_pct_variance'],\n",
       "      dtype='object')"
      ]
     },
     "execution_count": 192,
     "metadata": {},
     "output_type": "execute_result"
    }
   ],
   "source": [
    "df_merged.columns"
   ]
  },
  {
   "cell_type": "code",
   "execution_count": 193,
   "metadata": {},
   "outputs": [],
   "source": [
    "df_merged.to_excel(\"voting_regions_anomalies.xlsx\",index=False)"
   ]
  },
  {
   "cell_type": "code",
   "execution_count": 194,
   "metadata": {},
   "outputs": [
    {
     "data": {
      "text/plain": [
       "array(['miasto', 'wieś', 'miasto i wieś', 'dzielnica w m.st. Warszawa'],\n",
       "      dtype=object)"
      ]
     },
     "execution_count": 194,
     "metadata": {},
     "output_type": "execute_result"
    }
   ],
   "source": [
    "df.area_type.unique()"
   ]
  },
  {
   "cell_type": "code",
   "execution_count": 195,
   "metadata": {},
   "outputs": [
    {
     "data": {
      "text/plain": [
       "(26816, 51)"
      ]
     },
     "execution_count": 195,
     "metadata": {},
     "output_type": "execute_result"
    }
   ],
   "source": [
    "df_merged.shape"
   ]
  },
  {
   "cell_type": "code",
   "execution_count": 196,
   "metadata": {},
   "outputs": [
    {
     "data": {
      "text/plain": [
       "(27166, 15)"
      ]
     },
     "execution_count": 196,
     "metadata": {},
     "output_type": "execute_result"
    }
   ],
   "source": [
    "df2020.shape"
   ]
  },
  {
   "cell_type": "markdown",
   "metadata": {},
   "source": [
    "# Preparing data for anomaly exclusion algorithm"
   ]
  },
  {
   "cell_type": "code",
   "execution_count": 223,
   "metadata": {},
   "outputs": [],
   "source": [
    "df=pd.read_excel(\"voting_regions_anomalies.xlsx\")"
   ]
  },
  {
   "cell_type": "code",
   "execution_count": 224,
   "metadata": {},
   "outputs": [
    {
     "data": {
      "text/plain": [
       "(26668, 51)"
      ]
     },
     "execution_count": 224,
     "metadata": {},
     "output_type": "execute_result"
    }
   ],
   "source": [
    "df=df.query(\"area_type!='zagranica'\")\n",
    "df.shape"
   ]
  },
  {
   "cell_type": "code",
   "execution_count": 225,
   "metadata": {},
   "outputs": [],
   "source": [
    "df[\"sufficient_sample\"]=np.where((df.area_type=='wieś')&\\\n",
    "                                 (df.entitled_to_vote_2020>300)&\\\n",
    "                                 (np.abs(df.entitled_to_vote_2019_pct_variance)<0.25)&\\\n",
    "                                 (np.abs(df.entitled_to_vote_2015_pct_variance)<0.50),\\\n",
    "                                 1,0)"
   ]
  },
  {
   "cell_type": "code",
   "execution_count": 226,
   "metadata": {},
   "outputs": [],
   "source": [
    "df[\"sufficient_sample\"]=np.where((df.area_type!='wieś')&\\\n",
    "                                 (df.entitled_to_vote_2020>450)&\\\n",
    "                                 (np.abs(df.entitled_to_vote_2019_absoulute_variance)<100)&\\\n",
    "                                 (np.abs(df.entitled_to_vote_2015_absoulute_variance)<200),\n",
    "                                    1,df.sufficient_sample)"
   ]
  },
  {
   "cell_type": "code",
   "execution_count": 227,
   "metadata": {},
   "outputs": [
    {
     "data": {
      "text/plain": [
       "0.4973498233215548"
      ]
     },
     "execution_count": 227,
     "metadata": {},
     "output_type": "execute_result"
    }
   ],
   "source": [
    "df.query(\"sufficient_sample==1\").entitled_to_vote_2015_pct_variance.max()"
   ]
  },
  {
   "cell_type": "code",
   "execution_count": 228,
   "metadata": {},
   "outputs": [
    {
     "data": {
      "text/plain": [
       "99"
      ]
     },
     "execution_count": 228,
     "metadata": {},
     "output_type": "execute_result"
    }
   ],
   "source": [
    "df.query(\"sufficient_sample==1&area_type!='wieś'\").entitled_to_vote_2019_absoulute_variance.max()"
   ]
  },
  {
   "cell_type": "code",
   "execution_count": 229,
   "metadata": {},
   "outputs": [
    {
     "data": {
      "text/plain": [
       "21531825"
      ]
     },
     "execution_count": 229,
     "metadata": {},
     "output_type": "execute_result"
    }
   ],
   "source": [
    "df.query(\"sufficient_sample==1\").entitled_to_vote_2020.sum()"
   ]
  },
  {
   "cell_type": "code",
   "execution_count": 230,
   "metadata": {},
   "outputs": [
    {
     "data": {
      "text/plain": [
       "8096929"
      ]
     },
     "execution_count": 230,
     "metadata": {},
     "output_type": "execute_result"
    }
   ],
   "source": [
    "df.query(\"sufficient_sample!=1\").entitled_to_vote_2020.sum()"
   ]
  },
  {
   "cell_type": "code",
   "execution_count": 231,
   "metadata": {},
   "outputs": [],
   "source": [
    "df=df.query(\"sufficient_sample==1\")"
   ]
  },
  {
   "cell_type": "code",
   "execution_count": 232,
   "metadata": {},
   "outputs": [
    {
     "data": {
      "text/plain": [
       "301"
      ]
     },
     "execution_count": 232,
     "metadata": {},
     "output_type": "execute_result"
    }
   ],
   "source": [
    "df.entitled_to_vote_2020.min()"
   ]
  },
  {
   "cell_type": "code",
   "execution_count": 233,
   "metadata": {},
   "outputs": [],
   "source": [
    "df.reset_index(inplace=True, drop=True)"
   ]
  },
  {
   "cell_type": "code",
   "execution_count": 234,
   "metadata": {},
   "outputs": [
    {
     "data": {
      "text/plain": [
       "(19790, 52)"
      ]
     },
     "execution_count": 234,
     "metadata": {},
     "output_type": "execute_result"
    }
   ],
   "source": [
    "df.shape"
   ]
  },
  {
   "cell_type": "code",
   "execution_count": 235,
   "metadata": {},
   "outputs": [],
   "source": [
    "df[\"is_village\"]=np.where(df.area_type==\"wieś\",1,0)"
   ]
  },
  {
   "cell_type": "code",
   "execution_count": 236,
   "metadata": {},
   "outputs": [],
   "source": [
    "df.replace(np.inf, np.nan,inplace=True)"
   ]
  },
  {
   "cell_type": "code",
   "execution_count": 237,
   "metadata": {},
   "outputs": [
    {
     "data": {
      "text/plain": [
       "Index(['DEC_no', 'teritorial_code', 'municipality_type', 'voting_region_no',\n",
       "       'area_type', 'Location', 'municipality', 'county', 'province',\n",
       "       'entitled_to_vote_2020', 'valid_votes_2020', 'invalid_votes_2020',\n",
       "       'PiS_votes_2020', 'non_PiS_votes_2020', 'turnout_2020',\n",
       "       'entitled_to_vote_2019', 'valid_votes_2019', 'invalid_votes_2019',\n",
       "       'PiS_votes_2019', 'non_PiS_votes_2019', 'turnout_2019',\n",
       "       'entitled_to_vote_2015', 'valid_votes_2015', 'invalid_votes_2015',\n",
       "       'PiS_votes_2015', 'non_PiS_votes_2015', 'turnout_2015',\n",
       "       'entitled_to_vote_2019_absoulute_variance',\n",
       "       'entitled_to_vote_2019_pct_variance',\n",
       "       'valid_votes_2019_absoulute_variance', 'valid_votes_2019_pct_variance',\n",
       "       'invalid_votes_2019_absoulute_variance',\n",
       "       'invalid_votes_2019_pct_variance', 'turnout_2019_absoulute_variance',\n",
       "       'turnout_2019_pct_variance', 'PiS_votes_2019_absoulute_variance',\n",
       "       'PiS_votes_2019_pct_variance', 'non_PiS_votes_2019_absoulute_variance',\n",
       "       'non_PiS_votes_2019_pct_variance',\n",
       "       'entitled_to_vote_2015_absoulute_variance',\n",
       "       'entitled_to_vote_2015_pct_variance',\n",
       "       'valid_votes_2015_absoulute_variance', 'valid_votes_2015_pct_variance',\n",
       "       'invalid_votes_2015_absoulute_variance',\n",
       "       'invalid_votes_2015_pct_variance', 'turnout_2015_absoulute_variance',\n",
       "       'turnout_2015_pct_variance', 'PiS_votes_2015_absoulute_variance',\n",
       "       'PiS_votes_2015_pct_variance', 'non_PiS_votes_2015_absoulute_variance',\n",
       "       'non_PiS_votes_2015_pct_variance', 'sufficient_sample', 'is_village'],\n",
       "      dtype='object')"
      ]
     },
     "execution_count": 237,
     "metadata": {},
     "output_type": "execute_result"
    }
   ],
   "source": [
    "df.columns"
   ]
  },
  {
   "cell_type": "code",
   "execution_count": 238,
   "metadata": {},
   "outputs": [],
   "source": [
    "forecast_columns=['teritorial_code','is_village','turnout_2020','entitled_to_vote_2020', 'valid_votes_2020', 'invalid_votes_2020',\n",
    "       'PiS_votes_2020', 'non_PiS_votes_2020',\n",
    "     \n",
    "             \n",
    "       'turnout_2019_absoulute_variance',\n",
    "\n",
    "    \n",
    "       'valid_votes_2019_absoulute_variance',\n",
    "       'valid_votes_2019_pct_variance',\n",
    "       'invalid_votes_2019_absoulute_variance',\n",
    "                  \n",
    "       'PiS_votes_2019_absoulute_variance',\n",
    "       'PiS_votes_2019_pct_variance',\n",
    "       'non_PiS_votes_2019_absoulute_variance',\n",
    "       'non_PiS_votes_2019_pct_variance',\n",
    "     \n",
    "       'turnout_2015_absoulute_variance',\n",
    "\n",
    "       'valid_votes_2015_absoulute_variance', \n",
    "       'valid_votes_2015_pct_variance',\n",
    "       'invalid_votes_2015_absoulute_variance',\n",
    "       'PiS_votes_2015_absoulute_variance',\n",
    "       'PiS_votes_2015_pct_variance', \n",
    "        'non_PiS_votes_2015_absoulute_variance',\n",
    "       'non_PiS_votes_2015_pct_variance', ]"
   ]
  },
  {
   "cell_type": "code",
   "execution_count": 239,
   "metadata": {},
   "outputs": [],
   "source": [
    "from sklearn.impute import SimpleImputer"
   ]
  },
  {
   "cell_type": "code",
   "execution_count": 240,
   "metadata": {},
   "outputs": [],
   "source": [
    "imp_mean = SimpleImputer(missing_values=np.nan, strategy='mean')"
   ]
  },
  {
   "cell_type": "code",
   "execution_count": 241,
   "metadata": {},
   "outputs": [
    {
     "data": {
      "text/plain": [
       "DEC_no                                        0\n",
       "teritorial_code                               0\n",
       "municipality_type                             0\n",
       "voting_region_no                              0\n",
       "area_type                                     0\n",
       "Location                                      0\n",
       "municipality                                  0\n",
       "county                                        0\n",
       "province                                      0\n",
       "entitled_to_vote_2020                         0\n",
       "valid_votes_2020                              0\n",
       "invalid_votes_2020                            0\n",
       "PiS_votes_2020                                0\n",
       "non_PiS_votes_2020                            0\n",
       "turnout_2020                                  0\n",
       "entitled_to_vote_2019                         0\n",
       "valid_votes_2019                              0\n",
       "invalid_votes_2019                            0\n",
       "PiS_votes_2019                                0\n",
       "non_PiS_votes_2019                            0\n",
       "turnout_2019                                  0\n",
       "entitled_to_vote_2015                         0\n",
       "valid_votes_2015                              0\n",
       "invalid_votes_2015                            0\n",
       "PiS_votes_2015                                0\n",
       "non_PiS_votes_2015                            0\n",
       "turnout_2015                                  0\n",
       "entitled_to_vote_2019_absoulute_variance      0\n",
       "entitled_to_vote_2019_pct_variance            0\n",
       "valid_votes_2019_absoulute_variance           0\n",
       "valid_votes_2019_pct_variance                 0\n",
       "invalid_votes_2019_absoulute_variance         0\n",
       "invalid_votes_2019_pct_variance             222\n",
       "turnout_2019_absoulute_variance               0\n",
       "turnout_2019_pct_variance                     0\n",
       "PiS_votes_2019_absoulute_variance             0\n",
       "PiS_votes_2019_pct_variance                   0\n",
       "non_PiS_votes_2019_absoulute_variance         0\n",
       "non_PiS_votes_2019_pct_variance               0\n",
       "entitled_to_vote_2015_absoulute_variance      0\n",
       "entitled_to_vote_2015_pct_variance            0\n",
       "valid_votes_2015_absoulute_variance           0\n",
       "valid_votes_2015_pct_variance                 0\n",
       "invalid_votes_2015_absoulute_variance         0\n",
       "invalid_votes_2015_pct_variance             588\n",
       "turnout_2015_absoulute_variance               0\n",
       "turnout_2015_pct_variance                     0\n",
       "PiS_votes_2015_absoulute_variance             0\n",
       "PiS_votes_2015_pct_variance                   0\n",
       "non_PiS_votes_2015_absoulute_variance         0\n",
       "non_PiS_votes_2015_pct_variance               0\n",
       "sufficient_sample                             0\n",
       "is_village                                    0\n",
       "dtype: int64"
      ]
     },
     "execution_count": 241,
     "metadata": {},
     "output_type": "execute_result"
    }
   ],
   "source": [
    "df.isna().sum()"
   ]
  },
  {
   "cell_type": "code",
   "execution_count": 242,
   "metadata": {},
   "outputs": [],
   "source": [
    "df[forecast_columns]=imp_mean.fit_transform(df[forecast_columns])"
   ]
  },
  {
   "cell_type": "code",
   "execution_count": 243,
   "metadata": {},
   "outputs": [
    {
     "data": {
      "text/html": [
       "<div>\n",
       "<style scoped>\n",
       "    .dataframe tbody tr th:only-of-type {\n",
       "        vertical-align: middle;\n",
       "    }\n",
       "\n",
       "    .dataframe tbody tr th {\n",
       "        vertical-align: top;\n",
       "    }\n",
       "\n",
       "    .dataframe thead th {\n",
       "        text-align: right;\n",
       "    }\n",
       "</style>\n",
       "<table border=\"1\" class=\"dataframe\">\n",
       "  <thead>\n",
       "    <tr style=\"text-align: right;\">\n",
       "      <th></th>\n",
       "      <th>teritorial_code</th>\n",
       "      <th>is_village</th>\n",
       "      <th>turnout_2020</th>\n",
       "      <th>entitled_to_vote_2020</th>\n",
       "      <th>valid_votes_2020</th>\n",
       "      <th>invalid_votes_2020</th>\n",
       "      <th>PiS_votes_2020</th>\n",
       "      <th>non_PiS_votes_2020</th>\n",
       "      <th>turnout_2019_absoulute_variance</th>\n",
       "      <th>valid_votes_2019_absoulute_variance</th>\n",
       "      <th>...</th>\n",
       "      <th>non_PiS_votes_2019_absoulute_variance</th>\n",
       "      <th>non_PiS_votes_2019_pct_variance</th>\n",
       "      <th>turnout_2015_absoulute_variance</th>\n",
       "      <th>valid_votes_2015_absoulute_variance</th>\n",
       "      <th>valid_votes_2015_pct_variance</th>\n",
       "      <th>invalid_votes_2015_absoulute_variance</th>\n",
       "      <th>PiS_votes_2015_absoulute_variance</th>\n",
       "      <th>PiS_votes_2015_pct_variance</th>\n",
       "      <th>non_PiS_votes_2015_absoulute_variance</th>\n",
       "      <th>non_PiS_votes_2015_pct_variance</th>\n",
       "    </tr>\n",
       "  </thead>\n",
       "  <tbody>\n",
       "    <tr>\n",
       "      <th>count</th>\n",
       "      <td>19790.000000</td>\n",
       "      <td>19790.000000</td>\n",
       "      <td>19790.000000</td>\n",
       "      <td>19790.000000</td>\n",
       "      <td>19790.000000</td>\n",
       "      <td>19790.000000</td>\n",
       "      <td>19790.000000</td>\n",
       "      <td>19790.000000</td>\n",
       "      <td>19790.000000</td>\n",
       "      <td>19790.000000</td>\n",
       "      <td>...</td>\n",
       "      <td>19790.000000</td>\n",
       "      <td>19790.000000</td>\n",
       "      <td>19790.000000</td>\n",
       "      <td>19790.000000</td>\n",
       "      <td>19790.000000</td>\n",
       "      <td>19790.000000</td>\n",
       "      <td>19790.000000</td>\n",
       "      <td>19790.000000</td>\n",
       "      <td>19790.000000</td>\n",
       "      <td>19790.000000</td>\n",
       "    </tr>\n",
       "    <tr>\n",
       "      <th>mean</th>\n",
       "      <td>164514.343759</td>\n",
       "      <td>0.615058</td>\n",
       "      <td>0.620248</td>\n",
       "      <td>1088.015412</td>\n",
       "      <td>686.615917</td>\n",
       "      <td>2.111622</td>\n",
       "      <td>325.029965</td>\n",
       "      <td>361.585953</td>\n",
       "      <td>0.040239</td>\n",
       "      <td>36.587974</td>\n",
       "      <td>...</td>\n",
       "      <td>16.226832</td>\n",
       "      <td>0.070796</td>\n",
       "      <td>0.089853</td>\n",
       "      <td>85.490854</td>\n",
       "      <td>0.157847</td>\n",
       "      <td>-6.441890</td>\n",
       "      <td>3.780192</td>\n",
       "      <td>0.068631</td>\n",
       "      <td>81.710662</td>\n",
       "      <td>0.340999</td>\n",
       "    </tr>\n",
       "    <tr>\n",
       "      <th>std</th>\n",
       "      <td>90428.799366</td>\n",
       "      <td>0.486594</td>\n",
       "      <td>0.077476</td>\n",
       "      <td>480.185788</td>\n",
       "      <td>339.422631</td>\n",
       "      <td>1.882366</td>\n",
       "      <td>153.069550</td>\n",
       "      <td>248.510566</td>\n",
       "      <td>0.032004</td>\n",
       "      <td>37.729873</td>\n",
       "      <td>...</td>\n",
       "      <td>29.427229</td>\n",
       "      <td>0.126264</td>\n",
       "      <td>0.039235</td>\n",
       "      <td>86.658701</td>\n",
       "      <td>0.141501</td>\n",
       "      <td>6.216408</td>\n",
       "      <td>58.254688</td>\n",
       "      <td>0.246922</td>\n",
       "      <td>85.235483</td>\n",
       "      <td>0.335336</td>\n",
       "    </tr>\n",
       "    <tr>\n",
       "      <th>min</th>\n",
       "      <td>20101.000000</td>\n",
       "      <td>0.000000</td>\n",
       "      <td>0.237822</td>\n",
       "      <td>301.000000</td>\n",
       "      <td>107.000000</td>\n",
       "      <td>0.000000</td>\n",
       "      <td>29.000000</td>\n",
       "      <td>15.000000</td>\n",
       "      <td>-0.167098</td>\n",
       "      <td>-264.000000</td>\n",
       "      <td>...</td>\n",
       "      <td>-218.000000</td>\n",
       "      <td>-0.597015</td>\n",
       "      <td>-0.387778</td>\n",
       "      <td>-613.000000</td>\n",
       "      <td>-0.575448</td>\n",
       "      <td>-80.000000</td>\n",
       "      <td>-625.000000</td>\n",
       "      <td>-0.646288</td>\n",
       "      <td>-353.000000</td>\n",
       "      <td>-0.746988</td>\n",
       "    </tr>\n",
       "    <tr>\n",
       "      <th>25%</th>\n",
       "      <td>100405.000000</td>\n",
       "      <td>0.000000</td>\n",
       "      <td>0.570309</td>\n",
       "      <td>697.000000</td>\n",
       "      <td>411.000000</td>\n",
       "      <td>1.000000</td>\n",
       "      <td>212.000000</td>\n",
       "      <td>162.000000</td>\n",
       "      <td>0.019603</td>\n",
       "      <td>16.000000</td>\n",
       "      <td>...</td>\n",
       "      <td>-1.000000</td>\n",
       "      <td>-0.002452</td>\n",
       "      <td>0.066489</td>\n",
       "      <td>36.000000</td>\n",
       "      <td>0.076644</td>\n",
       "      <td>-10.000000</td>\n",
       "      <td>-26.000000</td>\n",
       "      <td>-0.075839</td>\n",
       "      <td>26.000000</td>\n",
       "      <td>0.135454</td>\n",
       "    </tr>\n",
       "    <tr>\n",
       "      <th>50%</th>\n",
       "      <td>146301.000000</td>\n",
       "      <td>1.000000</td>\n",
       "      <td>0.624368</td>\n",
       "      <td>1028.000000</td>\n",
       "      <td>632.000000</td>\n",
       "      <td>2.000000</td>\n",
       "      <td>301.000000</td>\n",
       "      <td>302.000000</td>\n",
       "      <td>0.039522</td>\n",
       "      <td>35.000000</td>\n",
       "      <td>...</td>\n",
       "      <td>14.000000</td>\n",
       "      <td>0.054959</td>\n",
       "      <td>0.088739</td>\n",
       "      <td>72.000000</td>\n",
       "      <td>0.147965</td>\n",
       "      <td>-5.000000</td>\n",
       "      <td>9.000000</td>\n",
       "      <td>0.031915</td>\n",
       "      <td>63.000000</td>\n",
       "      <td>0.290710</td>\n",
       "    </tr>\n",
       "    <tr>\n",
       "      <th>75%</th>\n",
       "      <td>241504.000000</td>\n",
       "      <td>1.000000</td>\n",
       "      <td>0.673770</td>\n",
       "      <td>1428.000000</td>\n",
       "      <td>914.000000</td>\n",
       "      <td>3.000000</td>\n",
       "      <td>410.000000</td>\n",
       "      <td>508.000000</td>\n",
       "      <td>0.059744</td>\n",
       "      <td>57.000000</td>\n",
       "      <td>...</td>\n",
       "      <td>32.000000</td>\n",
       "      <td>0.123932</td>\n",
       "      <td>0.112380</td>\n",
       "      <td>123.000000</td>\n",
       "      <td>0.222222</td>\n",
       "      <td>-2.000000</td>\n",
       "      <td>38.000000</td>\n",
       "      <td>0.167742</td>\n",
       "      <td>119.000000</td>\n",
       "      <td>0.489528</td>\n",
       "    </tr>\n",
       "    <tr>\n",
       "      <th>max</th>\n",
       "      <td>326301.000000</td>\n",
       "      <td>1.000000</td>\n",
       "      <td>0.895636</td>\n",
       "      <td>2875.000000</td>\n",
       "      <td>2190.000000</td>\n",
       "      <td>21.000000</td>\n",
       "      <td>1238.000000</td>\n",
       "      <td>1730.000000</td>\n",
       "      <td>0.302849</td>\n",
       "      <td>457.000000</td>\n",
       "      <td>...</td>\n",
       "      <td>370.000000</td>\n",
       "      <td>1.388889</td>\n",
       "      <td>0.552674</td>\n",
       "      <td>762.000000</td>\n",
       "      <td>2.974843</td>\n",
       "      <td>18.000000</td>\n",
       "      <td>365.000000</td>\n",
       "      <td>5.687500</td>\n",
       "      <td>748.000000</td>\n",
       "      <td>5.925926</td>\n",
       "    </tr>\n",
       "  </tbody>\n",
       "</table>\n",
       "<p>8 rows × 24 columns</p>\n",
       "</div>"
      ],
      "text/plain": [
       "       teritorial_code    is_village  turnout_2020  entitled_to_vote_2020  \\\n",
       "count     19790.000000  19790.000000  19790.000000           19790.000000   \n",
       "mean     164514.343759      0.615058      0.620248            1088.015412   \n",
       "std       90428.799366      0.486594      0.077476             480.185788   \n",
       "min       20101.000000      0.000000      0.237822             301.000000   \n",
       "25%      100405.000000      0.000000      0.570309             697.000000   \n",
       "50%      146301.000000      1.000000      0.624368            1028.000000   \n",
       "75%      241504.000000      1.000000      0.673770            1428.000000   \n",
       "max      326301.000000      1.000000      0.895636            2875.000000   \n",
       "\n",
       "       valid_votes_2020  invalid_votes_2020  PiS_votes_2020  \\\n",
       "count      19790.000000        19790.000000    19790.000000   \n",
       "mean         686.615917            2.111622      325.029965   \n",
       "std          339.422631            1.882366      153.069550   \n",
       "min          107.000000            0.000000       29.000000   \n",
       "25%          411.000000            1.000000      212.000000   \n",
       "50%          632.000000            2.000000      301.000000   \n",
       "75%          914.000000            3.000000      410.000000   \n",
       "max         2190.000000           21.000000     1238.000000   \n",
       "\n",
       "       non_PiS_votes_2020  turnout_2019_absoulute_variance  \\\n",
       "count        19790.000000                     19790.000000   \n",
       "mean           361.585953                         0.040239   \n",
       "std            248.510566                         0.032004   \n",
       "min             15.000000                        -0.167098   \n",
       "25%            162.000000                         0.019603   \n",
       "50%            302.000000                         0.039522   \n",
       "75%            508.000000                         0.059744   \n",
       "max           1730.000000                         0.302849   \n",
       "\n",
       "       valid_votes_2019_absoulute_variance  ...  \\\n",
       "count                         19790.000000  ...   \n",
       "mean                             36.587974  ...   \n",
       "std                              37.729873  ...   \n",
       "min                            -264.000000  ...   \n",
       "25%                              16.000000  ...   \n",
       "50%                              35.000000  ...   \n",
       "75%                              57.000000  ...   \n",
       "max                             457.000000  ...   \n",
       "\n",
       "       non_PiS_votes_2019_absoulute_variance  non_PiS_votes_2019_pct_variance  \\\n",
       "count                           19790.000000                     19790.000000   \n",
       "mean                               16.226832                         0.070796   \n",
       "std                                29.427229                         0.126264   \n",
       "min                              -218.000000                        -0.597015   \n",
       "25%                                -1.000000                        -0.002452   \n",
       "50%                                14.000000                         0.054959   \n",
       "75%                                32.000000                         0.123932   \n",
       "max                               370.000000                         1.388889   \n",
       "\n",
       "       turnout_2015_absoulute_variance  valid_votes_2015_absoulute_variance  \\\n",
       "count                     19790.000000                         19790.000000   \n",
       "mean                          0.089853                            85.490854   \n",
       "std                           0.039235                            86.658701   \n",
       "min                          -0.387778                          -613.000000   \n",
       "25%                           0.066489                            36.000000   \n",
       "50%                           0.088739                            72.000000   \n",
       "75%                           0.112380                           123.000000   \n",
       "max                           0.552674                           762.000000   \n",
       "\n",
       "       valid_votes_2015_pct_variance  invalid_votes_2015_absoulute_variance  \\\n",
       "count                   19790.000000                           19790.000000   \n",
       "mean                        0.157847                              -6.441890   \n",
       "std                         0.141501                               6.216408   \n",
       "min                        -0.575448                             -80.000000   \n",
       "25%                         0.076644                             -10.000000   \n",
       "50%                         0.147965                              -5.000000   \n",
       "75%                         0.222222                              -2.000000   \n",
       "max                         2.974843                              18.000000   \n",
       "\n",
       "       PiS_votes_2015_absoulute_variance  PiS_votes_2015_pct_variance  \\\n",
       "count                       19790.000000                 19790.000000   \n",
       "mean                            3.780192                     0.068631   \n",
       "std                            58.254688                     0.246922   \n",
       "min                          -625.000000                    -0.646288   \n",
       "25%                           -26.000000                    -0.075839   \n",
       "50%                             9.000000                     0.031915   \n",
       "75%                            38.000000                     0.167742   \n",
       "max                           365.000000                     5.687500   \n",
       "\n",
       "       non_PiS_votes_2015_absoulute_variance  non_PiS_votes_2015_pct_variance  \n",
       "count                           19790.000000                     19790.000000  \n",
       "mean                               81.710662                         0.340999  \n",
       "std                                85.235483                         0.335336  \n",
       "min                              -353.000000                        -0.746988  \n",
       "25%                                26.000000                         0.135454  \n",
       "50%                                63.000000                         0.290710  \n",
       "75%                               119.000000                         0.489528  \n",
       "max                               748.000000                         5.925926  \n",
       "\n",
       "[8 rows x 24 columns]"
      ]
     },
     "execution_count": 243,
     "metadata": {},
     "output_type": "execute_result"
    }
   ],
   "source": [
    "df[forecast_columns].describe()"
   ]
  },
  {
   "cell_type": "code",
   "execution_count": 244,
   "metadata": {},
   "outputs": [],
   "source": [
    "X=df[forecast_columns]"
   ]
  },
  {
   "cell_type": "code",
   "execution_count": 245,
   "metadata": {},
   "outputs": [
    {
     "data": {
      "text/plain": [
       "(19790, 24)"
      ]
     },
     "execution_count": 245,
     "metadata": {},
     "output_type": "execute_result"
    }
   ],
   "source": [
    "X.shape"
   ]
  },
  {
   "cell_type": "markdown",
   "metadata": {},
   "source": [
    "# Training isolation forest"
   ]
  },
  {
   "cell_type": "code",
   "execution_count": 246,
   "metadata": {},
   "outputs": [],
   "source": [
    "from sklearn.ensemble import IsolationForest"
   ]
  },
  {
   "cell_type": "code",
   "execution_count": 247,
   "metadata": {},
   "outputs": [],
   "source": [
    "IF=IsolationForest(n_estimators=400,max_samples=\"auto\",random_state=40,bootstrap=True,\n",
    "                         contamination=0.1,max_features=5)"
   ]
  },
  {
   "cell_type": "code",
   "execution_count": 248,
   "metadata": {},
   "outputs": [
    {
     "data": {
      "text/plain": [
       "IsolationForest(behaviour='deprecated', bootstrap=True, contamination=0.1,\n",
       "                max_features=5, max_samples='auto', n_estimators=400,\n",
       "                n_jobs=None, random_state=40, verbose=0, warm_start=False)"
      ]
     },
     "execution_count": 248,
     "metadata": {},
     "output_type": "execute_result"
    }
   ],
   "source": [
    "IF.fit(X)"
   ]
  },
  {
   "cell_type": "code",
   "execution_count": 249,
   "metadata": {},
   "outputs": [],
   "source": [
    "anomaly_arr=IF.predict(X)"
   ]
  },
  {
   "cell_type": "code",
   "execution_count": 250,
   "metadata": {},
   "outputs": [
    {
     "data": {
      "text/plain": [
       "0.8"
      ]
     },
     "execution_count": 250,
     "metadata": {},
     "output_type": "execute_result"
    }
   ],
   "source": [
    "anomaly_arr.mean()"
   ]
  },
  {
   "cell_type": "code",
   "execution_count": 251,
   "metadata": {},
   "outputs": [
    {
     "data": {
      "text/plain": [
       "-1"
      ]
     },
     "execution_count": 251,
     "metadata": {},
     "output_type": "execute_result"
    }
   ],
   "source": [
    "anomaly_arr.min()"
   ]
  },
  {
   "cell_type": "code",
   "execution_count": 252,
   "metadata": {},
   "outputs": [],
   "source": [
    "df[\"is_anomaly\"]=np.where(anomaly_arr==1,0,1)"
   ]
  },
  {
   "cell_type": "code",
   "execution_count": 253,
   "metadata": {},
   "outputs": [],
   "source": [
    "df_norm=df.query(\"is_anomaly==0\")\n",
    "df_outlier=df.query(\"is_anomaly==1\")"
   ]
  },
  {
   "cell_type": "markdown",
   "metadata": {},
   "source": [
    "## Sanity check anomaly vs normal"
   ]
  },
  {
   "cell_type": "code",
   "execution_count": 254,
   "metadata": {},
   "outputs": [],
   "source": [
    "sanity_check_columns=[\n",
    "             \n",
    "       'turnout_2019_absoulute_variance',\n",
    "\n",
    "    \n",
    "       'valid_votes_2019_absoulute_variance',\n",
    "       'valid_votes_2019_pct_variance',\n",
    "       'invalid_votes_2019_absoulute_variance',\n",
    "                  \n",
    "       'PiS_votes_2019_absoulute_variance',\n",
    "       'PiS_votes_2019_pct_variance',\n",
    "       'non_PiS_votes_2019_absoulute_variance',\n",
    "       'non_PiS_votes_2019_pct_variance',\n",
    "     \n",
    "       'turnout_2015_absoulute_variance',\n",
    "\n",
    "       'valid_votes_2015_absoulute_variance', \n",
    "       'valid_votes_2015_pct_variance',\n",
    "       'invalid_votes_2015_absoulute_variance',\n",
    "       'PiS_votes_2015_absoulute_variance',\n",
    "       'PiS_votes_2015_pct_variance', \n",
    "        'non_PiS_votes_2015_absoulute_variance',\n",
    "       'non_PiS_votes_2015_pct_variance', ]"
   ]
  },
  {
   "cell_type": "code",
   "execution_count": 255,
   "metadata": {},
   "outputs": [
    {
     "data": {
      "text/html": [
       "<div>\n",
       "<style scoped>\n",
       "    .dataframe tbody tr th:only-of-type {\n",
       "        vertical-align: middle;\n",
       "    }\n",
       "\n",
       "    .dataframe tbody tr th {\n",
       "        vertical-align: top;\n",
       "    }\n",
       "\n",
       "    .dataframe thead th {\n",
       "        text-align: right;\n",
       "    }\n",
       "</style>\n",
       "<table border=\"1\" class=\"dataframe\">\n",
       "  <thead>\n",
       "    <tr style=\"text-align: right;\">\n",
       "      <th></th>\n",
       "      <th>turnout_2019_absoulute_variance</th>\n",
       "      <th>valid_votes_2019_absoulute_variance</th>\n",
       "      <th>valid_votes_2019_pct_variance</th>\n",
       "      <th>invalid_votes_2019_absoulute_variance</th>\n",
       "      <th>PiS_votes_2019_absoulute_variance</th>\n",
       "      <th>PiS_votes_2019_pct_variance</th>\n",
       "      <th>non_PiS_votes_2019_absoulute_variance</th>\n",
       "      <th>non_PiS_votes_2019_pct_variance</th>\n",
       "      <th>turnout_2015_absoulute_variance</th>\n",
       "      <th>valid_votes_2015_absoulute_variance</th>\n",
       "      <th>valid_votes_2015_pct_variance</th>\n",
       "      <th>invalid_votes_2015_absoulute_variance</th>\n",
       "      <th>PiS_votes_2015_absoulute_variance</th>\n",
       "      <th>PiS_votes_2015_pct_variance</th>\n",
       "      <th>non_PiS_votes_2015_absoulute_variance</th>\n",
       "      <th>non_PiS_votes_2015_pct_variance</th>\n",
       "    </tr>\n",
       "  </thead>\n",
       "  <tbody>\n",
       "    <tr>\n",
       "      <th>count</th>\n",
       "      <td>17811.000000</td>\n",
       "      <td>17811.000000</td>\n",
       "      <td>17811.000000</td>\n",
       "      <td>17811.000000</td>\n",
       "      <td>17811.000000</td>\n",
       "      <td>17811.000000</td>\n",
       "      <td>17811.000000</td>\n",
       "      <td>17811.000000</td>\n",
       "      <td>17811.000000</td>\n",
       "      <td>17811.000000</td>\n",
       "      <td>17811.000000</td>\n",
       "      <td>17811.000000</td>\n",
       "      <td>17811.000000</td>\n",
       "      <td>17811.000000</td>\n",
       "      <td>17811.000000</td>\n",
       "      <td>17811.000000</td>\n",
       "    </tr>\n",
       "    <tr>\n",
       "      <th>mean</th>\n",
       "      <td>0.041400</td>\n",
       "      <td>36.586491</td>\n",
       "      <td>0.075062</td>\n",
       "      <td>-5.728595</td>\n",
       "      <td>20.818202</td>\n",
       "      <td>0.089637</td>\n",
       "      <td>15.768289</td>\n",
       "      <td>0.071761</td>\n",
       "      <td>0.089581</td>\n",
       "      <td>78.733648</td>\n",
       "      <td>0.153753</td>\n",
       "      <td>-5.987311</td>\n",
       "      <td>5.985571</td>\n",
       "      <td>0.066442</td>\n",
       "      <td>72.748077</td>\n",
       "      <td>0.338566</td>\n",
       "    </tr>\n",
       "    <tr>\n",
       "      <th>std</th>\n",
       "      <td>0.028594</td>\n",
       "      <td>30.404953</td>\n",
       "      <td>0.061601</td>\n",
       "      <td>4.470604</td>\n",
       "      <td>24.017408</td>\n",
       "      <td>0.107360</td>\n",
       "      <td>24.415260</td>\n",
       "      <td>0.120186</td>\n",
       "      <td>0.035250</td>\n",
       "      <td>64.050972</td>\n",
       "      <td>0.117012</td>\n",
       "      <td>5.711534</td>\n",
       "      <td>48.605703</td>\n",
       "      <td>0.201813</td>\n",
       "      <td>65.638303</td>\n",
       "      <td>0.321647</td>\n",
       "    </tr>\n",
       "    <tr>\n",
       "      <th>min</th>\n",
       "      <td>-0.082213</td>\n",
       "      <td>-98.000000</td>\n",
       "      <td>-0.104762</td>\n",
       "      <td>-42.000000</td>\n",
       "      <td>-77.000000</td>\n",
       "      <td>-0.284585</td>\n",
       "      <td>-112.000000</td>\n",
       "      <td>-0.469565</td>\n",
       "      <td>-0.095540</td>\n",
       "      <td>-310.000000</td>\n",
       "      <td>-0.401180</td>\n",
       "      <td>-80.000000</td>\n",
       "      <td>-297.000000</td>\n",
       "      <td>-0.548913</td>\n",
       "      <td>-234.000000</td>\n",
       "      <td>-0.668085</td>\n",
       "    </tr>\n",
       "    <tr>\n",
       "      <th>25%</th>\n",
       "      <td>0.021722</td>\n",
       "      <td>18.000000</td>\n",
       "      <td>0.031951</td>\n",
       "      <td>-8.000000</td>\n",
       "      <td>5.000000</td>\n",
       "      <td>0.018121</td>\n",
       "      <td>0.000000</td>\n",
       "      <td>0.000000</td>\n",
       "      <td>0.067250</td>\n",
       "      <td>36.000000</td>\n",
       "      <td>0.078528</td>\n",
       "      <td>-9.000000</td>\n",
       "      <td>-22.000000</td>\n",
       "      <td>-0.066176</td>\n",
       "      <td>26.000000</td>\n",
       "      <td>0.137523</td>\n",
       "    </tr>\n",
       "    <tr>\n",
       "      <th>50%</th>\n",
       "      <td>0.040458</td>\n",
       "      <td>35.000000</td>\n",
       "      <td>0.070234</td>\n",
       "      <td>-5.000000</td>\n",
       "      <td>20.000000</td>\n",
       "      <td>0.075714</td>\n",
       "      <td>14.000000</td>\n",
       "      <td>0.056410</td>\n",
       "      <td>0.088471</td>\n",
       "      <td>69.000000</td>\n",
       "      <td>0.145967</td>\n",
       "      <td>-5.000000</td>\n",
       "      <td>9.000000</td>\n",
       "      <td>0.034783</td>\n",
       "      <td>60.000000</td>\n",
       "      <td>0.286164</td>\n",
       "    </tr>\n",
       "    <tr>\n",
       "      <th>75%</th>\n",
       "      <td>0.059724</td>\n",
       "      <td>55.000000</td>\n",
       "      <td>0.111868</td>\n",
       "      <td>-3.000000</td>\n",
       "      <td>35.000000</td>\n",
       "      <td>0.142857</td>\n",
       "      <td>30.000000</td>\n",
       "      <td>0.123967</td>\n",
       "      <td>0.111044</td>\n",
       "      <td>114.000000</td>\n",
       "      <td>0.215859</td>\n",
       "      <td>-2.000000</td>\n",
       "      <td>37.000000</td>\n",
       "      <td>0.162560</td>\n",
       "      <td>110.000000</td>\n",
       "      <td>0.479884</td>\n",
       "    </tr>\n",
       "    <tr>\n",
       "      <th>max</th>\n",
       "      <td>0.285417</td>\n",
       "      <td>165.000000</td>\n",
       "      <td>0.421875</td>\n",
       "      <td>9.000000</td>\n",
       "      <td>150.000000</td>\n",
       "      <td>1.571429</td>\n",
       "      <td>126.000000</td>\n",
       "      <td>1.388889</td>\n",
       "      <td>0.317394</td>\n",
       "      <td>364.000000</td>\n",
       "      <td>1.044025</td>\n",
       "      <td>9.000000</td>\n",
       "      <td>237.000000</td>\n",
       "      <td>2.220000</td>\n",
       "      <td>356.000000</td>\n",
       "      <td>5.925926</td>\n",
       "    </tr>\n",
       "  </tbody>\n",
       "</table>\n",
       "</div>"
      ],
      "text/plain": [
       "       turnout_2019_absoulute_variance  valid_votes_2019_absoulute_variance  \\\n",
       "count                     17811.000000                         17811.000000   \n",
       "mean                          0.041400                            36.586491   \n",
       "std                           0.028594                            30.404953   \n",
       "min                          -0.082213                           -98.000000   \n",
       "25%                           0.021722                            18.000000   \n",
       "50%                           0.040458                            35.000000   \n",
       "75%                           0.059724                            55.000000   \n",
       "max                           0.285417                           165.000000   \n",
       "\n",
       "       valid_votes_2019_pct_variance  invalid_votes_2019_absoulute_variance  \\\n",
       "count                   17811.000000                           17811.000000   \n",
       "mean                        0.075062                              -5.728595   \n",
       "std                         0.061601                               4.470604   \n",
       "min                        -0.104762                             -42.000000   \n",
       "25%                         0.031951                              -8.000000   \n",
       "50%                         0.070234                              -5.000000   \n",
       "75%                         0.111868                              -3.000000   \n",
       "max                         0.421875                               9.000000   \n",
       "\n",
       "       PiS_votes_2019_absoulute_variance  PiS_votes_2019_pct_variance  \\\n",
       "count                       17811.000000                 17811.000000   \n",
       "mean                           20.818202                     0.089637   \n",
       "std                            24.017408                     0.107360   \n",
       "min                           -77.000000                    -0.284585   \n",
       "25%                             5.000000                     0.018121   \n",
       "50%                            20.000000                     0.075714   \n",
       "75%                            35.000000                     0.142857   \n",
       "max                           150.000000                     1.571429   \n",
       "\n",
       "       non_PiS_votes_2019_absoulute_variance  non_PiS_votes_2019_pct_variance  \\\n",
       "count                           17811.000000                     17811.000000   \n",
       "mean                               15.768289                         0.071761   \n",
       "std                                24.415260                         0.120186   \n",
       "min                              -112.000000                        -0.469565   \n",
       "25%                                 0.000000                         0.000000   \n",
       "50%                                14.000000                         0.056410   \n",
       "75%                                30.000000                         0.123967   \n",
       "max                               126.000000                         1.388889   \n",
       "\n",
       "       turnout_2015_absoulute_variance  valid_votes_2015_absoulute_variance  \\\n",
       "count                     17811.000000                         17811.000000   \n",
       "mean                          0.089581                            78.733648   \n",
       "std                           0.035250                            64.050972   \n",
       "min                          -0.095540                          -310.000000   \n",
       "25%                           0.067250                            36.000000   \n",
       "50%                           0.088471                            69.000000   \n",
       "75%                           0.111044                           114.000000   \n",
       "max                           0.317394                           364.000000   \n",
       "\n",
       "       valid_votes_2015_pct_variance  invalid_votes_2015_absoulute_variance  \\\n",
       "count                   17811.000000                           17811.000000   \n",
       "mean                        0.153753                              -5.987311   \n",
       "std                         0.117012                               5.711534   \n",
       "min                        -0.401180                             -80.000000   \n",
       "25%                         0.078528                              -9.000000   \n",
       "50%                         0.145967                              -5.000000   \n",
       "75%                         0.215859                              -2.000000   \n",
       "max                         1.044025                               9.000000   \n",
       "\n",
       "       PiS_votes_2015_absoulute_variance  PiS_votes_2015_pct_variance  \\\n",
       "count                       17811.000000                 17811.000000   \n",
       "mean                            5.985571                     0.066442   \n",
       "std                            48.605703                     0.201813   \n",
       "min                          -297.000000                    -0.548913   \n",
       "25%                           -22.000000                    -0.066176   \n",
       "50%                             9.000000                     0.034783   \n",
       "75%                            37.000000                     0.162560   \n",
       "max                           237.000000                     2.220000   \n",
       "\n",
       "       non_PiS_votes_2015_absoulute_variance  non_PiS_votes_2015_pct_variance  \n",
       "count                           17811.000000                     17811.000000  \n",
       "mean                               72.748077                         0.338566  \n",
       "std                                65.638303                         0.321647  \n",
       "min                              -234.000000                        -0.668085  \n",
       "25%                                26.000000                         0.137523  \n",
       "50%                                60.000000                         0.286164  \n",
       "75%                               110.000000                         0.479884  \n",
       "max                               356.000000                         5.925926  "
      ]
     },
     "execution_count": 255,
     "metadata": {},
     "output_type": "execute_result"
    }
   ],
   "source": [
    "df_norm[sanity_check_columns].describe()"
   ]
  },
  {
   "cell_type": "code",
   "execution_count": 256,
   "metadata": {},
   "outputs": [
    {
     "data": {
      "text/html": [
       "<div>\n",
       "<style scoped>\n",
       "    .dataframe tbody tr th:only-of-type {\n",
       "        vertical-align: middle;\n",
       "    }\n",
       "\n",
       "    .dataframe tbody tr th {\n",
       "        vertical-align: top;\n",
       "    }\n",
       "\n",
       "    .dataframe thead th {\n",
       "        text-align: right;\n",
       "    }\n",
       "</style>\n",
       "<table border=\"1\" class=\"dataframe\">\n",
       "  <thead>\n",
       "    <tr style=\"text-align: right;\">\n",
       "      <th></th>\n",
       "      <th>turnout_2019_absoulute_variance</th>\n",
       "      <th>valid_votes_2019_absoulute_variance</th>\n",
       "      <th>valid_votes_2019_pct_variance</th>\n",
       "      <th>invalid_votes_2019_absoulute_variance</th>\n",
       "      <th>PiS_votes_2019_absoulute_variance</th>\n",
       "      <th>PiS_votes_2019_pct_variance</th>\n",
       "      <th>non_PiS_votes_2019_absoulute_variance</th>\n",
       "      <th>non_PiS_votes_2019_pct_variance</th>\n",
       "      <th>turnout_2015_absoulute_variance</th>\n",
       "      <th>valid_votes_2015_absoulute_variance</th>\n",
       "      <th>valid_votes_2015_pct_variance</th>\n",
       "      <th>invalid_votes_2015_absoulute_variance</th>\n",
       "      <th>PiS_votes_2015_absoulute_variance</th>\n",
       "      <th>PiS_votes_2015_pct_variance</th>\n",
       "      <th>non_PiS_votes_2015_absoulute_variance</th>\n",
       "      <th>non_PiS_votes_2015_pct_variance</th>\n",
       "    </tr>\n",
       "  </thead>\n",
       "  <tbody>\n",
       "    <tr>\n",
       "      <th>count</th>\n",
       "      <td>1979.000000</td>\n",
       "      <td>1979.000000</td>\n",
       "      <td>1979.000000</td>\n",
       "      <td>1979.000000</td>\n",
       "      <td>1979.000000</td>\n",
       "      <td>1979.000000</td>\n",
       "      <td>1979.000000</td>\n",
       "      <td>1979.000000</td>\n",
       "      <td>1979.000000</td>\n",
       "      <td>1979.000000</td>\n",
       "      <td>1979.000000</td>\n",
       "      <td>1979.000000</td>\n",
       "      <td>1979.000000</td>\n",
       "      <td>1979.000000</td>\n",
       "      <td>1979.000000</td>\n",
       "      <td>1979.000000</td>\n",
       "    </tr>\n",
       "    <tr>\n",
       "      <th>mean</th>\n",
       "      <td>0.029790</td>\n",
       "      <td>36.601314</td>\n",
       "      <td>0.070057</td>\n",
       "      <td>-7.413845</td>\n",
       "      <td>16.247600</td>\n",
       "      <td>0.099161</td>\n",
       "      <td>20.353714</td>\n",
       "      <td>0.062111</td>\n",
       "      <td>0.092302</td>\n",
       "      <td>146.305710</td>\n",
       "      <td>0.194694</td>\n",
       "      <td>-10.533098</td>\n",
       "      <td>-16.068216</td>\n",
       "      <td>0.088330</td>\n",
       "      <td>162.373926</td>\n",
       "      <td>0.362894</td>\n",
       "    </tr>\n",
       "    <tr>\n",
       "      <th>std</th>\n",
       "      <td>0.052573</td>\n",
       "      <td>76.928671</td>\n",
       "      <td>0.124250</td>\n",
       "      <td>6.737609</td>\n",
       "      <td>47.349841</td>\n",
       "      <td>0.257205</td>\n",
       "      <td>57.247447</td>\n",
       "      <td>0.171336</td>\n",
       "      <td>0.064854</td>\n",
       "      <td>184.609522</td>\n",
       "      <td>0.274819</td>\n",
       "      <td>8.618548</td>\n",
       "      <td>110.640812</td>\n",
       "      <td>0.492777</td>\n",
       "      <td>163.272343</td>\n",
       "      <td>0.439260</td>\n",
       "    </tr>\n",
       "    <tr>\n",
       "      <th>min</th>\n",
       "      <td>-0.167098</td>\n",
       "      <td>-264.000000</td>\n",
       "      <td>-0.452145</td>\n",
       "      <td>-50.000000</td>\n",
       "      <td>-172.000000</td>\n",
       "      <td>-0.430556</td>\n",
       "      <td>-218.000000</td>\n",
       "      <td>-0.597015</td>\n",
       "      <td>-0.387778</td>\n",
       "      <td>-613.000000</td>\n",
       "      <td>-0.575448</td>\n",
       "      <td>-53.000000</td>\n",
       "      <td>-625.000000</td>\n",
       "      <td>-0.646288</td>\n",
       "      <td>-353.000000</td>\n",
       "      <td>-0.746988</td>\n",
       "    </tr>\n",
       "    <tr>\n",
       "      <th>25%</th>\n",
       "      <td>-0.007905</td>\n",
       "      <td>-19.000000</td>\n",
       "      <td>-0.018075</td>\n",
       "      <td>-11.000000</td>\n",
       "      <td>-20.000000</td>\n",
       "      <td>-0.054225</td>\n",
       "      <td>-20.000000</td>\n",
       "      <td>-0.033368</td>\n",
       "      <td>0.055947</td>\n",
       "      <td>30.000000</td>\n",
       "      <td>0.040947</td>\n",
       "      <td>-16.000000</td>\n",
       "      <td>-94.000000</td>\n",
       "      <td>-0.210501</td>\n",
       "      <td>31.000000</td>\n",
       "      <td>0.101281</td>\n",
       "    </tr>\n",
       "    <tr>\n",
       "      <th>50%</th>\n",
       "      <td>0.023822</td>\n",
       "      <td>40.000000</td>\n",
       "      <td>0.046512</td>\n",
       "      <td>-6.000000</td>\n",
       "      <td>10.000000</td>\n",
       "      <td>0.026622</td>\n",
       "      <td>19.000000</td>\n",
       "      <td>0.036609</td>\n",
       "      <td>0.093700</td>\n",
       "      <td>152.000000</td>\n",
       "      <td>0.179061</td>\n",
       "      <td>-10.000000</td>\n",
       "      <td>-10.000000</td>\n",
       "      <td>-0.024390</td>\n",
       "      <td>159.000000</td>\n",
       "      <td>0.342466</td>\n",
       "    </tr>\n",
       "    <tr>\n",
       "      <th>75%</th>\n",
       "      <td>0.060629</td>\n",
       "      <td>91.000000</td>\n",
       "      <td>0.119615</td>\n",
       "      <td>-3.000000</td>\n",
       "      <td>47.000000</td>\n",
       "      <td>0.168495</td>\n",
       "      <td>56.500000</td>\n",
       "      <td>0.123256</td>\n",
       "      <td>0.128181</td>\n",
       "      <td>268.500000</td>\n",
       "      <td>0.325582</td>\n",
       "      <td>-4.000000</td>\n",
       "      <td>62.000000</td>\n",
       "      <td>0.266954</td>\n",
       "      <td>284.500000</td>\n",
       "      <td>0.587389</td>\n",
       "    </tr>\n",
       "    <tr>\n",
       "      <th>max</th>\n",
       "      <td>0.302849</td>\n",
       "      <td>457.000000</td>\n",
       "      <td>0.715190</td>\n",
       "      <td>11.000000</td>\n",
       "      <td>246.000000</td>\n",
       "      <td>3.120000</td>\n",
       "      <td>370.000000</td>\n",
       "      <td>1.224490</td>\n",
       "      <td>0.552674</td>\n",
       "      <td>762.000000</td>\n",
       "      <td>2.974843</td>\n",
       "      <td>18.000000</td>\n",
       "      <td>365.000000</td>\n",
       "      <td>5.687500</td>\n",
       "      <td>748.000000</td>\n",
       "      <td>4.306818</td>\n",
       "    </tr>\n",
       "  </tbody>\n",
       "</table>\n",
       "</div>"
      ],
      "text/plain": [
       "       turnout_2019_absoulute_variance  valid_votes_2019_absoulute_variance  \\\n",
       "count                      1979.000000                          1979.000000   \n",
       "mean                          0.029790                            36.601314   \n",
       "std                           0.052573                            76.928671   \n",
       "min                          -0.167098                          -264.000000   \n",
       "25%                          -0.007905                           -19.000000   \n",
       "50%                           0.023822                            40.000000   \n",
       "75%                           0.060629                            91.000000   \n",
       "max                           0.302849                           457.000000   \n",
       "\n",
       "       valid_votes_2019_pct_variance  invalid_votes_2019_absoulute_variance  \\\n",
       "count                    1979.000000                            1979.000000   \n",
       "mean                        0.070057                              -7.413845   \n",
       "std                         0.124250                               6.737609   \n",
       "min                        -0.452145                             -50.000000   \n",
       "25%                        -0.018075                             -11.000000   \n",
       "50%                         0.046512                              -6.000000   \n",
       "75%                         0.119615                              -3.000000   \n",
       "max                         0.715190                              11.000000   \n",
       "\n",
       "       PiS_votes_2019_absoulute_variance  PiS_votes_2019_pct_variance  \\\n",
       "count                        1979.000000                  1979.000000   \n",
       "mean                           16.247600                     0.099161   \n",
       "std                            47.349841                     0.257205   \n",
       "min                          -172.000000                    -0.430556   \n",
       "25%                           -20.000000                    -0.054225   \n",
       "50%                            10.000000                     0.026622   \n",
       "75%                            47.000000                     0.168495   \n",
       "max                           246.000000                     3.120000   \n",
       "\n",
       "       non_PiS_votes_2019_absoulute_variance  non_PiS_votes_2019_pct_variance  \\\n",
       "count                            1979.000000                      1979.000000   \n",
       "mean                               20.353714                         0.062111   \n",
       "std                                57.247447                         0.171336   \n",
       "min                              -218.000000                        -0.597015   \n",
       "25%                               -20.000000                        -0.033368   \n",
       "50%                                19.000000                         0.036609   \n",
       "75%                                56.500000                         0.123256   \n",
       "max                               370.000000                         1.224490   \n",
       "\n",
       "       turnout_2015_absoulute_variance  valid_votes_2015_absoulute_variance  \\\n",
       "count                      1979.000000                          1979.000000   \n",
       "mean                          0.092302                           146.305710   \n",
       "std                           0.064854                           184.609522   \n",
       "min                          -0.387778                          -613.000000   \n",
       "25%                           0.055947                            30.000000   \n",
       "50%                           0.093700                           152.000000   \n",
       "75%                           0.128181                           268.500000   \n",
       "max                           0.552674                           762.000000   \n",
       "\n",
       "       valid_votes_2015_pct_variance  invalid_votes_2015_absoulute_variance  \\\n",
       "count                    1979.000000                            1979.000000   \n",
       "mean                        0.194694                             -10.533098   \n",
       "std                         0.274819                               8.618548   \n",
       "min                        -0.575448                             -53.000000   \n",
       "25%                         0.040947                             -16.000000   \n",
       "50%                         0.179061                             -10.000000   \n",
       "75%                         0.325582                              -4.000000   \n",
       "max                         2.974843                              18.000000   \n",
       "\n",
       "       PiS_votes_2015_absoulute_variance  PiS_votes_2015_pct_variance  \\\n",
       "count                        1979.000000                  1979.000000   \n",
       "mean                          -16.068216                     0.088330   \n",
       "std                           110.640812                     0.492777   \n",
       "min                          -625.000000                    -0.646288   \n",
       "25%                           -94.000000                    -0.210501   \n",
       "50%                           -10.000000                    -0.024390   \n",
       "75%                            62.000000                     0.266954   \n",
       "max                           365.000000                     5.687500   \n",
       "\n",
       "       non_PiS_votes_2015_absoulute_variance  non_PiS_votes_2015_pct_variance  \n",
       "count                            1979.000000                      1979.000000  \n",
       "mean                              162.373926                         0.362894  \n",
       "std                               163.272343                         0.439260  \n",
       "min                              -353.000000                        -0.746988  \n",
       "25%                                31.000000                         0.101281  \n",
       "50%                               159.000000                         0.342466  \n",
       "75%                               284.500000                         0.587389  \n",
       "max                               748.000000                         4.306818  "
      ]
     },
     "execution_count": 256,
     "metadata": {},
     "output_type": "execute_result"
    }
   ],
   "source": [
    "df_outlier[sanity_check_columns].describe()"
   ]
  },
  {
   "cell_type": "code",
   "execution_count": 257,
   "metadata": {},
   "outputs": [
    {
     "data": {
      "text/html": [
       "<div>\n",
       "<style scoped>\n",
       "    .dataframe tbody tr th:only-of-type {\n",
       "        vertical-align: middle;\n",
       "    }\n",
       "\n",
       "    .dataframe tbody tr th {\n",
       "        vertical-align: top;\n",
       "    }\n",
       "\n",
       "    .dataframe thead th {\n",
       "        text-align: right;\n",
       "    }\n",
       "</style>\n",
       "<table border=\"1\" class=\"dataframe\">\n",
       "  <thead>\n",
       "    <tr style=\"text-align: right;\">\n",
       "      <th></th>\n",
       "      <th>turnout_2019_absoulute_variance</th>\n",
       "      <th>valid_votes_2019_absoulute_variance</th>\n",
       "      <th>valid_votes_2019_pct_variance</th>\n",
       "      <th>invalid_votes_2019_absoulute_variance</th>\n",
       "      <th>PiS_votes_2019_absoulute_variance</th>\n",
       "      <th>PiS_votes_2019_pct_variance</th>\n",
       "      <th>non_PiS_votes_2019_absoulute_variance</th>\n",
       "      <th>non_PiS_votes_2019_pct_variance</th>\n",
       "      <th>turnout_2015_absoulute_variance</th>\n",
       "      <th>valid_votes_2015_absoulute_variance</th>\n",
       "      <th>valid_votes_2015_pct_variance</th>\n",
       "      <th>invalid_votes_2015_absoulute_variance</th>\n",
       "      <th>PiS_votes_2015_absoulute_variance</th>\n",
       "      <th>PiS_votes_2015_pct_variance</th>\n",
       "      <th>non_PiS_votes_2015_absoulute_variance</th>\n",
       "      <th>non_PiS_votes_2015_pct_variance</th>\n",
       "    </tr>\n",
       "  </thead>\n",
       "  <tbody>\n",
       "    <tr>\n",
       "      <th>count</th>\n",
       "      <td>-15832.000000</td>\n",
       "      <td>-15832.000000</td>\n",
       "      <td>-15832.000000</td>\n",
       "      <td>-15832.000000</td>\n",
       "      <td>-15832.000000</td>\n",
       "      <td>-15832.000000</td>\n",
       "      <td>-15832.000000</td>\n",
       "      <td>-15832.000000</td>\n",
       "      <td>-15832.000000</td>\n",
       "      <td>-15832.000000</td>\n",
       "      <td>-15832.000000</td>\n",
       "      <td>-15832.000000</td>\n",
       "      <td>-15832.000000</td>\n",
       "      <td>-15832.000000</td>\n",
       "      <td>-15832.000000</td>\n",
       "      <td>-15832.000000</td>\n",
       "    </tr>\n",
       "    <tr>\n",
       "      <th>mean</th>\n",
       "      <td>-0.011610</td>\n",
       "      <td>0.014822</td>\n",
       "      <td>-0.005005</td>\n",
       "      <td>-1.685251</td>\n",
       "      <td>-4.570602</td>\n",
       "      <td>0.009524</td>\n",
       "      <td>4.585425</td>\n",
       "      <td>-0.009649</td>\n",
       "      <td>0.002721</td>\n",
       "      <td>67.572062</td>\n",
       "      <td>0.040942</td>\n",
       "      <td>-4.545786</td>\n",
       "      <td>-22.053787</td>\n",
       "      <td>0.021888</td>\n",
       "      <td>89.625849</td>\n",
       "      <td>0.024328</td>\n",
       "    </tr>\n",
       "    <tr>\n",
       "      <th>std</th>\n",
       "      <td>0.023979</td>\n",
       "      <td>46.523718</td>\n",
       "      <td>0.062648</td>\n",
       "      <td>2.267005</td>\n",
       "      <td>23.332433</td>\n",
       "      <td>0.149844</td>\n",
       "      <td>32.832187</td>\n",
       "      <td>0.051150</td>\n",
       "      <td>0.029604</td>\n",
       "      <td>120.558549</td>\n",
       "      <td>0.157807</td>\n",
       "      <td>2.907013</td>\n",
       "      <td>62.035108</td>\n",
       "      <td>0.290964</td>\n",
       "      <td>97.634041</td>\n",
       "      <td>0.117613</td>\n",
       "    </tr>\n",
       "    <tr>\n",
       "      <th>min</th>\n",
       "      <td>-0.084886</td>\n",
       "      <td>-166.000000</td>\n",
       "      <td>-0.347383</td>\n",
       "      <td>-8.000000</td>\n",
       "      <td>-95.000000</td>\n",
       "      <td>-0.145971</td>\n",
       "      <td>-106.000000</td>\n",
       "      <td>-0.127450</td>\n",
       "      <td>-0.292237</td>\n",
       "      <td>-303.000000</td>\n",
       "      <td>-0.174268</td>\n",
       "      <td>27.000000</td>\n",
       "      <td>-328.000000</td>\n",
       "      <td>-0.097375</td>\n",
       "      <td>-119.000000</td>\n",
       "      <td>-0.078903</td>\n",
       "    </tr>\n",
       "    <tr>\n",
       "      <th>25%</th>\n",
       "      <td>-0.029628</td>\n",
       "      <td>-37.000000</td>\n",
       "      <td>-0.050026</td>\n",
       "      <td>-3.000000</td>\n",
       "      <td>-25.000000</td>\n",
       "      <td>-0.072347</td>\n",
       "      <td>-20.000000</td>\n",
       "      <td>-0.033368</td>\n",
       "      <td>-0.011303</td>\n",
       "      <td>-6.000000</td>\n",
       "      <td>-0.037581</td>\n",
       "      <td>-7.000000</td>\n",
       "      <td>-72.000000</td>\n",
       "      <td>-0.144324</td>\n",
       "      <td>5.000000</td>\n",
       "      <td>-0.036242</td>\n",
       "    </tr>\n",
       "    <tr>\n",
       "      <th>50%</th>\n",
       "      <td>-0.016636</td>\n",
       "      <td>5.000000</td>\n",
       "      <td>-0.023722</td>\n",
       "      <td>-1.000000</td>\n",
       "      <td>-10.000000</td>\n",
       "      <td>-0.049092</td>\n",
       "      <td>5.000000</td>\n",
       "      <td>-0.019801</td>\n",
       "      <td>0.005228</td>\n",
       "      <td>83.000000</td>\n",
       "      <td>0.033094</td>\n",
       "      <td>-5.000000</td>\n",
       "      <td>-19.000000</td>\n",
       "      <td>-0.059173</td>\n",
       "      <td>99.000000</td>\n",
       "      <td>0.056302</td>\n",
       "    </tr>\n",
       "    <tr>\n",
       "      <th>75%</th>\n",
       "      <td>0.000905</td>\n",
       "      <td>36.000000</td>\n",
       "      <td>0.007747</td>\n",
       "      <td>0.000000</td>\n",
       "      <td>12.000000</td>\n",
       "      <td>0.025638</td>\n",
       "      <td>26.500000</td>\n",
       "      <td>-0.000711</td>\n",
       "      <td>0.017137</td>\n",
       "      <td>154.500000</td>\n",
       "      <td>0.109723</td>\n",
       "      <td>-2.000000</td>\n",
       "      <td>25.000000</td>\n",
       "      <td>0.104394</td>\n",
       "      <td>174.500000</td>\n",
       "      <td>0.107505</td>\n",
       "    </tr>\n",
       "    <tr>\n",
       "      <th>max</th>\n",
       "      <td>0.017432</td>\n",
       "      <td>292.000000</td>\n",
       "      <td>0.293315</td>\n",
       "      <td>2.000000</td>\n",
       "      <td>96.000000</td>\n",
       "      <td>1.548571</td>\n",
       "      <td>244.000000</td>\n",
       "      <td>-0.164399</td>\n",
       "      <td>0.235280</td>\n",
       "      <td>398.000000</td>\n",
       "      <td>1.930818</td>\n",
       "      <td>9.000000</td>\n",
       "      <td>128.000000</td>\n",
       "      <td>3.467500</td>\n",
       "      <td>392.000000</td>\n",
       "      <td>-1.619108</td>\n",
       "    </tr>\n",
       "  </tbody>\n",
       "</table>\n",
       "</div>"
      ],
      "text/plain": [
       "       turnout_2019_absoulute_variance  valid_votes_2019_absoulute_variance  \\\n",
       "count                    -15832.000000                        -15832.000000   \n",
       "mean                         -0.011610                             0.014822   \n",
       "std                           0.023979                            46.523718   \n",
       "min                          -0.084886                          -166.000000   \n",
       "25%                          -0.029628                           -37.000000   \n",
       "50%                          -0.016636                             5.000000   \n",
       "75%                           0.000905                            36.000000   \n",
       "max                           0.017432                           292.000000   \n",
       "\n",
       "       valid_votes_2019_pct_variance  invalid_votes_2019_absoulute_variance  \\\n",
       "count                  -15832.000000                          -15832.000000   \n",
       "mean                       -0.005005                              -1.685251   \n",
       "std                         0.062648                               2.267005   \n",
       "min                        -0.347383                              -8.000000   \n",
       "25%                        -0.050026                              -3.000000   \n",
       "50%                        -0.023722                              -1.000000   \n",
       "75%                         0.007747                               0.000000   \n",
       "max                         0.293315                               2.000000   \n",
       "\n",
       "       PiS_votes_2019_absoulute_variance  PiS_votes_2019_pct_variance  \\\n",
       "count                      -15832.000000                -15832.000000   \n",
       "mean                           -4.570602                     0.009524   \n",
       "std                            23.332433                     0.149844   \n",
       "min                           -95.000000                    -0.145971   \n",
       "25%                           -25.000000                    -0.072347   \n",
       "50%                           -10.000000                    -0.049092   \n",
       "75%                            12.000000                     0.025638   \n",
       "max                            96.000000                     1.548571   \n",
       "\n",
       "       non_PiS_votes_2019_absoulute_variance  non_PiS_votes_2019_pct_variance  \\\n",
       "count                          -15832.000000                    -15832.000000   \n",
       "mean                                4.585425                        -0.009649   \n",
       "std                                32.832187                         0.051150   \n",
       "min                              -106.000000                        -0.127450   \n",
       "25%                               -20.000000                        -0.033368   \n",
       "50%                                 5.000000                        -0.019801   \n",
       "75%                                26.500000                        -0.000711   \n",
       "max                               244.000000                        -0.164399   \n",
       "\n",
       "       turnout_2015_absoulute_variance  valid_votes_2015_absoulute_variance  \\\n",
       "count                    -15832.000000                        -15832.000000   \n",
       "mean                          0.002721                            67.572062   \n",
       "std                           0.029604                           120.558549   \n",
       "min                          -0.292237                          -303.000000   \n",
       "25%                          -0.011303                            -6.000000   \n",
       "50%                           0.005228                            83.000000   \n",
       "75%                           0.017137                           154.500000   \n",
       "max                           0.235280                           398.000000   \n",
       "\n",
       "       valid_votes_2015_pct_variance  invalid_votes_2015_absoulute_variance  \\\n",
       "count                  -15832.000000                          -15832.000000   \n",
       "mean                        0.040942                              -4.545786   \n",
       "std                         0.157807                               2.907013   \n",
       "min                        -0.174268                              27.000000   \n",
       "25%                        -0.037581                              -7.000000   \n",
       "50%                         0.033094                              -5.000000   \n",
       "75%                         0.109723                              -2.000000   \n",
       "max                         1.930818                               9.000000   \n",
       "\n",
       "       PiS_votes_2015_absoulute_variance  PiS_votes_2015_pct_variance  \\\n",
       "count                      -15832.000000                -15832.000000   \n",
       "mean                          -22.053787                     0.021888   \n",
       "std                            62.035108                     0.290964   \n",
       "min                          -328.000000                    -0.097375   \n",
       "25%                           -72.000000                    -0.144324   \n",
       "50%                           -19.000000                    -0.059173   \n",
       "75%                            25.000000                     0.104394   \n",
       "max                           128.000000                     3.467500   \n",
       "\n",
       "       non_PiS_votes_2015_absoulute_variance  non_PiS_votes_2015_pct_variance  \n",
       "count                          -15832.000000                    -15832.000000  \n",
       "mean                               89.625849                         0.024328  \n",
       "std                                97.634041                         0.117613  \n",
       "min                              -119.000000                        -0.078903  \n",
       "25%                                 5.000000                        -0.036242  \n",
       "50%                                99.000000                         0.056302  \n",
       "75%                               174.500000                         0.107505  \n",
       "max                               392.000000                        -1.619108  "
      ]
     },
     "execution_count": 257,
     "metadata": {},
     "output_type": "execute_result"
    }
   ],
   "source": [
    "df_outlier[sanity_check_columns].describe()-df_norm[sanity_check_columns].describe()"
   ]
  },
  {
   "cell_type": "markdown",
   "metadata": {},
   "source": [
    "## Second approach to pct change based model"
   ]
  },
  {
   "cell_type": "code",
   "execution_count": 258,
   "metadata": {},
   "outputs": [],
   "source": [
    "variance_columns=['is_village','turnout_2020','entitled_to_vote_2020',\n",
    "     \n",
    "             \n",
    "       'turnout_2019_absoulute_variance',\n",
    "\n",
    "    \n",
    "\n",
    "       'valid_votes_2019_pct_variance',\n",
    "\n",
    "                  \n",
    "\n",
    "       'PiS_votes_2019_pct_variance',\n",
    "\n",
    "       'non_PiS_votes_2019_pct_variance',\n",
    "     \n",
    "       'turnout_2015_absoulute_variance',\n",
    "\n",
    "\n",
    "       'valid_votes_2015_pct_variance',\n",
    "\n",
    "\n",
    "       'PiS_votes_2015_pct_variance', \n",
    "\n",
    "       'non_PiS_votes_2015_pct_variance', ]"
   ]
  },
  {
   "cell_type": "code",
   "execution_count": 259,
   "metadata": {},
   "outputs": [],
   "source": [
    "X_var=df[variance_columns]"
   ]
  },
  {
   "cell_type": "code",
   "execution_count": 260,
   "metadata": {},
   "outputs": [
    {
     "data": {
      "text/plain": [
       "(19790, 11)"
      ]
     },
     "execution_count": 260,
     "metadata": {},
     "output_type": "execute_result"
    }
   ],
   "source": [
    "X_var.shape"
   ]
  },
  {
   "cell_type": "code",
   "execution_count": 261,
   "metadata": {},
   "outputs": [
    {
     "data": {
      "text/plain": [
       "IsolationForest(behaviour='deprecated', bootstrap=True, contamination=0.1,\n",
       "                max_features=5, max_samples='auto', n_estimators=400,\n",
       "                n_jobs=None, random_state=40, verbose=0, warm_start=False)"
      ]
     },
     "execution_count": 261,
     "metadata": {},
     "output_type": "execute_result"
    }
   ],
   "source": [
    "IF.fit(X_var)"
   ]
  },
  {
   "cell_type": "code",
   "execution_count": 262,
   "metadata": {},
   "outputs": [],
   "source": [
    "var_anomaly_arr=IF.predict(X_var)"
   ]
  },
  {
   "cell_type": "code",
   "execution_count": 263,
   "metadata": {},
   "outputs": [],
   "source": [
    "df[\"is_variance_anomaly\"]=np.where(var_anomaly_arr==1,0,1)"
   ]
  },
  {
   "cell_type": "code",
   "execution_count": 264,
   "metadata": {},
   "outputs": [
    {
     "data": {
      "text/plain": [
       "Index(['DEC_no', 'teritorial_code', 'municipality_type', 'voting_region_no',\n",
       "       'area_type', 'Location', 'municipality', 'county', 'province',\n",
       "       'entitled_to_vote_2020', 'valid_votes_2020', 'invalid_votes_2020',\n",
       "       'PiS_votes_2020', 'non_PiS_votes_2020', 'turnout_2020',\n",
       "       'entitled_to_vote_2019', 'valid_votes_2019', 'invalid_votes_2019',\n",
       "       'PiS_votes_2019', 'non_PiS_votes_2019', 'turnout_2019',\n",
       "       'entitled_to_vote_2015', 'valid_votes_2015', 'invalid_votes_2015',\n",
       "       'PiS_votes_2015', 'non_PiS_votes_2015', 'turnout_2015',\n",
       "       'entitled_to_vote_2019_absoulute_variance',\n",
       "       'entitled_to_vote_2019_pct_variance',\n",
       "       'valid_votes_2019_absoulute_variance', 'valid_votes_2019_pct_variance',\n",
       "       'invalid_votes_2019_absoulute_variance',\n",
       "       'invalid_votes_2019_pct_variance', 'turnout_2019_absoulute_variance',\n",
       "       'turnout_2019_pct_variance', 'PiS_votes_2019_absoulute_variance',\n",
       "       'PiS_votes_2019_pct_variance', 'non_PiS_votes_2019_absoulute_variance',\n",
       "       'non_PiS_votes_2019_pct_variance',\n",
       "       'entitled_to_vote_2015_absoulute_variance',\n",
       "       'entitled_to_vote_2015_pct_variance',\n",
       "       'valid_votes_2015_absoulute_variance', 'valid_votes_2015_pct_variance',\n",
       "       'invalid_votes_2015_absoulute_variance',\n",
       "       'invalid_votes_2015_pct_variance', 'turnout_2015_absoulute_variance',\n",
       "       'turnout_2015_pct_variance', 'PiS_votes_2015_absoulute_variance',\n",
       "       'PiS_votes_2015_pct_variance', 'non_PiS_votes_2015_absoulute_variance',\n",
       "       'non_PiS_votes_2015_pct_variance', 'sufficient_sample', 'is_village',\n",
       "       'is_anomaly', 'is_variance_anomaly'],\n",
       "      dtype='object')"
      ]
     },
     "execution_count": 264,
     "metadata": {},
     "output_type": "execute_result"
    }
   ],
   "source": [
    "df.columns"
   ]
  },
  {
   "cell_type": "markdown",
   "metadata": {},
   "source": [
    "# Rule based outliers"
   ]
  },
  {
   "cell_type": "markdown",
   "metadata": {},
   "source": [
    "## Decile exclusion"
   ]
  },
  {
   "cell_type": "code",
   "execution_count": 265,
   "metadata": {},
   "outputs": [],
   "source": [
    "decile_exclusion_dict={\n",
    "    \"decile_PiS_increase_2019\":'PiS_votes_2019_pct_variance',\n",
    "    \"decile_non_PiS_decrease_2019\":'non_PiS_votes_2019_pct_variance',\n",
    "    \"decile_turnout_increase_2019\":'turnout_2019_absoulute_variance',\n",
    "    \n",
    "    \"decile_PiS_increase_2015\":'PiS_votes_2015_pct_variance',\n",
    "    \"decile_non_PiS_decrease_2015\":'non_PiS_votes_2015_pct_variance',\n",
    "    \"decile_turnout_increase_2015\":'turnout_2015_absoulute_variance'\n",
    "    \n",
    "\n",
    "    \n",
    "}"
   ]
  },
  {
   "cell_type": "code",
   "execution_count": 266,
   "metadata": {},
   "outputs": [],
   "source": [
    "normal_buckets=[\"decile_PiS_increase_2019\",\"decile_turnout_increase_2019\",\n",
    "                \"decile_PiS_increase_2015\",\"decile_turnout_increase_2015\"]\n",
    "\n",
    "reversed_buckets=[\"decile_non_PiS_decrease_2019\",\"decile_non_PiS_decrease_2015\"]"
   ]
  },
  {
   "cell_type": "code",
   "execution_count": 267,
   "metadata": {},
   "outputs": [],
   "source": [
    "normal_labels=np.ones([10,])\n",
    "for i in range(0,normal_labels.shape[0]):\n",
    "    normal_labels[i]=i+1"
   ]
  },
  {
   "cell_type": "code",
   "execution_count": 268,
   "metadata": {},
   "outputs": [],
   "source": [
    "reversed_labels=np.ones([10,])\n",
    "for i in range(0,reversed_labels.shape[0]):\n",
    "    reversed_labels[i]=normal_labels[9-i]"
   ]
  },
  {
   "cell_type": "code",
   "execution_count": 269,
   "metadata": {},
   "outputs": [],
   "source": [
    "bin_count=10\n",
    "\n",
    "for feature in normal_buckets:\n",
    "    df[feature]=pd.qcut(df[decile_exclusion_dict[feature]],10,labels=normal_labels).astype(int)\n",
    "    \n",
    "for feature in reversed_buckets:\n",
    "    df[feature]=pd.qcut(df[decile_exclusion_dict[feature]],10,labels=reversed_labels).astype(int)"
   ]
  },
  {
   "cell_type": "code",
   "execution_count": 270,
   "metadata": {},
   "outputs": [
    {
     "data": {
      "text/plain": [
       "Index(['DEC_no', 'teritorial_code', 'municipality_type', 'voting_region_no',\n",
       "       'area_type', 'Location', 'municipality', 'county', 'province',\n",
       "       'entitled_to_vote_2020', 'valid_votes_2020', 'invalid_votes_2020',\n",
       "       'PiS_votes_2020', 'non_PiS_votes_2020', 'turnout_2020',\n",
       "       'entitled_to_vote_2019', 'valid_votes_2019', 'invalid_votes_2019',\n",
       "       'PiS_votes_2019', 'non_PiS_votes_2019', 'turnout_2019',\n",
       "       'entitled_to_vote_2015', 'valid_votes_2015', 'invalid_votes_2015',\n",
       "       'PiS_votes_2015', 'non_PiS_votes_2015', 'turnout_2015',\n",
       "       'entitled_to_vote_2019_absoulute_variance',\n",
       "       'entitled_to_vote_2019_pct_variance',\n",
       "       'valid_votes_2019_absoulute_variance', 'valid_votes_2019_pct_variance',\n",
       "       'invalid_votes_2019_absoulute_variance',\n",
       "       'invalid_votes_2019_pct_variance', 'turnout_2019_absoulute_variance',\n",
       "       'turnout_2019_pct_variance', 'PiS_votes_2019_absoulute_variance',\n",
       "       'PiS_votes_2019_pct_variance', 'non_PiS_votes_2019_absoulute_variance',\n",
       "       'non_PiS_votes_2019_pct_variance',\n",
       "       'entitled_to_vote_2015_absoulute_variance',\n",
       "       'entitled_to_vote_2015_pct_variance',\n",
       "       'valid_votes_2015_absoulute_variance', 'valid_votes_2015_pct_variance',\n",
       "       'invalid_votes_2015_absoulute_variance',\n",
       "       'invalid_votes_2015_pct_variance', 'turnout_2015_absoulute_variance',\n",
       "       'turnout_2015_pct_variance', 'PiS_votes_2015_absoulute_variance',\n",
       "       'PiS_votes_2015_pct_variance', 'non_PiS_votes_2015_absoulute_variance',\n",
       "       'non_PiS_votes_2015_pct_variance', 'sufficient_sample', 'is_village',\n",
       "       'is_anomaly', 'is_variance_anomaly', 'decile_PiS_increase_2019',\n",
       "       'decile_turnout_increase_2019', 'decile_PiS_increase_2015',\n",
       "       'decile_turnout_increase_2015', 'decile_non_PiS_decrease_2019',\n",
       "       'decile_non_PiS_decrease_2015'],\n",
       "      dtype='object')"
      ]
     },
     "execution_count": 270,
     "metadata": {},
     "output_type": "execute_result"
    }
   ],
   "source": [
    "df.columns"
   ]
  },
  {
   "cell_type": "code",
   "execution_count": 271,
   "metadata": {},
   "outputs": [],
   "source": [
    "df[\"decile_outlier_count\"]=(df.iloc[:,-6:]==10).sum(axis=1)"
   ]
  },
  {
   "cell_type": "code",
   "execution_count": 278,
   "metadata": {},
   "outputs": [
    {
     "data": {
      "text/plain": [
       "0.06260737746336534"
      ]
     },
     "execution_count": 278,
     "metadata": {},
     "output_type": "execute_result"
    }
   ],
   "source": [
    "df_anomalies.shape[0]/df.shape[0]"
   ]
  },
  {
   "cell_type": "code",
   "execution_count": 272,
   "metadata": {},
   "outputs": [],
   "source": [
    "df_anomalies=df.query(\"decile_outlier_count>=3\")"
   ]
  },
  {
   "cell_type": "code",
   "execution_count": 273,
   "metadata": {},
   "outputs": [
    {
     "data": {
      "text/plain": [
       "0.2857142857142857"
      ]
     },
     "execution_count": 273,
     "metadata": {},
     "output_type": "execute_result"
    }
   ],
   "source": [
    "df_anomalies.is_anomaly.mean()"
   ]
  },
  {
   "cell_type": "code",
   "execution_count": 274,
   "metadata": {},
   "outputs": [
    {
     "data": {
      "text/plain": [
       "0.513317191283293"
      ]
     },
     "execution_count": 274,
     "metadata": {},
     "output_type": "execute_result"
    }
   ],
   "source": [
    "df_anomalies.is_variance_anomaly.mean()"
   ]
  },
  {
   "cell_type": "code",
   "execution_count": 280,
   "metadata": {},
   "outputs": [],
   "source": [
    "#df.to_excel(\"flagged_voting_anomalies.xlsx\",index=False)"
   ]
  },
  {
   "cell_type": "code",
   "execution_count": 279,
   "metadata": {},
   "outputs": [],
   "source": [
    "df_anomalies.to_excel(\"voting_anomalies_top5pct.xlsx\",index=False)"
   ]
  },
  {
   "cell_type": "code",
   "execution_count": null,
   "metadata": {},
   "outputs": [],
   "source": []
  }
 ],
 "metadata": {
  "kernelspec": {
   "display_name": "Python 3",
   "language": "python",
   "name": "python3"
  },
  "language_info": {
   "codemirror_mode": {
    "name": "ipython",
    "version": 3
   },
   "file_extension": ".py",
   "mimetype": "text/x-python",
   "name": "python",
   "nbconvert_exporter": "python",
   "pygments_lexer": "ipython3",
   "version": "3.7.3"
  },
  "toc": {
   "base_numbering": 1,
   "nav_menu": {},
   "number_sections": true,
   "sideBar": true,
   "skip_h1_title": false,
   "title_cell": "Table of Contents",
   "title_sidebar": "Contents",
   "toc_cell": false,
   "toc_position": {
    "height": "calc(100% - 180px)",
    "left": "10px",
    "top": "150px",
    "width": "283.69px"
   },
   "toc_section_display": true,
   "toc_window_display": true
  }
 },
 "nbformat": 4,
 "nbformat_minor": 2
}
